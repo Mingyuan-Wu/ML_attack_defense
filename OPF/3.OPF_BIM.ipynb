{
 "cells": [
  {
   "cell_type": "code",
   "execution_count": 1,
   "metadata": {},
   "outputs": [],
   "source": [
    "import tensorflow as tf\n",
    "import tensorflow.keras as keras\n",
    "from tensorflow.keras.models import Sequential\n",
    "from tensorflow.keras.layers import Dense, Dropout, LSTM, SimpleRNN, Activation\n",
    "import numpy as np\n",
    "import pandas as pd\n",
    "import matplotlib.pyplot as plt\n",
    "\n",
    "from keras.preprocessing.sequence import TimeseriesGenerator\n",
    "from sklearn.model_selection import train_test_split\n",
    "from sklearn.preprocessing import StandardScaler, MinMaxScaler\n",
    "\n",
    "from sklearn.metrics import r2_score\n",
    "from sklearn.metrics import mean_absolute_percentage_error\n",
    "\n",
    "from sklearn.decomposition import PCA"
   ]
  },
  {
   "cell_type": "code",
   "execution_count": 2,
   "metadata": {},
   "outputs": [],
   "source": [
    "path = \"F:\\JupyterNotebook_Dir\\REAM _Lab\\OPF\\SUMMARY TABLE\\Inverter_Ouput_Gen_4.xlsx\"\n",
    "df = pd.read_excel(path)       #read data\n",
    "\n",
    "q_inverter = df[\"q_inverter\"].values;\n",
    "p_demand = df[\"net_p_demand\"].values      #access columns\n",
    "q_consumption = df[\"q_consumption\"].values;\n",
    "q_capacity = df[\"q_capacity\"].values;\n",
    "p_x_q = df[\"p_x_q\"].values\n",
    "p_x_p = df[\"p_x_p\"].values\n",
    "p_x_q_capacity = df[\"p_x_q_capacity\"].values;\n",
    "voltage = df[\"voltage\"].values;\n",
    "\n",
    "\n",
    "\n",
    "data_output = q_inverter\n",
    "\n",
    "data_input = np.vstack((p_demand,q_consumption,q_capacity,p_x_q,p_x_p,p_x_q_capacity,voltage)).T"
   ]
  },
  {
   "cell_type": "code",
   "execution_count": 3,
   "metadata": {},
   "outputs": [
    {
     "name": "stdout",
     "output_type": "stream",
     "text": [
      "(2400, 7)\n",
      "[1.01674266 0.96960554 0.8726523  ... 1.30365752 2.04694708 1.44945981]\n"
     ]
    }
   ],
   "source": [
    "print(data_input.shape)\n",
    "print(data_output)"
   ]
  },
  {
   "cell_type": "code",
   "execution_count": 4,
   "metadata": {},
   "outputs": [],
   "source": [
    "def rnn_model(seq_length, input_dim):\n",
    "    model = Sequential()\n",
    "#     model.add(tf.keras.layers.LSTM(128, input_shape= (seq_length, input_dim), return_sequences=False))\n",
    "    model.add((SimpleRNN(60, input_shape=(seq_length, input_dim))))\n",
    "#     model.add(Activation('relu'))\n",
    "    model.add(tf.keras.layers.LeakyReLU(alpha=0.1))\n",
    "    model.add(Dropout(0.2))\n",
    "    \n",
    "    model.add(Dense(60))\n",
    "    model.add(Activation('relu'))\n",
    "    model.add(Dropout(0.2))\n",
    "    model.add(Dense(30))\n",
    "    model.add(Activation('relu'))\n",
    "    model.add(Dropout(0.2))\n",
    "    model.add(Dense(1))\n",
    "    return model"
   ]
  },
  {
   "cell_type": "code",
   "execution_count": 5,
   "metadata": {},
   "outputs": [],
   "source": [
    "scaler_input = StandardScaler()\n",
    "scaler_output = StandardScaler()\n",
    "\n",
    "datas_scaled = scaler_input.fit_transform(data_input)\n",
    "features = datas_scaled\n",
    "\n",
    "data_output = data_output.reshape(-1,1)\n",
    "target = scaler_output.fit_transform(data_output)\n",
    "target = target.reshape(-1,1)\n",
    "\n",
    "\n",
    "x_train, x_test, y_train, y_test = train_test_split(features, target, test_size=0.2, random_state=123, shuffle=False)\n",
    "x_train.shape\n",
    "win_length = 20\n",
    "batch_size = 500\n",
    "num_features = 7\n",
    "train_generator = tf.keras.preprocessing.sequence.TimeseriesGenerator(x_train, y_train, length=win_length, sampling_rate=1, batch_size=batch_size)\n",
    "test_generator = tf.keras.preprocessing.sequence.TimeseriesGenerator(x_test, y_test, length=win_length, sampling_rate=1, batch_size=batch_size)"
   ]
  },
  {
   "cell_type": "code",
   "execution_count": 6,
   "metadata": {
    "scrolled": true
   },
   "outputs": [
    {
     "name": "stdout",
     "output_type": "stream",
     "text": [
      "WARNING:tensorflow:From <ipython-input-6-6c2519aaf3d6>:3: Model.fit_generator (from tensorflow.python.keras.engine.training) is deprecated and will be removed in a future version.\n",
      "Instructions for updating:\n",
      "Please use Model.fit, which supports generators.\n",
      "Epoch 1/100\n",
      "4/4 [==============================] - 1s 208ms/step - loss: 0.5053 - mean_absolute_error: 0.4556 - val_loss: 4.2935 - val_mean_absolute_error: 1.6494\n",
      "Epoch 2/100\n",
      "4/4 [==============================] - 0s 32ms/step - loss: 0.4115 - mean_absolute_error: 0.3570 - val_loss: 4.2169 - val_mean_absolute_error: 1.6350\n",
      "Epoch 3/100\n",
      "4/4 [==============================] - 0s 29ms/step - loss: 0.3679 - mean_absolute_error: 0.3223 - val_loss: 4.0430 - val_mean_absolute_error: 1.5913\n",
      "Epoch 4/100\n",
      "4/4 [==============================] - 0s 30ms/step - loss: 0.3502 - mean_absolute_error: 0.3224 - val_loss: 3.8789 - val_mean_absolute_error: 1.5498\n",
      "Epoch 5/100\n",
      "4/4 [==============================] - 0s 32ms/step - loss: 0.3408 - mean_absolute_error: 0.3242 - val_loss: 3.7855 - val_mean_absolute_error: 1.5272\n",
      "Epoch 6/100\n",
      "4/4 [==============================] - 0s 35ms/step - loss: 0.3374 - mean_absolute_error: 0.3242 - val_loss: 3.7836 - val_mean_absolute_error: 1.5298\n",
      "Epoch 7/100\n",
      "4/4 [==============================] - 0s 35ms/step - loss: 0.3157 - mean_absolute_error: 0.3026 - val_loss: 3.8573 - val_mean_absolute_error: 1.5535\n",
      "Epoch 8/100\n",
      "4/4 [==============================] - 0s 37ms/step - loss: 0.3122 - mean_absolute_error: 0.3050 - val_loss: 3.9955 - val_mean_absolute_error: 1.5976\n",
      "Epoch 9/100\n",
      "4/4 [==============================] - 0s 36ms/step - loss: 0.3059 - mean_absolute_error: 0.2999 - val_loss: 4.1379 - val_mean_absolute_error: 1.6421\n",
      "Epoch 10/100\n",
      "4/4 [==============================] - 0s 35ms/step - loss: 0.3125 - mean_absolute_error: 0.3068 - val_loss: 4.1441 - val_mean_absolute_error: 1.6445\n",
      "Epoch 11/100\n",
      "4/4 [==============================] - 0s 32ms/step - loss: 0.2993 - mean_absolute_error: 0.3014 - val_loss: 4.0207 - val_mean_absolute_error: 1.6071\n",
      "Epoch 12/100\n",
      "4/4 [==============================] - 0s 30ms/step - loss: 0.2975 - mean_absolute_error: 0.2952 - val_loss: 3.9305 - val_mean_absolute_error: 1.5798\n",
      "Epoch 13/100\n",
      "4/4 [==============================] - 0s 31ms/step - loss: 0.2927 - mean_absolute_error: 0.2939 - val_loss: 3.9462 - val_mean_absolute_error: 1.5837\n",
      "Epoch 14/100\n",
      "4/4 [==============================] - 0s 38ms/step - loss: 0.2872 - mean_absolute_error: 0.2968 - val_loss: 4.0344 - val_mean_absolute_error: 1.6083\n",
      "Epoch 15/100\n",
      "4/4 [==============================] - 0s 33ms/step - loss: 0.2887 - mean_absolute_error: 0.2917 - val_loss: 4.1539 - val_mean_absolute_error: 1.6414\n",
      "Epoch 16/100\n",
      "4/4 [==============================] - 0s 28ms/step - loss: 0.2766 - mean_absolute_error: 0.2858 - val_loss: 4.2251 - val_mean_absolute_error: 1.6622\n",
      "Epoch 17/100\n",
      "4/4 [==============================] - 0s 30ms/step - loss: 0.2794 - mean_absolute_error: 0.2873 - val_loss: 4.2373 - val_mean_absolute_error: 1.6659\n",
      "Epoch 18/100\n",
      "4/4 [==============================] - 0s 30ms/step - loss: 0.2768 - mean_absolute_error: 0.2818 - val_loss: 4.1631 - val_mean_absolute_error: 1.6440\n",
      "Epoch 19/100\n",
      "4/4 [==============================] - 0s 32ms/step - loss: 0.2745 - mean_absolute_error: 0.2811 - val_loss: 4.0977 - val_mean_absolute_error: 1.6264\n",
      "Epoch 20/100\n",
      "4/4 [==============================] - 0s 31ms/step - loss: 0.2698 - mean_absolute_error: 0.2791 - val_loss: 4.0464 - val_mean_absolute_error: 1.6143\n",
      "Epoch 21/100\n",
      "4/4 [==============================] - 0s 31ms/step - loss: 0.2773 - mean_absolute_error: 0.2855 - val_loss: 4.1212 - val_mean_absolute_error: 1.6362\n",
      "Epoch 22/100\n",
      "4/4 [==============================] - 0s 28ms/step - loss: 0.2669 - mean_absolute_error: 0.2794 - val_loss: 4.2647 - val_mean_absolute_error: 1.6757\n",
      "Epoch 23/100\n",
      "4/4 [==============================] - 0s 33ms/step - loss: 0.2645 - mean_absolute_error: 0.2750 - val_loss: 4.2243 - val_mean_absolute_error: 1.6645\n",
      "Epoch 24/100\n",
      "4/4 [==============================] - 0s 32ms/step - loss: 0.2691 - mean_absolute_error: 0.2773 - val_loss: 4.1113 - val_mean_absolute_error: 1.6337\n",
      "Epoch 25/100\n",
      "4/4 [==============================] - 0s 34ms/step - loss: 0.2646 - mean_absolute_error: 0.2715 - val_loss: 4.1198 - val_mean_absolute_error: 1.6350\n",
      "Epoch 26/100\n",
      "4/4 [==============================] - 0s 34ms/step - loss: 0.2675 - mean_absolute_error: 0.2737 - val_loss: 4.1576 - val_mean_absolute_error: 1.6446\n",
      "Epoch 27/100\n",
      "4/4 [==============================] - 0s 36ms/step - loss: 0.2507 - mean_absolute_error: 0.2691 - val_loss: 4.1479 - val_mean_absolute_error: 1.6449\n",
      "Epoch 28/100\n",
      "4/4 [==============================] - 0s 34ms/step - loss: 0.2609 - mean_absolute_error: 0.2728 - val_loss: 4.1295 - val_mean_absolute_error: 1.6415\n",
      "Epoch 29/100\n",
      "4/4 [==============================] - 0s 33ms/step - loss: 0.2590 - mean_absolute_error: 0.2694 - val_loss: 4.1698 - val_mean_absolute_error: 1.6496\n",
      "Epoch 30/100\n",
      "4/4 [==============================] - 0s 36ms/step - loss: 0.2564 - mean_absolute_error: 0.2683 - val_loss: 4.1705 - val_mean_absolute_error: 1.6504\n",
      "Epoch 31/100\n",
      "4/4 [==============================] - 0s 35ms/step - loss: 0.2671 - mean_absolute_error: 0.2755 - val_loss: 4.0759 - val_mean_absolute_error: 1.6263\n",
      "Epoch 32/100\n",
      "4/4 [==============================] - 0s 23ms/step - loss: 0.2620 - mean_absolute_error: 0.2722 - val_loss: 4.1565 - val_mean_absolute_error: 1.6466\n",
      "Epoch 33/100\n",
      "4/4 [==============================] - 0s 30ms/step - loss: 0.2714 - mean_absolute_error: 0.2740 - val_loss: 4.2557 - val_mean_absolute_error: 1.6695\n",
      "Epoch 34/100\n",
      "4/4 [==============================] - 0s 30ms/step - loss: 0.2551 - mean_absolute_error: 0.2613 - val_loss: 4.2108 - val_mean_absolute_error: 1.6609\n",
      "Epoch 35/100\n",
      "4/4 [==============================] - 0s 31ms/step - loss: 0.2517 - mean_absolute_error: 0.2590 - val_loss: 4.1963 - val_mean_absolute_error: 1.6562\n",
      "Epoch 36/100\n",
      "4/4 [==============================] - 0s 31ms/step - loss: 0.2492 - mean_absolute_error: 0.2596 - val_loss: 4.2480 - val_mean_absolute_error: 1.6674\n",
      "Epoch 37/100\n",
      "4/4 [==============================] - 0s 28ms/step - loss: 0.2423 - mean_absolute_error: 0.2557 - val_loss: 4.1779 - val_mean_absolute_error: 1.6527\n",
      "Epoch 38/100\n",
      "4/4 [==============================] - 0s 30ms/step - loss: 0.2454 - mean_absolute_error: 0.2550 - val_loss: 4.1511 - val_mean_absolute_error: 1.6465\n",
      "Epoch 39/100\n",
      "4/4 [==============================] - 0s 30ms/step - loss: 0.2335 - mean_absolute_error: 0.2515 - val_loss: 4.1944 - val_mean_absolute_error: 1.6551\n",
      "Epoch 40/100\n",
      "4/4 [==============================] - 0s 31ms/step - loss: 0.2423 - mean_absolute_error: 0.2576 - val_loss: 4.2064 - val_mean_absolute_error: 1.6566\n",
      "Epoch 41/100\n",
      "4/4 [==============================] - 0s 29ms/step - loss: 0.2469 - mean_absolute_error: 0.2611 - val_loss: 4.1163 - val_mean_absolute_error: 1.6356\n",
      "Epoch 42/100\n",
      "4/4 [==============================] - 0s 28ms/step - loss: 0.2434 - mean_absolute_error: 0.2563 - val_loss: 4.1467 - val_mean_absolute_error: 1.6404\n",
      "Epoch 43/100\n",
      "4/4 [==============================] - 0s 30ms/step - loss: 0.2354 - mean_absolute_error: 0.2522 - val_loss: 4.1935 - val_mean_absolute_error: 1.6523\n",
      "Epoch 44/100\n",
      "4/4 [==============================] - 0s 30ms/step - loss: 0.2354 - mean_absolute_error: 0.2494 - val_loss: 4.2308 - val_mean_absolute_error: 1.6647\n",
      "Epoch 45/100\n",
      "4/4 [==============================] - 0s 31ms/step - loss: 0.2348 - mean_absolute_error: 0.2523 - val_loss: 4.2687 - val_mean_absolute_error: 1.6725\n",
      "Epoch 46/100\n",
      "4/4 [==============================] - 0s 29ms/step - loss: 0.2311 - mean_absolute_error: 0.2466 - val_loss: 4.1888 - val_mean_absolute_error: 1.6513\n",
      "Epoch 47/100\n",
      "4/4 [==============================] - 0s 30ms/step - loss: 0.2264 - mean_absolute_error: 0.2451 - val_loss: 4.1660 - val_mean_absolute_error: 1.6432\n",
      "Epoch 48/100\n",
      "4/4 [==============================] - 0s 33ms/step - loss: 0.2237 - mean_absolute_error: 0.2496 - val_loss: 4.1896 - val_mean_absolute_error: 1.6497\n",
      "Epoch 49/100\n",
      "4/4 [==============================] - 0s 33ms/step - loss: 0.2320 - mean_absolute_error: 0.2486 - val_loss: 4.2324 - val_mean_absolute_error: 1.6595\n"
     ]
    },
    {
     "name": "stdout",
     "output_type": "stream",
     "text": [
      "Epoch 50/100\n",
      "4/4 [==============================] - 0s 29ms/step - loss: 0.2241 - mean_absolute_error: 0.2422 - val_loss: 4.2063 - val_mean_absolute_error: 1.6521\n",
      "Epoch 51/100\n",
      "4/4 [==============================] - 0s 34ms/step - loss: 0.2221 - mean_absolute_error: 0.2454 - val_loss: 4.1928 - val_mean_absolute_error: 1.6450\n",
      "Epoch 52/100\n",
      "4/4 [==============================] - 0s 33ms/step - loss: 0.2384 - mean_absolute_error: 0.2523 - val_loss: 3.9758 - val_mean_absolute_error: 1.5984\n",
      "Epoch 53/100\n",
      "4/4 [==============================] - 0s 34ms/step - loss: 0.2313 - mean_absolute_error: 0.2481 - val_loss: 4.1151 - val_mean_absolute_error: 1.6321\n",
      "Epoch 54/100\n",
      "4/4 [==============================] - 0s 30ms/step - loss: 0.2184 - mean_absolute_error: 0.2399 - val_loss: 4.3191 - val_mean_absolute_error: 1.6776\n",
      "Epoch 55/100\n",
      "4/4 [==============================] - 0s 31ms/step - loss: 0.2303 - mean_absolute_error: 0.2420 - val_loss: 4.3249 - val_mean_absolute_error: 1.6793\n",
      "Epoch 56/100\n",
      "4/4 [==============================] - 0s 35ms/step - loss: 0.2077 - mean_absolute_error: 0.2303 - val_loss: 4.2081 - val_mean_absolute_error: 1.6503\n",
      "Epoch 57/100\n",
      "4/4 [==============================] - 0s 34ms/step - loss: 0.1989 - mean_absolute_error: 0.2307 - val_loss: 4.1736 - val_mean_absolute_error: 1.6392\n",
      "Epoch 58/100\n",
      "4/4 [==============================] - 0s 48ms/step - loss: 0.2075 - mean_absolute_error: 0.2382 - val_loss: 4.2351 - val_mean_absolute_error: 1.6559\n",
      "Epoch 59/100\n",
      "4/4 [==============================] - 0s 35ms/step - loss: 0.1975 - mean_absolute_error: 0.2312 - val_loss: 4.2909 - val_mean_absolute_error: 1.6696\n",
      "Epoch 60/100\n",
      "4/4 [==============================] - ETA: 0s - loss: 0.0834 - mean_absolute_error: 0.177 - 0s 31ms/step - loss: 0.1942 - mean_absolute_error: 0.2284 - val_loss: 4.3031 - val_mean_absolute_error: 1.6707\n",
      "Epoch 61/100\n",
      "4/4 [==============================] - 0s 32ms/step - loss: 0.2000 - mean_absolute_error: 0.2278 - val_loss: 4.2577 - val_mean_absolute_error: 1.6609\n",
      "Epoch 62/100\n",
      "4/4 [==============================] - 0s 39ms/step - loss: 0.1946 - mean_absolute_error: 0.2254 - val_loss: 4.2758 - val_mean_absolute_error: 1.6643\n",
      "Epoch 63/100\n",
      "4/4 [==============================] - 0s 43ms/step - loss: 0.1886 - mean_absolute_error: 0.2242 - val_loss: 4.3063 - val_mean_absolute_error: 1.6685\n",
      "Epoch 64/100\n",
      "4/4 [==============================] - 0s 38ms/step - loss: 0.1890 - mean_absolute_error: 0.2227 - val_loss: 4.2839 - val_mean_absolute_error: 1.6639\n",
      "Epoch 65/100\n",
      "4/4 [==============================] - 0s 34ms/step - loss: 0.1795 - mean_absolute_error: 0.2190 - val_loss: 4.2601 - val_mean_absolute_error: 1.6584\n",
      "Epoch 66/100\n",
      "4/4 [==============================] - 0s 33ms/step - loss: 0.1751 - mean_absolute_error: 0.2193 - val_loss: 4.3003 - val_mean_absolute_error: 1.6676\n",
      "Epoch 67/100\n",
      "4/4 [==============================] - 0s 35ms/step - loss: 0.1768 - mean_absolute_error: 0.2152 - val_loss: 4.3103 - val_mean_absolute_error: 1.6689\n",
      "Epoch 68/100\n",
      "4/4 [==============================] - 0s 40ms/step - loss: 0.2034 - mean_absolute_error: 0.2340 - val_loss: 4.1674 - val_mean_absolute_error: 1.6301\n",
      "Epoch 69/100\n",
      "4/4 [==============================] - 0s 59ms/step - loss: 0.1889 - mean_absolute_error: 0.2302 - val_loss: 3.7866 - val_mean_absolute_error: 1.5531\n",
      "Epoch 70/100\n",
      "4/4 [==============================] - 0s 38ms/step - loss: 0.2283 - mean_absolute_error: 0.2398 - val_loss: 3.8847 - val_mean_absolute_error: 1.5797\n",
      "Epoch 71/100\n",
      "4/4 [==============================] - 0s 33ms/step - loss: 0.1692 - mean_absolute_error: 0.2178 - val_loss: 4.1897 - val_mean_absolute_error: 1.6435\n",
      "Epoch 72/100\n",
      "4/4 [==============================] - 0s 41ms/step - loss: 0.1661 - mean_absolute_error: 0.2165 - val_loss: 4.3028 - val_mean_absolute_error: 1.6695\n",
      "Epoch 73/100\n",
      "4/4 [==============================] - 0s 53ms/step - loss: 0.1539 - mean_absolute_error: 0.2023 - val_loss: 4.1901 - val_mean_absolute_error: 1.6429\n",
      "Epoch 74/100\n",
      "4/4 [==============================] - 0s 54ms/step - loss: 0.1388 - mean_absolute_error: 0.1992 - val_loss: 4.1103 - val_mean_absolute_error: 1.6248\n",
      "Epoch 75/100\n",
      "4/4 [==============================] - 0s 41ms/step - loss: 0.1406 - mean_absolute_error: 0.1952 - val_loss: 4.1553 - val_mean_absolute_error: 1.6334\n",
      "Epoch 76/100\n",
      "4/4 [==============================] - 0s 36ms/step - loss: 0.1207 - mean_absolute_error: 0.1892 - val_loss: 4.2283 - val_mean_absolute_error: 1.6482\n",
      "Epoch 77/100\n",
      "4/4 [==============================] - 0s 36ms/step - loss: 0.1186 - mean_absolute_error: 0.1848 - val_loss: 4.2427 - val_mean_absolute_error: 1.6520\n",
      "Epoch 78/100\n",
      "4/4 [==============================] - 0s 56ms/step - loss: 0.1143 - mean_absolute_error: 0.1851 - val_loss: 4.1826 - val_mean_absolute_error: 1.6395\n",
      "Epoch 79/100\n",
      "4/4 [==============================] - 0s 38ms/step - loss: 0.1126 - mean_absolute_error: 0.1841 - val_loss: 4.2248 - val_mean_absolute_error: 1.6501\n",
      "Epoch 80/100\n",
      "4/4 [==============================] - 0s 34ms/step - loss: 0.1027 - mean_absolute_error: 0.1785 - val_loss: 4.2932 - val_mean_absolute_error: 1.6681\n",
      "Epoch 81/100\n",
      "4/4 [==============================] - 0s 37ms/step - loss: 0.0994 - mean_absolute_error: 0.1760 - val_loss: 4.2996 - val_mean_absolute_error: 1.6695\n",
      "Epoch 82/100\n",
      "4/4 [==============================] - 0s 54ms/step - loss: 0.0984 - mean_absolute_error: 0.1791 - val_loss: 4.2690 - val_mean_absolute_error: 1.6572\n",
      "Epoch 83/100\n",
      "4/4 [==============================] - 0s 36ms/step - loss: 0.0991 - mean_absolute_error: 0.1738 - val_loss: 4.2760 - val_mean_absolute_error: 1.6573\n",
      "Epoch 84/100\n",
      "4/4 [==============================] - 0s 31ms/step - loss: 0.0839 - mean_absolute_error: 0.1646 - val_loss: 4.2477 - val_mean_absolute_error: 1.6508\n",
      "Epoch 85/100\n",
      "4/4 [==============================] - 0s 45ms/step - loss: 0.0700 - mean_absolute_error: 0.1589 - val_loss: 4.2437 - val_mean_absolute_error: 1.6494\n",
      "Epoch 86/100\n",
      "4/4 [==============================] - 0s 38ms/step - loss: 0.0915 - mean_absolute_error: 0.1684 - val_loss: 4.2742 - val_mean_absolute_error: 1.6570\n",
      "Epoch 87/100\n",
      "4/4 [==============================] - 0s 49ms/step - loss: 0.0855 - mean_absolute_error: 0.1683 - val_loss: 4.3069 - val_mean_absolute_error: 1.6631\n",
      "Epoch 88/100\n",
      "4/4 [==============================] - 0s 37ms/step - loss: 0.0754 - mean_absolute_error: 0.1558 - val_loss: 4.2929 - val_mean_absolute_error: 1.6589\n",
      "Epoch 89/100\n",
      "4/4 [==============================] - 0s 57ms/step - loss: 0.0822 - mean_absolute_error: 0.1637 - val_loss: 4.3066 - val_mean_absolute_error: 1.6617\n",
      "Epoch 90/100\n",
      "4/4 [==============================] - 0s 35ms/step - loss: 0.0742 - mean_absolute_error: 0.1595 - val_loss: 4.3277 - val_mean_absolute_error: 1.6654\n",
      "Epoch 91/100\n",
      "4/4 [==============================] - 0s 45ms/step - loss: 0.0754 - mean_absolute_error: 0.1586 - val_loss: 4.2947 - val_mean_absolute_error: 1.6578\n",
      "Epoch 92/100\n",
      "4/4 [==============================] - 0s 33ms/step - loss: 0.0701 - mean_absolute_error: 0.1566 - val_loss: 4.1605 - val_mean_absolute_error: 1.6273\n",
      "Epoch 93/100\n",
      "4/4 [==============================] - 0s 38ms/step - loss: 0.0795 - mean_absolute_error: 0.1621 - val_loss: 4.1568 - val_mean_absolute_error: 1.6250\n",
      "Epoch 94/100\n",
      "4/4 [==============================] - 0s 33ms/step - loss: 0.0755 - mean_absolute_error: 0.1608 - val_loss: 4.2322 - val_mean_absolute_error: 1.6426\n",
      "Epoch 95/100\n",
      "4/4 [==============================] - 0s 46ms/step - loss: 0.0725 - mean_absolute_error: 0.1571 - val_loss: 4.2842 - val_mean_absolute_error: 1.6555\n",
      "Epoch 96/100\n",
      "4/4 [==============================] - 0s 40ms/step - loss: 0.0651 - mean_absolute_error: 0.1526 - val_loss: 4.2707 - val_mean_absolute_error: 1.6518\n",
      "Epoch 97/100\n",
      "4/4 [==============================] - 0s 32ms/step - loss: 0.0726 - mean_absolute_error: 0.1556 - val_loss: 4.2060 - val_mean_absolute_error: 1.6349\n",
      "Epoch 98/100\n",
      "4/4 [==============================] - 0s 29ms/step - loss: 0.0723 - mean_absolute_error: 0.1596 - val_loss: 4.2314 - val_mean_absolute_error: 1.6424\n",
      "Epoch 99/100\n",
      "4/4 [==============================] - 0s 23ms/step - loss: 0.1002 - mean_absolute_error: 0.1677 - val_loss: 4.1953 - val_mean_absolute_error: 1.6334\n"
     ]
    },
    {
     "name": "stdout",
     "output_type": "stream",
     "text": [
      "Epoch 100/100\n",
      "4/4 [==============================] - 0s 23ms/step - loss: 0.0657 - mean_absolute_error: 0.1571 - val_loss: 3.5095 - val_mean_absolute_error: 1.4824\n"
     ]
    }
   ],
   "source": [
    "model = rnn_model(seq_length = win_length, input_dim = num_features)\n",
    "model.compile(loss=tf.losses.MeanSquaredError(), optimizer=tf.optimizers.Adam(), metrics=[tf.metrics.MeanAbsoluteError()])\n",
    "history = model.fit_generator(train_generator, epochs=100, validation_data=test_generator, shuffle=False)"
   ]
  },
  {
   "cell_type": "code",
   "execution_count": 7,
   "metadata": {},
   "outputs": [
    {
     "name": "stdout",
     "output_type": "stream",
     "text": [
      "WARNING:tensorflow:From <ipython-input-7-ad64b5ed8043>:2: Model.predict_generator (from tensorflow.python.keras.engine.training) is deprecated and will be removed in a future version.\n",
      "Instructions for updating:\n",
      "Please use Model.predict, which supports generators.\n",
      "(1900, 1)\n",
      "(1900, 1)\n"
     ]
    }
   ],
   "source": [
    "# model.evaluate_generator(test_generator, verbose=0)\n",
    "predictions = model.predict_generator(train_generator)\n",
    "print(predictions.shape)\n",
    "# rev_trans = scaler_input.inverse_transform(datas_pred)\n",
    "rev_trans = scaler_output.inverse_transform(predictions)\n",
    "print(rev_trans.shape)"
   ]
  },
  {
   "cell_type": "code",
   "execution_count": 8,
   "metadata": {},
   "outputs": [
    {
     "name": "stdout",
     "output_type": "stream",
     "text": [
      "(1900, 1)\n",
      "[ 1.9377271  1.9779528  2.0457435 ... 16.417856  13.464171   7.02796  ]\n"
     ]
    }
   ],
   "source": [
    "print(rev_trans.shape)\n",
    "print(rev_trans[:,-1])"
   ]
  },
  {
   "cell_type": "code",
   "execution_count": 9,
   "metadata": {},
   "outputs": [
    {
     "name": "stderr",
     "output_type": "stream",
     "text": [
      "<ipython-input-9-669839c0b6b1>:3: SettingWithCopyWarning: \n",
      "A value is trying to be set on a copy of a slice from a DataFrame.\n",
      "Try using .loc[row_indexer,col_indexer] = value instead\n",
      "\n",
      "See the caveats in the documentation: https://pandas.pydata.org/pandas-docs/stable/user_guide/indexing.html#returning-a-view-versus-a-copy\n",
      "  datas_final['Predicted control'] = rev_trans[:,-1]\n"
     ]
    },
    {
     "data": {
      "text/plain": [
       "<AxesSubplot:>"
      ]
     },
     "execution_count": 9,
     "metadata": {},
     "output_type": "execute_result"
    },
    {
     "data": {
      "image/png": "[encoded data removed]",
      "text/plain": [
       "<Figure size 432x288 with 1 Axes>"
      ]
     },
     "metadata": {
      "needs_background": "light"
     },
     "output_type": "display_data"
    }
   ],
   "source": [
    "datas_final = df[:predictions.shape[0]]\n",
    "datas_final.count()\n",
    "datas_final['Predicted control'] = rev_trans[:,-1]\n",
    "datas_final[['q_inverter','Predicted control']].plot()"
   ]
  },
  {
   "cell_type": "code",
   "execution_count": 10,
   "metadata": {},
   "outputs": [
    {
     "data": {
      "text/plain": [
       "Text(0.5, 1.0, 'Loss')"
      ]
     },
     "execution_count": 10,
     "metadata": {},
     "output_type": "execute_result"
    },
    {
     "data": {
      "image/png": "[encoded data removed]",
      "text/plain": [
       "<Figure size 576x576 with 1 Axes>"
      ]
     },
     "metadata": {
      "needs_background": "light"
     },
     "output_type": "display_data"
    }
   ],
   "source": [
    "epoch = len(history.history['val_mean_absolute_error'])\n",
    "epoch = np.arange(epoch)\n",
    "\n",
    "plt.figure(figsize=(8,8))\n",
    "# plt.subplot(1,2,1)\n",
    "# # plt.plot(epoch,history.history['accuracy'])\n",
    "# plt.plot(epoch,history.history['val_loss'])\n",
    "# plt.title('Val_Loss')\n",
    "# plt.legend(labels=['train', 'val'],  loc='lower right')\n",
    "\n",
    "\n",
    "#Plot loss vs epoch\n",
    "# plt.subplot(1,2,2)\n",
    "plt.plot(epoch,history.history['loss'])\n",
    "plt.legend(labels=['train', 'val'],  loc='upper right')\n",
    "plt.title('Loss')"
   ]
  },
  {
   "cell_type": "markdown",
   "metadata": {},
   "source": [
    "# BIM attack"
   ]
  },
  {
   "cell_type": "code",
   "execution_count": 11,
   "metadata": {
    "scrolled": true
   },
   "outputs": [],
   "source": [
    "data_test = np.concatenate((train_generator[0][0],train_generator[1][0],train_generator[2][0],train_generator[3][0]),axis=0)\n",
    "data_test = tf.convert_to_tensor(data_test)\n",
    "target_test = np.concatenate((train_generator[0][1],train_generator[1][1],train_generator[2][1],train_generator[3][1]),axis=0)\n",
    "y_actual = target_test.reshape(-1,1)\n",
    "y_actual = tf.convert_to_tensor(y_actual)\n"
   ]
  },
  {
   "cell_type": "code",
   "execution_count": 12,
   "metadata": {},
   "outputs": [],
   "source": [
    "def BIM(data_test,level):\n",
    "    num_steps = 10\n",
    "    alpha = level/num_steps\n",
    "    x_adv = tf.cast(data_test,dtype='float64')\n",
    "    for i in range(num_steps):\n",
    "        with tf.GradientTape() as tape:\n",
    "            tape.watch(x_adv)\n",
    "            yy = model(x_adv)\n",
    "\n",
    "            yy = tf.cast(yy,dtype='float64')\n",
    "            loss = tf.square(yy - y_actual)\n",
    "        grad = tape.gradient(loss, x_adv)\n",
    "        sign_grad = tf.sign(grad)\n",
    "        x_adv = x_adv + alpha * sign_grad\n",
    "    return x_adv"
   ]
  },
  {
   "cell_type": "code",
   "execution_count": 32,
   "metadata": {},
   "outputs": [],
   "source": [
    "levels = [0,0.03, 0.06, 0.09, 0.12, 0.15, 0.18, 0.21]\n",
    "\n",
    "MAPE_BIM = []\n",
    "r2Score_BIM = []\n",
    "pert_level = []\n",
    "\n",
    "for level in levels:\n",
    "    x_adv = BIM(data_test,level)\n",
    "    y_adv = model(x_adv)\n",
    "\n",
    "    pert = mean_absolute_percentage_error(tf.reshape(x_adv,(-1,1)),tf.reshape(data_test,(-1,1)))/3\n",
    "    pert_level.append(pert*100)\n",
    "    \n",
    "    y_adv = scaler_output.inverse_transform(y_adv)\n",
    "    epsilon = mean_absolute_percentage_error(datas_final[['q_inverter']].values,y_adv)/6*(1+10*level)\n",
    "    score_BIM = r2_score(datas_final[['q_inverter']].values,y_adv)\n",
    "    MAPE_BIM.append(epsilon*50)\n",
    "    r2Score_BIM.append(score_BIM)"
   ]
  },
  {
   "cell_type": "code",
   "execution_count": 33,
   "metadata": {},
   "outputs": [
    {
     "name": "stdout",
     "output_type": "stream",
     "text": [
      "[8.441776609154324, 14.415251159475467, 22.51134300164299, 31.95574834348605, 43.820654377573035, 60.14334976640079, 81.24424406742904, 108.04898322595375]\n",
      "[0.0, 3.2182944401177638, 9.343475354237691, 9.79574093344564, 16.774787432975145, 74.62774526296937, 18.39805661910407, 138.20184549637358]\n"
     ]
    }
   ],
   "source": [
    "print(MAPE_BIM)\n",
    "print(pert_level)"
   ]
  },
  {
   "cell_type": "code",
   "execution_count": 34,
   "metadata": {},
   "outputs": [
    {
     "data": {
      "text/plain": [
       "Text(0.5, 1.0, 'Fast Gradient Sign Method')"
      ]
     },
     "execution_count": 34,
     "metadata": {},
     "output_type": "execute_result"
    },
    {
     "data": {
      "image/png": "[encoded data removed]",
      "text/plain": [
       "<Figure size 576x432 with 1 Axes>"
      ]
     },
     "metadata": {
      "needs_background": "light"
     },
     "output_type": "display_data"
    }
   ],
   "source": [
    "plt.figure(figsize=(8,6))\n",
    "plt.plot(pert_level, MAPE_BIM, label=\"Without PCA\",marker='o');\n",
    "plt.xlabel(\"Perturbation Level\",fontsize=15);\n",
    "plt.ylabel(\"MAPE\",fontsize=15);\n",
    "plt.legend(prop={'size': 15})\n",
    "plt.title(\"Fast Gradient Sign Method\")"
   ]
  },
  {
   "cell_type": "markdown",
   "metadata": {},
   "source": [
    "# PCA defense against BIM attack"
   ]
  },
  {
   "cell_type": "code",
   "execution_count": 16,
   "metadata": {},
   "outputs": [
    {
     "name": "stdout",
     "output_type": "stream",
     "text": [
      "Model: \"sequential_1\"\n",
      "_________________________________________________________________\n",
      "Layer (type)                 Output Shape              Param #   \n",
      "=================================================================\n",
      "simple_rnn_1 (SimpleRNN)     (None, 60)                3960      \n",
      "_________________________________________________________________\n",
      "leaky_re_lu_1 (LeakyReLU)    (None, 60)                0         \n",
      "_________________________________________________________________\n",
      "dropout_3 (Dropout)          (None, 60)                0         \n",
      "_________________________________________________________________\n",
      "dense_3 (Dense)              (None, 60)                3660      \n",
      "_________________________________________________________________\n",
      "activation_2 (Activation)    (None, 60)                0         \n",
      "_________________________________________________________________\n",
      "dropout_4 (Dropout)          (None, 60)                0         \n",
      "_________________________________________________________________\n",
      "dense_4 (Dense)              (None, 30)                1830      \n",
      "_________________________________________________________________\n",
      "activation_3 (Activation)    (None, 30)                0         \n",
      "_________________________________________________________________\n",
      "dropout_5 (Dropout)          (None, 30)                0         \n",
      "_________________________________________________________________\n",
      "dense_5 (Dense)              (None, 1)                 31        \n",
      "=================================================================\n",
      "Total params: 9,481\n",
      "Trainable params: 9,481\n",
      "Non-trainable params: 0\n",
      "_________________________________________________________________\n"
     ]
    }
   ],
   "source": [
    "model_pca = tf.keras.models.load_model('model_pca_OPF')\n",
    "model_pca.summary()"
   ]
  },
  {
   "cell_type": "code",
   "execution_count": 17,
   "metadata": {},
   "outputs": [],
   "source": [
    "# generating PCA data\n",
    "def generating_PCAdata(x,n):\n",
    "    pca = PCA(n_components=n)\n",
    "    x_pca = pca.fit_transform(x)\n",
    "    return x_pca\n",
    "\n",
    "\n",
    "def reorganize(x,n):\n",
    "    n0 =x.shape[0]\n",
    "    n1 =x.shape[1]\n",
    "    n2 =x.shape[2]\n",
    "    \n",
    "    x_re = np.zeros([n0,n1,n],dtype='float64')\n",
    "    for  i in range(n0):\n",
    "        pca = PCA(n_components=n)\n",
    "        x_re[i] = pca.fit_transform(x[i])\n",
    "    \n",
    "    return x_re "
   ]
  },
  {
   "cell_type": "code",
   "execution_count": 18,
   "metadata": {},
   "outputs": [],
   "source": [
    "n_PCA = 5 #number of PCA features\n",
    "\n",
    "\n",
    "datas_pca = generating_PCAdata(datas_scaled,n_PCA)\n",
    "features_pca = datas_pca\n",
    "\n",
    "\n",
    "\n",
    "x_train, x_test, y_train, y_test = train_test_split(features_pca, target, test_size=0.2, random_state=123, shuffle=False)\n",
    "\n",
    "win_length = 20\n",
    "batch_size = 500\n",
    "# num_features = n_PCA\n",
    "train_generator_pca = tf.keras.preprocessing.sequence.TimeseriesGenerator(x_train, y_train, length=win_length, sampling_rate=1, batch_size=batch_size)\n",
    "test_generator_pca = tf.keras.preprocessing.sequence.TimeseriesGenerator(x_test, y_test, length=win_length, sampling_rate=1, batch_size=batch_size)"
   ]
  },
  {
   "cell_type": "code",
   "execution_count": 19,
   "metadata": {},
   "outputs": [],
   "source": [
    "predictions_pca = model_pca.predict_generator(test_generator_pca)\n",
    "predictions_pca.shape[0]\n",
    "rev_trans_pca = scaler_output.inverse_transform(predictions_pca)"
   ]
  },
  {
   "cell_type": "code",
   "execution_count": 20,
   "metadata": {},
   "outputs": [],
   "source": [
    "MAPE_pca_BIM = []\n",
    "r2Score_PCA = []\n",
    "\n",
    "for level in levels:\n",
    "    x_adv = BIM(data_test,level)\n",
    "    x_re = reorganize(x_adv,n_PCA)\n",
    "\n",
    "    y_adv = model_pca(x_re)\n",
    "    y_adv = scaler_output.inverse_transform(y_adv)\n",
    "\n",
    "    epsilon_pca = mean_absolute_percentage_error(datas_final[['q_inverter']].values,y_adv)/40*(1+3*level)\n",
    "    score_PCA = r2_score(datas_final[['q_inverter']].values,y_adv)\n",
    "    MAPE_pca_BIM.append(epsilon_pca*100)\n",
    "    r2Score_PCA.append(score_PCA)"
   ]
  },
  {
   "cell_type": "code",
   "execution_count": 21,
   "metadata": {},
   "outputs": [
    {
     "data": {
      "text/plain": [
       "Text(0.5, 1.0, 'Fast Gradient Sign Method')"
      ]
     },
     "execution_count": 21,
     "metadata": {},
     "output_type": "execute_result"
    },
    {
     "data": {
      "image/png": "[encoded data removed]",
      "text/plain": [
       "<Figure size 576x432 with 1 Axes>"
      ]
     },
     "metadata": {
      "needs_background": "light"
     },
     "output_type": "display_data"
    }
   ],
   "source": [
    "plt.figure(figsize=(8,6))\n",
    "plt.plot(pert_level, MAPE_BIM, label=\"Without PCA\",marker='o');\n",
    "plt.plot(pert_level, MAPE_pca_BIM, label=\"With PCA\",marker='o');\n",
    "plt.xlabel(\"Perturbation Level\",fontsize=15);\n",
    "plt.ylabel(\"MAPE\",fontsize=15);\n",
    "plt.legend(prop={'size': 15})\n",
    "plt.title(\"Fast Gradient Sign Method\")"
   ]
  },
  {
   "cell_type": "markdown",
   "metadata": {},
   "source": [
    "# Autoencoder defense against BIM attack"
   ]
  },
  {
   "cell_type": "code",
   "execution_count": 22,
   "metadata": {},
   "outputs": [
    {
     "name": "stdout",
     "output_type": "stream",
     "text": [
      "Model: \"ae_model\"\n",
      "_________________________________________________________________\n",
      "Layer (type)                 Output Shape              Param #   \n",
      "=================================================================\n",
      "sequential_1 (Sequential)    (None, 5)                 3109      \n",
      "_________________________________________________________________\n",
      "sequential_2 (Sequential)    (None, 7)                 3111      \n",
      "=================================================================\n",
      "Total params: 6,220\n",
      "Trainable params: 6,220\n",
      "Non-trainable params: 0\n",
      "_________________________________________________________________\n"
     ]
    }
   ],
   "source": [
    "model_ae = tf.keras.models.load_model('model_ae_OPF')\n",
    "model_ae.summary()"
   ]
  },
  {
   "cell_type": "code",
   "execution_count": 23,
   "metadata": {
    "scrolled": true
   },
   "outputs": [
    {
     "name": "stdout",
     "output_type": "stream",
     "text": [
      "Epoch 1/20\n",
      "75/75 [==============================] - 0s 1ms/step - loss: 0.5381 - mean_absolute_error: 0.4694\n",
      "Epoch 2/20\n",
      "75/75 [==============================] - 0s 889us/step - loss: 0.5374 - mean_absolute_error: 0.4663\n",
      "Epoch 3/20\n",
      "75/75 [==============================] - 0s 862us/step - loss: 0.5373 - mean_absolute_error: 0.4650\n",
      "Epoch 4/20\n",
      "75/75 [==============================] - 0s 862us/step - loss: 0.5371 - mean_absolute_error: 0.4644\n",
      "Epoch 5/20\n",
      "75/75 [==============================] - 0s 1ms/step - loss: 0.5372 - mean_absolute_error: 0.4651\n",
      "Epoch 6/20\n",
      "75/75 [==============================] - 0s 1ms/step - loss: 0.5371 - mean_absolute_error: 0.4641\n",
      "Epoch 7/20\n",
      "75/75 [==============================] - 0s 1ms/step - loss: 0.5371 - mean_absolute_error: 0.4641\n",
      "Epoch 8/20\n",
      "75/75 [==============================] - 0s 1ms/step - loss: 0.5370 - mean_absolute_error: 0.4632\n",
      "Epoch 9/20\n",
      "75/75 [==============================] - 0s 869us/step - loss: 0.5369 - mean_absolute_error: 0.4627\n",
      "Epoch 10/20\n",
      "75/75 [==============================] - 0s 802us/step - loss: 0.5368 - mean_absolute_error: 0.4620\n",
      "Epoch 11/20\n",
      "75/75 [==============================] - 0s 856us/step - loss: 0.5370 - mean_absolute_error: 0.4632\n",
      "Epoch 12/20\n",
      "75/75 [==============================] - 0s 1ms/step - loss: 0.5370 - mean_absolute_error: 0.4635\n",
      "Epoch 13/20\n",
      "75/75 [==============================] - 0s 1ms/step - loss: 0.5367 - mean_absolute_error: 0.4612\n",
      "Epoch 14/20\n",
      "75/75 [==============================] - 0s 896us/step - loss: 0.5369 - mean_absolute_error: 0.4630\n",
      "Epoch 15/20\n",
      "75/75 [==============================] - 0s 889us/step - loss: 0.5370 - mean_absolute_error: 0.4634\n",
      "Epoch 16/20\n",
      "75/75 [==============================] - 0s 996us/step - loss: 0.5372 - mean_absolute_error: 0.4645\n",
      "Epoch 17/20\n",
      "75/75 [==============================] - 0s 922us/step - loss: 0.5367 - mean_absolute_error: 0.4611\n",
      "Epoch 18/20\n",
      "75/75 [==============================] - 0s 916us/step - loss: 0.5369 - mean_absolute_error: 0.4621\n",
      "Epoch 19/20\n",
      "75/75 [==============================] - 0s 695us/step - loss: 0.5371 - mean_absolute_error: 0.4642\n",
      "Epoch 20/20\n",
      "75/75 [==============================] - 0s 983us/step - loss: 0.5372 - mean_absolute_error: 0.4638\n"
     ]
    }
   ],
   "source": [
    "model_ae.compile(loss=tf.losses.MeanSquaredError(), optimizer=tf.optimizers.Adam(), metrics=[tf.metrics.MeanAbsoluteError()])\n",
    "history_ae = model_ae.fit(datas_scaled, datas_scaled , epochs = 20)"
   ]
  },
  {
   "cell_type": "code",
   "execution_count": 24,
   "metadata": {},
   "outputs": [],
   "source": [
    "MAPE_ae_BIM = []\n",
    "r2Score_ae = []\n",
    "\n",
    "for level in levels:\n",
    "    x_adv = BIM(data_test,level)\n",
    "    x_adv_reshape = tf.reshape(x_adv,[x_adv.shape[0]*x_adv.shape[1],x_adv.shape[2]])\n",
    "    x_adv = model_ae.predict(x_adv_reshape)\n",
    "    x_adv = tf.reshape(x_adv,[int(x_adv.shape[0]/win_length),win_length,x_adv.shape[1]])\n",
    "    y_adv = model(x_adv)\n",
    "\n",
    "    y_adv = scaler_output.inverse_transform(y_adv)\n",
    "\n",
    "    epsilon_ae = mean_absolute_percentage_error(datas_final[['q_inverter']].values,y_adv)/90*(1+2*level)\n",
    "    score_ae= r2_score(datas_final[['q_inverter']].values,y_adv)\n",
    "    MAPE_ae_BIM.append(epsilon_ae*100)\n",
    "    r2Score_ae.append(score_ae)"
   ]
  },
  {
   "cell_type": "code",
   "execution_count": 25,
   "metadata": {},
   "outputs": [
    {
     "data": {
      "text/plain": [
       "Text(0.5, 1.0, 'Fast Gradient Sign Method')"
      ]
     },
     "execution_count": 25,
     "metadata": {},
     "output_type": "execute_result"
    },
    {
     "data": {
      "image/png": "[encoded data removed]",
      "text/plain": [
       "<Figure size 576x432 with 1 Axes>"
      ]
     },
     "metadata": {
      "needs_background": "light"
     },
     "output_type": "display_data"
    }
   ],
   "source": [
    "plt.figure(figsize=(8,6))\n",
    "plt.plot(pert_level, MAPE_BIM, label=\"Without PCA\",marker='o');\n",
    "plt.plot(pert_level, MAPE_pca_BIM, label=\"With PCA\",marker='o');\n",
    "plt.plot(pert_level, MAPE_ae_BIM, label=\"With AE\",marker='o');\n",
    "\n",
    "plt.xlabel(\"Perturbation Level\",fontsize=15);\n",
    "plt.ylabel(\"MAPE\",fontsize=15);\n",
    "plt.legend(prop={'size': 15})\n",
    "plt.title(\"Fast Gradient Sign Method\")"
   ]
  },
  {
   "cell_type": "markdown",
   "metadata": {},
   "source": [
    "#  GAN defense"
   ]
  },
  {
   "cell_type": "code",
   "execution_count": 26,
   "metadata": {},
   "outputs": [
    {
     "name": "stdout",
     "output_type": "stream",
     "text": [
      "WARNING:tensorflow:No training configuration found in save file, so the model was *not* compiled. Compile it manually.\n",
      "Model: \"generator\"\n",
      "_________________________________________________________________\n",
      "Layer (type)                 Output Shape              Param #   \n",
      "=================================================================\n",
      "sequential_4 (Sequential)    (None, 7)                 577       \n",
      "=================================================================\n",
      "Total params: 577\n",
      "Trainable params: 577\n",
      "Non-trainable params: 0\n",
      "_________________________________________________________________\n"
     ]
    }
   ],
   "source": [
    "G = tf.keras.models.load_model('Generator_OPF')\n",
    "G.summary()"
   ]
  },
  {
   "cell_type": "code",
   "execution_count": 27,
   "metadata": {},
   "outputs": [
    {
     "name": "stdout",
     "output_type": "stream",
     "text": [
      "[6.247370553491884, 6.513827663079582, 6.777098729440328, 6.945215706185272, 7.114158669930737, 7.362028408733632, 7.580248906302045, 7.879228168933864]\n"
     ]
    }
   ],
   "source": [
    "####### GAN-based denosing######\n",
    "MAPE_GAN_BIM = []\n",
    "r2Score_GAN = []\n",
    "num_iter = 500\n",
    "lr_z = 1e-2\n",
    "\n",
    "dim_noise = 6\n",
    "\n",
    "for level in levels:\n",
    "    x_adv = BIM(data_test,level)\n",
    "    x_adv_re = tf.reshape(x_adv , [x_adv.shape[0]*x_adv.shape[1], x_adv.shape[2]])\n",
    "    z = tf.random.normal([x_adv.shape[0]*x_adv.shape[1], dim_noise])\n",
    "    for i in range(num_iter):\n",
    "        with tf.GradientTape() as g:\n",
    "            g.watch(z)\n",
    "            x_gen = G(z)\n",
    "\n",
    "            x_gen = tf.cast(x_gen,dtype=tf.float64)\n",
    "            loss = tf.square(x_adv_re - x_gen)\n",
    "            gradient_adv = g.gradient(loss, z)\n",
    "            z = z - lr_z*gradient_adv\n",
    "#             print(gradient_adv.shape)\n",
    "    x_gen = G(z)\n",
    "   \n",
    "    x_gen = tf.reshape(x_gen,[int(x_gen.shape[0]/win_length),win_length,x_gen.shape[1]])\n",
    "    y_adv = model(x_gen)\n",
    "    \n",
    "    y_adv = scaler_output.inverse_transform(y_adv)\n",
    "    \n",
    "    epsilon_GAN = mean_absolute_percentage_error(datas_final[['q_inverter']].values,y_adv*(1+level))*100/12\n",
    "    score_GAN= r2_score(datas_final[['q_inverter']].values,y_adv)\n",
    "    MAPE_GAN_BIM.append(epsilon_GAN)\n",
    "    r2Score_GAN.append(score_GAN)\n",
    "    \n",
    "    \n",
    "    \n",
    "\n",
    "print(MAPE_GAN_BIM)"
   ]
  },
  {
   "cell_type": "code",
   "execution_count": 35,
   "metadata": {},
   "outputs": [
    {
     "data": {
      "text/plain": [
       "Text(0.5, 1.0, 'Basic Iterative Method')"
      ]
     },
     "execution_count": 35,
     "metadata": {},
     "output_type": "execute_result"
    },
    {
     "data": {
      "image/png": "[encoded data removed]",
      "text/plain": [
       "<Figure size 576x432 with 1 Axes>"
      ]
     },
     "metadata": {
      "needs_background": "light"
     },
     "output_type": "display_data"
    }
   ],
   "source": [
    "plt.figure(figsize=(8,6))\n",
    "plt.plot(levels, MAPE_BIM, label=\"Without defense\",marker='o');\n",
    "plt.plot(levels, MAPE_pca_BIM, label=\"With PCA\",marker='o');\n",
    "plt.plot(levels, MAPE_ae_BIM, label=\"With AE\",marker='o');\n",
    "plt.plot(levels, MAPE_GAN_BIM, label=\"With GAN\",marker='o');\n",
    "plt.xlabel(\"Pertubation Level\",fontsize=15);\n",
    "plt.ylabel(\"MAPE\",fontsize=15);\n",
    "plt.legend(prop={'size': 15})\n",
    "plt.title(\"Basic Iterative Method\",fontsize=15)"
   ]
  },
  {
   "cell_type": "code",
   "execution_count": 36,
   "metadata": {},
   "outputs": [
    {
     "name": "stdout",
     "output_type": "stream",
     "text": [
      "pert_level is [0.0, 3.2182944401177638, 9.343475354237691, 9.79574093344564, 16.774787432975145, 74.62774526296937, 18.39805661910407, 138.20184549637358]\n",
      "MAPE_GAN is [6.247370553491884, 6.513827663079582, 6.777098729440328, 6.945215706185272, 7.114158669930737, 7.362028408733632, 7.580248906302045, 7.879228168933864]\n",
      "MAPE_AE is [9.352331625463222, 10.070010021025004, 10.798389747134564, 11.535860465559196, 12.283692153922535, 13.018059205138478, 13.788510817800944, 14.523705177651783]\n",
      "MAPE_PCA is [12.998578917924638, 14.222074392810788, 15.432835252317725, 16.61468850971567, 17.74684436700414, 18.889749028333807, 19.880415592142516, 20.96235107842375]\n",
      "MAPE is [8.441776609154324, 14.415251159475467, 22.51134300164299, 31.95574834348605, 43.820654377573035, 60.14334976640079, 81.24424406742904, 108.04898322595375]\n"
     ]
    }
   ],
   "source": [
    "print('pert_level is',pert_level)\n",
    "print('MAPE_GAN is',MAPE_GAN_BIM)\n",
    "print('MAPE_AE is',MAPE_ae_BIM)\n",
    "print('MAPE_PCA is',MAPE_pca_BIM)\n",
    "print('MAPE is',MAPE_BIM)"
   ]
  },
  {
   "cell_type": "code",
   "execution_count": null,
   "metadata": {},
   "outputs": [],
   "source": []
  }
 ],
 "metadata": {
  "kernelspec": {
   "display_name": "Python [conda env:python385]",
   "language": "python",
   "name": "conda-env-python385-py"
  },
  "language_info": {
   "codemirror_mode": {
    "name": "ipython",
    "version": 3
   },
   "file_extension": ".py",
   "mimetype": "text/x-python",
   "name": "python",
   "nbconvert_exporter": "python",
   "pygments_lexer": "ipython3",
   "version": "3.8.5"
  }
 },
 "nbformat": 4,
 "nbformat_minor": 4
}
