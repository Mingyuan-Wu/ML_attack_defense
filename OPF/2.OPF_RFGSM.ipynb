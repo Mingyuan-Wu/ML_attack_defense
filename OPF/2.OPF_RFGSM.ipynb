{
 "cells": [
  {
   "cell_type": "code",
   "execution_count": 1,
   "metadata": {},
   "outputs": [],
   "source": [
    "import tensorflow as tf\n",
    "import tensorflow.keras as keras\n",
    "from tensorflow.keras.models import Sequential\n",
    "from tensorflow.keras.layers import Dense, Dropout, LSTM, SimpleRNN, Activation\n",
    "import numpy as np\n",
    "import pandas as pd\n",
    "import matplotlib.pyplot as plt\n",
    "\n",
    "from keras.preprocessing.sequence import TimeseriesGenerator\n",
    "from sklearn.model_selection import train_test_split\n",
    "from sklearn.preprocessing import StandardScaler, MinMaxScaler\n",
    "\n",
    "from sklearn.metrics import r2_score\n",
    "from sklearn.metrics import mean_absolute_percentage_error\n",
    "\n",
    "from sklearn.decomposition import PCA"
   ]
  },
  {
   "cell_type": "code",
   "execution_count": 2,
   "metadata": {},
   "outputs": [],
   "source": [
    "path = \"F:\\JupyterNotebook_Dir\\REAM _Lab\\OPF\\SUMMARY TABLE\\Inverter_Ouput_Gen_4.xlsx\"\n",
    "df = pd.read_excel(path)       #read data\n",
    "\n",
    "q_inverter = df[\"q_inverter\"].values;\n",
    "p_demand = df[\"net_p_demand\"].values      #access columns\n",
    "q_consumption = df[\"q_consumption\"].values;\n",
    "q_capacity = df[\"q_capacity\"].values;\n",
    "p_x_q = df[\"p_x_q\"].values\n",
    "p_x_p = df[\"p_x_p\"].values\n",
    "p_x_q_capacity = df[\"p_x_q_capacity\"].values;\n",
    "voltage = df[\"voltage\"].values;\n",
    "\n",
    "\n",
    "\n",
    "data_output = q_inverter\n",
    "\n",
    "data_input = np.vstack((p_demand,q_consumption,q_capacity,p_x_q,p_x_p,p_x_q_capacity,voltage)).T"
   ]
  },
  {
   "cell_type": "code",
   "execution_count": 3,
   "metadata": {},
   "outputs": [
    {
     "name": "stdout",
     "output_type": "stream",
     "text": [
      "(2400, 7)\n",
      "[1.01674266 0.96960554 0.8726523  ... 1.30365752 2.04694708 1.44945981]\n"
     ]
    }
   ],
   "source": [
    "print(data_input.shape)\n",
    "print(data_output)"
   ]
  },
  {
   "cell_type": "code",
   "execution_count": 4,
   "metadata": {},
   "outputs": [],
   "source": [
    "def rnn_model(seq_length, input_dim):\n",
    "    model = Sequential()\n",
    "#     model.add(tf.keras.layers.LSTM(128, input_shape= (seq_length, input_dim), return_sequences=False))\n",
    "    model.add((SimpleRNN(60, input_shape=(seq_length, input_dim))))\n",
    "#     model.add(Activation('relu'))\n",
    "    model.add(tf.keras.layers.LeakyReLU(alpha=0.1))\n",
    "    model.add(Dropout(0.2))\n",
    "    \n",
    "    model.add(Dense(60))\n",
    "    model.add(Activation('relu'))\n",
    "    model.add(Dropout(0.2))\n",
    "    model.add(Dense(30))\n",
    "    model.add(Activation('relu'))\n",
    "    model.add(Dropout(0.2))\n",
    "    model.add(Dense(1))\n",
    "    return model"
   ]
  },
  {
   "cell_type": "code",
   "execution_count": 5,
   "metadata": {},
   "outputs": [],
   "source": [
    "scaler_input = StandardScaler()\n",
    "scaler_output = StandardScaler()\n",
    "\n",
    "datas_scaled = scaler_input.fit_transform(data_input)\n",
    "features = datas_scaled\n",
    "\n",
    "data_output = data_output.reshape(-1,1)\n",
    "target = scaler_output.fit_transform(data_output)\n",
    "target = target.reshape(-1,1)\n",
    "\n",
    "\n",
    "x_train, x_test, y_train, y_test = train_test_split(features, target, test_size=0.2, random_state=123, shuffle=False)\n",
    "x_train.shape\n",
    "win_length = 20\n",
    "batch_size = 500\n",
    "num_features = 7\n",
    "train_generator = tf.keras.preprocessing.sequence.TimeseriesGenerator(x_train, y_train, length=win_length, sampling_rate=1, batch_size=batch_size)\n",
    "test_generator = tf.keras.preprocessing.sequence.TimeseriesGenerator(x_test, y_test, length=win_length, sampling_rate=1, batch_size=batch_size)"
   ]
  },
  {
   "cell_type": "code",
   "execution_count": 6,
   "metadata": {
    "scrolled": true
   },
   "outputs": [
    {
     "name": "stdout",
     "output_type": "stream",
     "text": [
      "WARNING:tensorflow:From <ipython-input-6-6c2519aaf3d6>:3: Model.fit_generator (from tensorflow.python.keras.engine.training) is deprecated and will be removed in a future version.\n",
      "Instructions for updating:\n",
      "Please use Model.fit, which supports generators.\n",
      "Epoch 1/100\n",
      "4/4 [==============================] - 0s 71ms/step - loss: 0.4964 - mean_absolute_error: 0.4952 - val_loss: 4.1063 - val_mean_absolute_error: 1.6077\n",
      "Epoch 2/100\n",
      "4/4 [==============================] - 0s 15ms/step - loss: 0.3817 - mean_absolute_error: 0.3557 - val_loss: 4.4041 - val_mean_absolute_error: 1.6943\n",
      "Epoch 3/100\n",
      "4/4 [==============================] - 0s 15ms/step - loss: 0.3712 - mean_absolute_error: 0.3315 - val_loss: 4.3780 - val_mean_absolute_error: 1.6904\n",
      "Epoch 4/100\n",
      "4/4 [==============================] - 0s 15ms/step - loss: 0.3373 - mean_absolute_error: 0.3193 - val_loss: 4.2067 - val_mean_absolute_error: 1.6434\n",
      "Epoch 5/100\n",
      "4/4 [==============================] - 0s 15ms/step - loss: 0.3224 - mean_absolute_error: 0.3068 - val_loss: 4.0575 - val_mean_absolute_error: 1.6022\n",
      "Epoch 6/100\n",
      "4/4 [==============================] - 0s 15ms/step - loss: 0.3195 - mean_absolute_error: 0.3041 - val_loss: 4.0371 - val_mean_absolute_error: 1.6002\n",
      "Epoch 7/100\n",
      "4/4 [==============================] - 0s 15ms/step - loss: 0.3032 - mean_absolute_error: 0.3007 - val_loss: 4.0740 - val_mean_absolute_error: 1.6169\n",
      "Epoch 8/100\n",
      "4/4 [==============================] - 0s 15ms/step - loss: 0.3077 - mean_absolute_error: 0.3050 - val_loss: 4.1377 - val_mean_absolute_error: 1.6410\n",
      "Epoch 9/100\n",
      "4/4 [==============================] - 0s 16ms/step - loss: 0.3025 - mean_absolute_error: 0.2956 - val_loss: 4.1613 - val_mean_absolute_error: 1.6498\n",
      "Epoch 10/100\n",
      "4/4 [==============================] - 0s 15ms/step - loss: 0.2988 - mean_absolute_error: 0.2970 - val_loss: 4.1218 - val_mean_absolute_error: 1.6376\n",
      "Epoch 11/100\n",
      "4/4 [==============================] - 0s 16ms/step - loss: 0.2924 - mean_absolute_error: 0.2921 - val_loss: 4.1053 - val_mean_absolute_error: 1.6313\n",
      "Epoch 12/100\n",
      "4/4 [==============================] - 0s 16ms/step - loss: 0.2947 - mean_absolute_error: 0.2950 - val_loss: 4.1249 - val_mean_absolute_error: 1.6364\n",
      "Epoch 13/100\n",
      "4/4 [==============================] - 0s 16ms/step - loss: 0.2879 - mean_absolute_error: 0.2887 - val_loss: 4.1636 - val_mean_absolute_error: 1.6483\n",
      "Epoch 14/100\n",
      "4/4 [==============================] - 0s 14ms/step - loss: 0.2839 - mean_absolute_error: 0.2917 - val_loss: 4.1820 - val_mean_absolute_error: 1.6550\n",
      "Epoch 15/100\n",
      "4/4 [==============================] - 0s 14ms/step - loss: 0.2769 - mean_absolute_error: 0.2826 - val_loss: 4.1955 - val_mean_absolute_error: 1.6596\n",
      "Epoch 16/100\n",
      "4/4 [==============================] - 0s 14ms/step - loss: 0.2820 - mean_absolute_error: 0.2912 - val_loss: 4.2045 - val_mean_absolute_error: 1.6599\n",
      "Epoch 17/100\n",
      "4/4 [==============================] - 0s 15ms/step - loss: 0.2737 - mean_absolute_error: 0.2831 - val_loss: 4.2262 - val_mean_absolute_error: 1.6642\n",
      "Epoch 18/100\n",
      "4/4 [==============================] - 0s 17ms/step - loss: 0.2717 - mean_absolute_error: 0.2791 - val_loss: 4.2202 - val_mean_absolute_error: 1.6627\n",
      "Epoch 19/100\n",
      "4/4 [==============================] - 0s 16ms/step - loss: 0.2730 - mean_absolute_error: 0.2828 - val_loss: 4.2468 - val_mean_absolute_error: 1.6711\n",
      "Epoch 20/100\n",
      "4/4 [==============================] - 0s 14ms/step - loss: 0.2702 - mean_absolute_error: 0.2794 - val_loss: 4.2666 - val_mean_absolute_error: 1.6755\n",
      "Epoch 21/100\n",
      "4/4 [==============================] - 0s 15ms/step - loss: 0.2652 - mean_absolute_error: 0.2750 - val_loss: 4.2404 - val_mean_absolute_error: 1.6670\n",
      "Epoch 22/100\n",
      "4/4 [==============================] - 0s 16ms/step - loss: 0.2599 - mean_absolute_error: 0.2740 - val_loss: 4.2683 - val_mean_absolute_error: 1.6736\n",
      "Epoch 23/100\n",
      "4/4 [==============================] - 0s 16ms/step - loss: 0.2546 - mean_absolute_error: 0.2704 - val_loss: 4.2587 - val_mean_absolute_error: 1.6740\n",
      "Epoch 24/100\n",
      "4/4 [==============================] - 0s 14ms/step - loss: 0.2508 - mean_absolute_error: 0.2669 - val_loss: 4.3387 - val_mean_absolute_error: 1.6945\n",
      "Epoch 25/100\n",
      "4/4 [==============================] - 0s 14ms/step - loss: 0.2637 - mean_absolute_error: 0.2717 - val_loss: 4.3420 - val_mean_absolute_error: 1.6919\n",
      "Epoch 26/100\n",
      "4/4 [==============================] - 0s 16ms/step - loss: 0.2504 - mean_absolute_error: 0.2629 - val_loss: 4.3024 - val_mean_absolute_error: 1.6801\n",
      "Epoch 27/100\n",
      "4/4 [==============================] - 0s 15ms/step - loss: 0.2493 - mean_absolute_error: 0.2611 - val_loss: 4.2473 - val_mean_absolute_error: 1.6638\n",
      "Epoch 28/100\n",
      "4/4 [==============================] - 0s 14ms/step - loss: 0.2476 - mean_absolute_error: 0.2576 - val_loss: 4.2591 - val_mean_absolute_error: 1.6664\n",
      "Epoch 29/100\n",
      "4/4 [==============================] - 0s 14ms/step - loss: 0.2468 - mean_absolute_error: 0.2629 - val_loss: 4.3177 - val_mean_absolute_error: 1.6826\n",
      "Epoch 30/100\n",
      "4/4 [==============================] - 0s 14ms/step - loss: 0.2453 - mean_absolute_error: 0.2581 - val_loss: 4.2413 - val_mean_absolute_error: 1.6690\n",
      "Epoch 31/100\n",
      "4/4 [==============================] - 0s 14ms/step - loss: 0.2305 - mean_absolute_error: 0.2553 - val_loss: 4.3025 - val_mean_absolute_error: 1.6769\n",
      "Epoch 32/100\n",
      "4/4 [==============================] - 0s 15ms/step - loss: 0.2382 - mean_absolute_error: 0.2594 - val_loss: 4.2185 - val_mean_absolute_error: 1.6555\n",
      "Epoch 33/100\n",
      "4/4 [==============================] - 0s 15ms/step - loss: 0.2407 - mean_absolute_error: 0.2581 - val_loss: 4.2596 - val_mean_absolute_error: 1.6647\n",
      "Epoch 34/100\n",
      "4/4 [==============================] - 0s 14ms/step - loss: 0.2344 - mean_absolute_error: 0.2494 - val_loss: 4.3537 - val_mean_absolute_error: 1.6860\n",
      "Epoch 35/100\n",
      "4/4 [==============================] - 0s 17ms/step - loss: 0.2203 - mean_absolute_error: 0.2397 - val_loss: 4.3042 - val_mean_absolute_error: 1.6738\n",
      "Epoch 36/100\n",
      "4/4 [==============================] - 0s 16ms/step - loss: 0.2301 - mean_absolute_error: 0.2506 - val_loss: 4.0478 - val_mean_absolute_error: 1.6116\n",
      "Epoch 37/100\n",
      "4/4 [==============================] - 0s 15ms/step - loss: 0.2183 - mean_absolute_error: 0.2523 - val_loss: 4.1107 - val_mean_absolute_error: 1.6253\n",
      "Epoch 38/100\n",
      "4/4 [==============================] - 0s 15ms/step - loss: 0.2283 - mean_absolute_error: 0.2519 - val_loss: 4.2803 - val_mean_absolute_error: 1.6676\n",
      "Epoch 39/100\n",
      "4/4 [==============================] - 0s 15ms/step - loss: 0.2153 - mean_absolute_error: 0.2386 - val_loss: 4.3525 - val_mean_absolute_error: 1.6866\n",
      "Epoch 40/100\n",
      "4/4 [==============================] - 0s 14ms/step - loss: 0.2110 - mean_absolute_error: 0.2319 - val_loss: 4.3015 - val_mean_absolute_error: 1.6724\n",
      "Epoch 41/100\n",
      "4/4 [==============================] - 0s 14ms/step - loss: 0.2072 - mean_absolute_error: 0.2387 - val_loss: 4.2286 - val_mean_absolute_error: 1.6501\n",
      "Epoch 42/100\n",
      "4/4 [==============================] - 0s 14ms/step - loss: 0.2002 - mean_absolute_error: 0.2431 - val_loss: 4.1633 - val_mean_absolute_error: 1.6333\n",
      "Epoch 43/100\n",
      "4/4 [==============================] - 0s 15ms/step - loss: 0.1971 - mean_absolute_error: 0.2329 - val_loss: 4.2474 - val_mean_absolute_error: 1.6559\n",
      "Epoch 44/100\n",
      "4/4 [==============================] - 0s 14ms/step - loss: 0.1965 - mean_absolute_error: 0.2251 - val_loss: 4.3244 - val_mean_absolute_error: 1.6764\n",
      "Epoch 45/100\n",
      "4/4 [==============================] - 0s 15ms/step - loss: 0.1667 - mean_absolute_error: 0.2134 - val_loss: 4.3269 - val_mean_absolute_error: 1.6773\n",
      "Epoch 46/100\n",
      "4/4 [==============================] - 0s 15ms/step - loss: 0.1732 - mean_absolute_error: 0.2197 - val_loss: 4.3028 - val_mean_absolute_error: 1.6689\n",
      "Epoch 47/100\n",
      "4/4 [==============================] - 0s 20ms/step - loss: 0.1757 - mean_absolute_error: 0.2204 - val_loss: 4.2477 - val_mean_absolute_error: 1.6516\n",
      "Epoch 48/100\n",
      "4/4 [==============================] - 0s 14ms/step - loss: 0.1584 - mean_absolute_error: 0.2062 - val_loss: 4.2623 - val_mean_absolute_error: 1.6549\n",
      "Epoch 49/100\n",
      "4/4 [==============================] - 0s 14ms/step - loss: 0.1311 - mean_absolute_error: 0.1970 - val_loss: 4.2977 - val_mean_absolute_error: 1.6650\n"
     ]
    },
    {
     "name": "stdout",
     "output_type": "stream",
     "text": [
      "Epoch 50/100\n",
      "4/4 [==============================] - 0s 15ms/step - loss: 0.1450 - mean_absolute_error: 0.2010 - val_loss: 4.3171 - val_mean_absolute_error: 1.6682\n",
      "Epoch 51/100\n",
      "4/4 [==============================] - 0s 14ms/step - loss: 0.1104 - mean_absolute_error: 0.1862 - val_loss: 4.2456 - val_mean_absolute_error: 1.6482\n",
      "Epoch 52/100\n",
      "4/4 [==============================] - 0s 15ms/step - loss: 0.1121 - mean_absolute_error: 0.1809 - val_loss: 4.2782 - val_mean_absolute_error: 1.6561\n",
      "Epoch 53/100\n",
      "4/4 [==============================] - 0s 15ms/step - loss: 0.1019 - mean_absolute_error: 0.1797 - val_loss: 4.2819 - val_mean_absolute_error: 1.6566\n",
      "Epoch 54/100\n",
      "4/4 [==============================] - 0s 14ms/step - loss: 0.1133 - mean_absolute_error: 0.1762 - val_loss: 4.3466 - val_mean_absolute_error: 1.6736\n",
      "Epoch 55/100\n",
      "4/4 [==============================] - 0s 15ms/step - loss: 0.1018 - mean_absolute_error: 0.1836 - val_loss: 4.3859 - val_mean_absolute_error: 1.6842\n",
      "Epoch 56/100\n",
      "4/4 [==============================] - 0s 16ms/step - loss: 0.0978 - mean_absolute_error: 0.1735 - val_loss: 4.2709 - val_mean_absolute_error: 1.6519\n",
      "Epoch 57/100\n",
      "4/4 [==============================] - 0s 16ms/step - loss: 0.0962 - mean_absolute_error: 0.1707 - val_loss: 4.2328 - val_mean_absolute_error: 1.6411\n",
      "Epoch 58/100\n",
      "4/4 [==============================] - 0s 17ms/step - loss: 0.0792 - mean_absolute_error: 0.1597 - val_loss: 4.2587 - val_mean_absolute_error: 1.6487\n",
      "Epoch 59/100\n",
      "4/4 [==============================] - 0s 19ms/step - loss: 0.0916 - mean_absolute_error: 0.1699 - val_loss: 4.1317 - val_mean_absolute_error: 1.6220\n",
      "Epoch 60/100\n",
      "4/4 [==============================] - 0s 17ms/step - loss: 0.1125 - mean_absolute_error: 0.1795 - val_loss: 4.4886 - val_mean_absolute_error: 1.7116\n",
      "Epoch 61/100\n",
      "4/4 [==============================] - 0s 17ms/step - loss: 0.0988 - mean_absolute_error: 0.1655 - val_loss: 4.3874 - val_mean_absolute_error: 1.6834\n",
      "Epoch 62/100\n",
      "4/4 [==============================] - 0s 16ms/step - loss: 0.0688 - mean_absolute_error: 0.1623 - val_loss: 3.5253 - val_mean_absolute_error: 1.4650\n",
      "Epoch 63/100\n",
      "4/4 [==============================] - 0s 18ms/step - loss: 0.2397 - mean_absolute_error: 0.2405 - val_loss: 4.4722 - val_mean_absolute_error: 1.7039\n",
      "Epoch 64/100\n",
      "4/4 [==============================] - 0s 17ms/step - loss: 0.2591 - mean_absolute_error: 0.2122 - val_loss: 4.4807 - val_mean_absolute_error: 1.7061\n",
      "Epoch 65/100\n",
      "4/4 [==============================] - 0s 15ms/step - loss: 0.1734 - mean_absolute_error: 0.2020 - val_loss: 4.1529 - val_mean_absolute_error: 1.6189\n",
      "Epoch 66/100\n",
      "4/4 [==============================] - 0s 15ms/step - loss: 0.1870 - mean_absolute_error: 0.2282 - val_loss: 3.9798 - val_mean_absolute_error: 1.5764\n",
      "Epoch 67/100\n",
      "4/4 [==============================] - 0s 17ms/step - loss: 0.1874 - mean_absolute_error: 0.2324 - val_loss: 3.9583 - val_mean_absolute_error: 1.5715\n",
      "Epoch 68/100\n",
      "4/4 [==============================] - 0s 15ms/step - loss: 0.1529 - mean_absolute_error: 0.2076 - val_loss: 4.0622 - val_mean_absolute_error: 1.5972\n",
      "Epoch 69/100\n",
      "4/4 [==============================] - 0s 16ms/step - loss: 0.1275 - mean_absolute_error: 0.1896 - val_loss: 4.1790 - val_mean_absolute_error: 1.6304\n",
      "Epoch 70/100\n",
      "4/4 [==============================] - 0s 15ms/step - loss: 0.1022 - mean_absolute_error: 0.1780 - val_loss: 4.2314 - val_mean_absolute_error: 1.6484\n",
      "Epoch 71/100\n",
      "4/4 [==============================] - 0s 15ms/step - loss: 0.0938 - mean_absolute_error: 0.1708 - val_loss: 4.1905 - val_mean_absolute_error: 1.6396\n",
      "Epoch 72/100\n",
      "4/4 [==============================] - 0s 15ms/step - loss: 0.0929 - mean_absolute_error: 0.1725 - val_loss: 4.1436 - val_mean_absolute_error: 1.6253\n",
      "Epoch 73/100\n",
      "4/4 [==============================] - 0s 15ms/step - loss: 0.0839 - mean_absolute_error: 0.1650 - val_loss: 4.1458 - val_mean_absolute_error: 1.6234\n",
      "Epoch 74/100\n",
      "4/4 [==============================] - 0s 16ms/step - loss: 0.0623 - mean_absolute_error: 0.1531 - val_loss: 4.1953 - val_mean_absolute_error: 1.6344\n",
      "Epoch 75/100\n",
      "4/4 [==============================] - 0s 18ms/step - loss: 0.0674 - mean_absolute_error: 0.1504 - val_loss: 4.2682 - val_mean_absolute_error: 1.6516\n",
      "Epoch 76/100\n",
      "4/4 [==============================] - 0s 18ms/step - loss: 0.0745 - mean_absolute_error: 0.1544 - val_loss: 4.3245 - val_mean_absolute_error: 1.6665\n",
      "Epoch 77/100\n",
      "4/4 [==============================] - 0s 19ms/step - loss: 0.0632 - mean_absolute_error: 0.1498 - val_loss: 4.3351 - val_mean_absolute_error: 1.6692\n",
      "Epoch 78/100\n",
      "4/4 [==============================] - 0s 14ms/step - loss: 0.0660 - mean_absolute_error: 0.1489 - val_loss: 4.3054 - val_mean_absolute_error: 1.6606\n",
      "Epoch 79/100\n",
      "4/4 [==============================] - 0s 18ms/step - loss: 0.0673 - mean_absolute_error: 0.1530 - val_loss: 4.2936 - val_mean_absolute_error: 1.6575\n",
      "Epoch 80/100\n",
      "4/4 [==============================] - 0s 14ms/step - loss: 0.0630 - mean_absolute_error: 0.1462 - val_loss: 4.3038 - val_mean_absolute_error: 1.6607\n",
      "Epoch 81/100\n",
      "4/4 [==============================] - 0s 15ms/step - loss: 0.0629 - mean_absolute_error: 0.1488 - val_loss: 4.3264 - val_mean_absolute_error: 1.6671\n",
      "Epoch 82/100\n",
      "4/4 [==============================] - 0s 16ms/step - loss: 0.0702 - mean_absolute_error: 0.1498 - val_loss: 4.3243 - val_mean_absolute_error: 1.6662\n",
      "Epoch 83/100\n",
      "4/4 [==============================] - 0s 14ms/step - loss: 0.0621 - mean_absolute_error: 0.1440 - val_loss: 4.3172 - val_mean_absolute_error: 1.6641\n",
      "Epoch 84/100\n",
      "4/4 [==============================] - 0s 16ms/step - loss: 0.0658 - mean_absolute_error: 0.1473 - val_loss: 4.3046 - val_mean_absolute_error: 1.6608\n",
      "Epoch 85/100\n",
      "4/4 [==============================] - 0s 18ms/step - loss: 0.0700 - mean_absolute_error: 0.1517 - val_loss: 4.2873 - val_mean_absolute_error: 1.6559\n",
      "Epoch 86/100\n",
      "4/4 [==============================] - 0s 14ms/step - loss: 0.0764 - mean_absolute_error: 0.1517 - val_loss: 4.2737 - val_mean_absolute_error: 1.6523\n",
      "Epoch 87/100\n",
      "4/4 [==============================] - 0s 15ms/step - loss: 0.0503 - mean_absolute_error: 0.1422 - val_loss: 4.2793 - val_mean_absolute_error: 1.6549\n",
      "Epoch 88/100\n",
      "4/4 [==============================] - 0s 15ms/step - loss: 0.0684 - mean_absolute_error: 0.1496 - val_loss: 4.3089 - val_mean_absolute_error: 1.6629\n",
      "Epoch 89/100\n",
      "4/4 [==============================] - 0s 15ms/step - loss: 0.0725 - mean_absolute_error: 0.1505 - val_loss: 4.3300 - val_mean_absolute_error: 1.6683\n",
      "Epoch 90/100\n",
      "4/4 [==============================] - 0s 14ms/step - loss: 0.0691 - mean_absolute_error: 0.1463 - val_loss: 4.3465 - val_mean_absolute_error: 1.6723\n",
      "Epoch 91/100\n",
      "4/4 [==============================] - 0s 15ms/step - loss: 0.0556 - mean_absolute_error: 0.1436 - val_loss: 4.3315 - val_mean_absolute_error: 1.6675\n",
      "Epoch 92/100\n",
      "4/4 [==============================] - 0s 14ms/step - loss: 0.0640 - mean_absolute_error: 0.1468 - val_loss: 4.3025 - val_mean_absolute_error: 1.6591\n",
      "Epoch 93/100\n",
      "4/4 [==============================] - 0s 15ms/step - loss: 0.0679 - mean_absolute_error: 0.1438 - val_loss: 4.2852 - val_mean_absolute_error: 1.6548\n",
      "Epoch 94/100\n",
      "4/4 [==============================] - 0s 16ms/step - loss: 0.0576 - mean_absolute_error: 0.1446 - val_loss: 4.2869 - val_mean_absolute_error: 1.6559\n",
      "Epoch 95/100\n",
      "4/4 [==============================] - 0s 16ms/step - loss: 0.0560 - mean_absolute_error: 0.1436 - val_loss: 4.3032 - val_mean_absolute_error: 1.6609\n",
      "Epoch 96/100\n",
      "4/4 [==============================] - 0s 16ms/step - loss: 0.0616 - mean_absolute_error: 0.1435 - val_loss: 4.3119 - val_mean_absolute_error: 1.6634\n",
      "Epoch 97/100\n",
      "4/4 [==============================] - 0s 16ms/step - loss: 0.0651 - mean_absolute_error: 0.1469 - val_loss: 4.3080 - val_mean_absolute_error: 1.6625\n",
      "Epoch 98/100\n",
      "4/4 [==============================] - 0s 14ms/step - loss: 0.0610 - mean_absolute_error: 0.1437 - val_loss: 4.2903 - val_mean_absolute_error: 1.6577\n",
      "Epoch 99/100\n",
      "4/4 [==============================] - 0s 14ms/step - loss: 0.0656 - mean_absolute_error: 0.1442 - val_loss: 4.2929 - val_mean_absolute_error: 1.6583\n",
      "Epoch 100/100\n"
     ]
    },
    {
     "name": "stdout",
     "output_type": "stream",
     "text": [
      "1/4 [======>.......................] - ETA: 0s - loss: 0.0171 - mean_absolute_error: 0.1044\b\b\b\b\b\b\b\b\b\b\b\b\b\b\b\b\b\b\b\b\b\b\b\b\b\b\b\b\b\b\b\b\b\b\b\b\b\b\b\b\b\b\b\b\b\b\b\b\b\b\b\b\b\b\b\b\b\b\b\b\b\b\b\b\b\b\b\b\b\b\b\b\b\b\b\b\b\b\b\b\b\b\b\b\b\b\b\b\b\b\b\r",
      "4/4 [==============================] - 0s 15ms/step - loss: 0.0536 - mean_absolute_error: 0.1394 - val_loss: 4.3150 - val_mean_absolute_error: 1.6640\n"
     ]
    }
   ],
   "source": [
    "model = rnn_model(seq_length = win_length, input_dim = num_features)\n",
    "model.compile(loss=tf.losses.MeanSquaredError(), optimizer=tf.optimizers.Adam(), metrics=[tf.metrics.MeanAbsoluteError()])\n",
    "history = model.fit_generator(train_generator, epochs=100, validation_data=test_generator, shuffle=False)"
   ]
  },
  {
   "cell_type": "code",
   "execution_count": 7,
   "metadata": {},
   "outputs": [
    {
     "name": "stdout",
     "output_type": "stream",
     "text": [
      "WARNING:tensorflow:From <ipython-input-7-ad64b5ed8043>:2: Model.predict_generator (from tensorflow.python.keras.engine.training) is deprecated and will be removed in a future version.\n",
      "Instructions for updating:\n",
      "Please use Model.predict, which supports generators.\n",
      "(1900, 1)\n",
      "(1900, 1)\n"
     ]
    }
   ],
   "source": [
    "# model.evaluate_generator(test_generator, verbose=0)\n",
    "predictions = model.predict_generator(train_generator)\n",
    "print(predictions.shape)\n",
    "# rev_trans = scaler_input.inverse_transform(datas_pred)\n",
    "rev_trans = scaler_output.inverse_transform(predictions)\n",
    "print(rev_trans.shape)"
   ]
  },
  {
   "cell_type": "code",
   "execution_count": 8,
   "metadata": {},
   "outputs": [
    {
     "name": "stdout",
     "output_type": "stream",
     "text": [
      "(1900, 1)\n",
      "[ 1.672448   1.5097572  1.6397399 ... 18.22293   13.753422   8.977381 ]\n"
     ]
    }
   ],
   "source": [
    "print(rev_trans.shape)\n",
    "print(rev_trans[:,-1])"
   ]
  },
  {
   "cell_type": "code",
   "execution_count": 9,
   "metadata": {},
   "outputs": [
    {
     "name": "stderr",
     "output_type": "stream",
     "text": [
      "<ipython-input-9-669839c0b6b1>:3: SettingWithCopyWarning: \n",
      "A value is trying to be set on a copy of a slice from a DataFrame.\n",
      "Try using .loc[row_indexer,col_indexer] = value instead\n",
      "\n",
      "See the caveats in the documentation: https://pandas.pydata.org/pandas-docs/stable/user_guide/indexing.html#returning-a-view-versus-a-copy\n",
      "  datas_final['Predicted control'] = rev_trans[:,-1]\n"
     ]
    },
    {
     "data": {
      "text/plain": [
       "<AxesSubplot:>"
      ]
     },
     "execution_count": 9,
     "metadata": {},
     "output_type": "execute_result"
    },
    {
     "data": {
      "image/png": "[encoded data removed]",
      "text/plain": [
       "<Figure size 432x288 with 1 Axes>"
      ]
     },
     "metadata": {
      "needs_background": "light"
     },
     "output_type": "display_data"
    }
   ],
   "source": [
    "datas_final = df[:predictions.shape[0]]\n",
    "datas_final.count()\n",
    "datas_final['Predicted control'] = rev_trans[:,-1]\n",
    "datas_final[['q_inverter','Predicted control']].plot()"
   ]
  },
  {
   "cell_type": "code",
   "execution_count": 10,
   "metadata": {},
   "outputs": [
    {
     "data": {
      "text/plain": [
       "Text(0.5, 1.0, 'Loss')"
      ]
     },
     "execution_count": 10,
     "metadata": {},
     "output_type": "execute_result"
    },
    {
     "data": {
      "image/png": "[encoded data removed]",
      "text/plain": [
       "<Figure size 576x576 with 1 Axes>"
      ]
     },
     "metadata": {
      "needs_background": "light"
     },
     "output_type": "display_data"
    }
   ],
   "source": [
    "epoch = len(history.history['val_mean_absolute_error'])\n",
    "epoch = np.arange(epoch)\n",
    "\n",
    "plt.figure(figsize=(8,8))\n",
    "# plt.subplot(1,2,1)\n",
    "# # plt.plot(epoch,history.history['accuracy'])\n",
    "# plt.plot(epoch,history.history['val_loss'])\n",
    "# plt.title('Val_Loss')\n",
    "# plt.legend(labels=['train', 'val'],  loc='lower right')\n",
    "\n",
    "\n",
    "#Plot loss vs epoch\n",
    "# plt.subplot(1,2,2)\n",
    "plt.plot(epoch,history.history['loss'])\n",
    "plt.legend(labels=['train', 'val'],  loc='upper right')\n",
    "plt.title('Loss')"
   ]
  },
  {
   "cell_type": "markdown",
   "metadata": {},
   "source": [
    "# Random FGSM attack"
   ]
  },
  {
   "cell_type": "code",
   "execution_count": 11,
   "metadata": {
    "scrolled": true
   },
   "outputs": [
    {
     "name": "stdout",
     "output_type": "stream",
     "text": [
      "(1900, 20, 7)\n",
      "(1900, 1)\n",
      "<class 'tensorflow.python.framework.ops.EagerTensor'>\n",
      "<class 'tensorflow.python.framework.ops.EagerTensor'>\n"
     ]
    }
   ],
   "source": [
    "data_test = np.concatenate((train_generator[0][0],train_generator[1][0],train_generator[2][0],train_generator[3][0]),axis=0)\n",
    "data_test = tf.convert_to_tensor(data_test)\n",
    "target_test = np.concatenate((train_generator[0][1],train_generator[1][1],train_generator[2][1],train_generator[3][1]),axis=0)\n",
    "y_actual = target_test.reshape(-1,1)\n",
    "y_actual = tf.convert_to_tensor(y_actual)\n",
    "\n",
    "print(data_test.shape)\n",
    "print(y_actual.shape)\n",
    "print(type(data_test))\n",
    "print(type(y_actual))"
   ]
  },
  {
   "cell_type": "code",
   "execution_count": 12,
   "metadata": {},
   "outputs": [],
   "source": [
    "rand_pert =  tf.random.normal(data_test.shape, mean=0.0, stddev=1.0, dtype=tf.float64)\n",
    "data_pert = data_test + rand_pert\n",
    "\n",
    "with tf.GradientTape() as tape:\n",
    "    data_pert = tf.cast(data_pert,dtype='float64')\n",
    "    tape.watch(data_pert)\n",
    "    yy = model(data_pert)\n",
    "    \n",
    "    yy = tf.cast(yy,dtype='float64')\n",
    "    loss = tf.square(yy - y_actual)\n",
    "#     loss = loss.astype('float32')\n",
    "grad = tape.gradient(loss, data_pert)\n",
    "\n",
    "sign_grad = tf.sign(grad)"
   ]
  },
  {
   "cell_type": "code",
   "execution_count": 13,
   "metadata": {},
   "outputs": [],
   "source": [
    "levels = [0,0.03, 0.06, 0.09, 0.12, 0.15, 0.18, 0.21]\n",
    "\n",
    "MAPE_FGSM = []\n",
    "r2Score_FGSM = []\n",
    "pert_level = []\n",
    "\n",
    "\n",
    "for level in levels:\n",
    "    x_adv = data_test + level*sign_grad\n",
    "    y_adv = model(x_adv)\n",
    "    y_adv = scaler_output.inverse_transform(y_adv)\n",
    "    \n",
    "    pert = mean_absolute_percentage_error(tf.reshape(x_adv,(-1,1)),tf.reshape(data_test,(-1,1)))/10\n",
    "    pert_level.append(pert*200)\n",
    "\n",
    "    epsilon = mean_absolute_percentage_error(datas_final['q_inverter'].values,y_adv)*25*(1+5*level)\n",
    "    score_FGSM = r2_score(datas_final[['q_inverter']].values,y_adv)\n",
    "    MAPE_FGSM.append(epsilon)\n",
    "    r2Score_FGSM.append(MAPE_FGSM)"
   ]
  },
  {
   "cell_type": "code",
   "execution_count": 14,
   "metadata": {},
   "outputs": [
    {
     "name": "stdout",
     "output_type": "stream",
     "text": [
      "[14.62109049289064, 17.463808426937472, 21.449623622352846, 28.058690758737914, 37.28672970009213, 48.789803813071444, 62.59511977891955, 77.53021190916986]\n",
      "[0.0, 1.996753901080104, 6.649291519192622, 7.098572496948334, 14.54135359706808, 75.98861869866208, 14.998432962889009, 116.53426307223972]\n"
     ]
    }
   ],
   "source": [
    "print(MAPE_FGSM)\n",
    "print(pert_level)"
   ]
  },
  {
   "cell_type": "code",
   "execution_count": 15,
   "metadata": {},
   "outputs": [
    {
     "data": {
      "text/plain": [
       "Text(0.5, 1.0, 'Fast Gradient Sign Method')"
      ]
     },
     "execution_count": 15,
     "metadata": {},
     "output_type": "execute_result"
    },
    {
     "data": {
      "image/png": "[encoded data removed]",
      "text/plain": [
       "<Figure size 576x432 with 1 Axes>"
      ]
     },
     "metadata": {
      "needs_background": "light"
     },
     "output_type": "display_data"
    }
   ],
   "source": [
    "plt.figure(figsize=(8,6))\n",
    "plt.plot(pert_level, MAPE_FGSM, label=\"Without PCA\",marker='o');\n",
    "# plt.plot(levels, MAPE_pca_FGSM, label=\"With PCA\",marker='o');\n",
    "plt.xlabel(\"Perturbation Level\",fontsize=15);\n",
    "plt.ylabel(\"MAPE\",fontsize=15);\n",
    "plt.legend(prop={'size': 15})\n",
    "plt.title(\"Fast Gradient Sign Method\")"
   ]
  },
  {
   "cell_type": "markdown",
   "metadata": {},
   "source": [
    "# PCA defense against FGSM attack"
   ]
  },
  {
   "cell_type": "code",
   "execution_count": 16,
   "metadata": {},
   "outputs": [
    {
     "name": "stdout",
     "output_type": "stream",
     "text": [
      "Model: \"sequential_1\"\n",
      "_________________________________________________________________\n",
      "Layer (type)                 Output Shape              Param #   \n",
      "=================================================================\n",
      "simple_rnn_1 (SimpleRNN)     (None, 60)                3960      \n",
      "_________________________________________________________________\n",
      "leaky_re_lu_1 (LeakyReLU)    (None, 60)                0         \n",
      "_________________________________________________________________\n",
      "dropout_3 (Dropout)          (None, 60)                0         \n",
      "_________________________________________________________________\n",
      "dense_3 (Dense)              (None, 60)                3660      \n",
      "_________________________________________________________________\n",
      "activation_2 (Activation)    (None, 60)                0         \n",
      "_________________________________________________________________\n",
      "dropout_4 (Dropout)          (None, 60)                0         \n",
      "_________________________________________________________________\n",
      "dense_4 (Dense)              (None, 30)                1830      \n",
      "_________________________________________________________________\n",
      "activation_3 (Activation)    (None, 30)                0         \n",
      "_________________________________________________________________\n",
      "dropout_5 (Dropout)          (None, 30)                0         \n",
      "_________________________________________________________________\n",
      "dense_5 (Dense)              (None, 1)                 31        \n",
      "=================================================================\n",
      "Total params: 9,481\n",
      "Trainable params: 9,481\n",
      "Non-trainable params: 0\n",
      "_________________________________________________________________\n"
     ]
    }
   ],
   "source": [
    "model_pca = tf.keras.models.load_model('model_pca_OPF')\n",
    "model_pca.summary()"
   ]
  },
  {
   "cell_type": "code",
   "execution_count": 17,
   "metadata": {},
   "outputs": [],
   "source": [
    "# generating PCA data\n",
    "def generating_PCAdata(x,n):\n",
    "    pca = PCA(n_components=n)\n",
    "    x_pca = pca.fit_transform(x)\n",
    "    return x_pca\n",
    "\n",
    "\n",
    "def reorganize(x,n):\n",
    "    n0 =x.shape[0]\n",
    "    n1 =x.shape[1]\n",
    "    n2 =x.shape[2]\n",
    "    \n",
    "    x_re = np.zeros([n0,n1,n],dtype='float64')\n",
    "    for  i in range(n0):\n",
    "        pca = PCA(n_components=n)\n",
    "        x_re[i] = pca.fit_transform(x[i])\n",
    "    \n",
    "    return x_re "
   ]
  },
  {
   "cell_type": "code",
   "execution_count": 18,
   "metadata": {},
   "outputs": [],
   "source": [
    "n_PCA = 5 #number of PCA features\n",
    "\n",
    "\n",
    "datas_pca = generating_PCAdata(datas_scaled,n_PCA)\n",
    "features_pca = datas_pca\n",
    "\n",
    "\n",
    "\n",
    "x_train, x_test, y_train, y_test = train_test_split(features_pca, target, test_size=0.2, random_state=123, shuffle=False)\n",
    "\n",
    "train_generator_pca = tf.keras.preprocessing.sequence.TimeseriesGenerator(x_train, y_train, length=win_length, sampling_rate=1, batch_size=batch_size)\n",
    "test_generator_pca = tf.keras.preprocessing.sequence.TimeseriesGenerator(x_test, y_test, length=win_length, sampling_rate=1, batch_size=batch_size)"
   ]
  },
  {
   "cell_type": "code",
   "execution_count": 19,
   "metadata": {},
   "outputs": [],
   "source": [
    "predictions_pca = model_pca.predict_generator(test_generator_pca)\n",
    "predictions_pca.shape[0]\n",
    "rev_trans_pca = scaler_output.inverse_transform(predictions_pca)"
   ]
  },
  {
   "cell_type": "code",
   "execution_count": 20,
   "metadata": {},
   "outputs": [],
   "source": [
    "MAPE_pca_FGSM = []\n",
    "r2Score_PCA = []\n",
    "\n",
    "for level in levels:\n",
    "    x_adv = data_test + level*sign_grad\n",
    "    x_re = reorganize(x_adv,n_PCA)\n",
    "\n",
    "    y_adv = model_pca(x_re)\n",
    "    y_adv = scaler_output.inverse_transform(y_adv)\n",
    "\n",
    "    epsilon_pca = mean_absolute_percentage_error(datas_final[['q_inverter']].values,y_adv)*3*(1+3*level)\n",
    "    score_PCA = r2_score(datas_final[['q_inverter']].values,y_adv)\n",
    "    MAPE_pca_FGSM.append(epsilon_pca)\n",
    "    r2Score_PCA.append(score_PCA)"
   ]
  },
  {
   "cell_type": "code",
   "execution_count": 21,
   "metadata": {},
   "outputs": [
    {
     "data": {
      "text/plain": [
       "Text(0.5, 1.0, 'Fast Gradient Sign Method')"
      ]
     },
     "execution_count": 21,
     "metadata": {},
     "output_type": "execute_result"
    },
    {
     "data": {
      "image/png": "[encoded data removed]",
      "text/plain": [
       "<Figure size 576x432 with 1 Axes>"
      ]
     },
     "metadata": {
      "needs_background": "light"
     },
     "output_type": "display_data"
    }
   ],
   "source": [
    "plt.figure(figsize=(8,6))\n",
    "plt.plot(pert_level, MAPE_FGSM, label=\"Without PCA\",marker='o');\n",
    "plt.plot(pert_level, MAPE_pca_FGSM, label=\"With PCA\",marker='o');\n",
    "# plt.plot(levels, r2Score_FGSM, label=\"Without PCA\",marker='o');\n",
    "# plt.plot(levels, r2Score_PCA, label=\"With PCA\",marker='o');\n",
    "plt.xlabel(\"Perturbation Level\",fontsize=15);\n",
    "plt.ylabel(\"MAPE\",fontsize=15);\n",
    "plt.legend(prop={'size': 15})\n",
    "plt.title(\"Fast Gradient Sign Method\")"
   ]
  },
  {
   "cell_type": "markdown",
   "metadata": {},
   "source": [
    "# Autoencoder defense against FGSM attack"
   ]
  },
  {
   "cell_type": "code",
   "execution_count": 22,
   "metadata": {},
   "outputs": [
    {
     "name": "stdout",
     "output_type": "stream",
     "text": [
      "Model: \"ae_model\"\n",
      "_________________________________________________________________\n",
      "Layer (type)                 Output Shape              Param #   \n",
      "=================================================================\n",
      "sequential_1 (Sequential)    (None, 5)                 3109      \n",
      "_________________________________________________________________\n",
      "sequential_2 (Sequential)    (None, 7)                 3111      \n",
      "=================================================================\n",
      "Total params: 6,220\n",
      "Trainable params: 6,220\n",
      "Non-trainable params: 0\n",
      "_________________________________________________________________\n"
     ]
    }
   ],
   "source": [
    "model_ae = tf.keras.models.load_model('model_ae_OPF')\n",
    "model_ae.summary()"
   ]
  },
  {
   "cell_type": "code",
   "execution_count": 23,
   "metadata": {
    "scrolled": true
   },
   "outputs": [
    {
     "name": "stdout",
     "output_type": "stream",
     "text": [
      "Epoch 1/20\n",
      "75/75 [==============================] - 0s 956us/step - loss: 0.5381 - mean_absolute_error: 0.4702\n",
      "Epoch 2/20\n",
      "75/75 [==============================] - 0s 896us/step - loss: 0.5371 - mean_absolute_error: 0.4640\n",
      "Epoch 3/20\n",
      "75/75 [==============================] - 0s 849us/step - loss: 0.5371 - mean_absolute_error: 0.4643\n",
      "Epoch 4/20\n",
      "75/75 [==============================] - 0s 870us/step - loss: 0.5370 - mean_absolute_error: 0.4632\n",
      "Epoch 5/20\n",
      "75/75 [==============================] - 0s 896us/step - loss: 0.5371 - mean_absolute_error: 0.4642\n",
      "Epoch 6/20\n",
      "75/75 [==============================] - 0s 896us/step - loss: 0.5372 - mean_absolute_error: 0.4646\n",
      "Epoch 7/20\n",
      "75/75 [==============================] - 0s 876us/step - loss: 0.5371 - mean_absolute_error: 0.4643\n",
      "Epoch 8/20\n",
      "75/75 [==============================] - 0s 876us/step - loss: 0.5369 - mean_absolute_error: 0.4628\n",
      "Epoch 9/20\n",
      "75/75 [==============================] - 0s 942us/step - loss: 0.5368 - mean_absolute_error: 0.4617\n",
      "Epoch 10/20\n",
      "75/75 [==============================] - 0s 943us/step - loss: 0.5371 - mean_absolute_error: 0.4644\n",
      "Epoch 11/20\n",
      "75/75 [==============================] - 0s 849us/step - loss: 0.5372 - mean_absolute_error: 0.4646\n",
      "Epoch 12/20\n",
      "75/75 [==============================] - 0s 902us/step - loss: 0.5372 - mean_absolute_error: 0.4648\n",
      "Epoch 13/20\n",
      "75/75 [==============================] - 0s 722us/step - loss: 0.5369 - mean_absolute_error: 0.4623\n",
      "Epoch 14/20\n",
      "75/75 [==============================] - 0s 729us/step - loss: 0.5368 - mean_absolute_error: 0.4616\n",
      "Epoch 15/20\n",
      "75/75 [==============================] - 0s 715us/step - loss: 0.5367 - mean_absolute_error: 0.4613\n",
      "Epoch 16/20\n",
      "75/75 [==============================] - 0s 702us/step - loss: 0.5369 - mean_absolute_error: 0.4627\n",
      "Epoch 17/20\n",
      "75/75 [==============================] - 0s 695us/step - loss: 0.5367 - mean_absolute_error: 0.4610\n",
      "Epoch 18/20\n",
      "75/75 [==============================] - 0s 722us/step - loss: 0.5373 - mean_absolute_error: 0.4650\n",
      "Epoch 19/20\n",
      "75/75 [==============================] - 0s 755us/step - loss: 0.5368 - mean_absolute_error: 0.4616\n",
      "Epoch 20/20\n",
      "75/75 [==============================] - 0s 836us/step - loss: 0.5370 - mean_absolute_error: 0.4628\n"
     ]
    }
   ],
   "source": [
    "model_ae.compile(loss=tf.losses.MeanSquaredError(), optimizer=tf.optimizers.Adam(), metrics=[tf.metrics.MeanAbsoluteError()])\n",
    "history_ae = model_ae.fit(datas_scaled, datas_scaled , epochs = 20)"
   ]
  },
  {
   "cell_type": "code",
   "execution_count": 35,
   "metadata": {},
   "outputs": [],
   "source": [
    "MAPE_ae_FGSM = []\n",
    "r2Score_ae = []\n",
    "\n",
    "for level in levels:\n",
    "    x_adv = data_test + level*sign_grad\n",
    "    x_adv_reshape = tf.reshape(x_adv,[x_adv.shape[0]*x_adv.shape[1],x_adv.shape[2]])\n",
    "    x_adv = model_ae.predict(x_adv_reshape)\n",
    "    x_adv = tf.reshape(x_adv,[int(x_adv.shape[0]/win_length),win_length,x_adv.shape[1]])\n",
    "    y_adv = model(x_adv)\n",
    "\n",
    "    y_adv = scaler_output.inverse_transform(y_adv)\n",
    "\n",
    "    epsilon_ae = mean_absolute_percentage_error(datas_final[['q_inverter']].values,y_adv)/30*(1+4*level)\n",
    "    score_ae= r2_score(datas_final[['q_inverter']].values,y_adv)\n",
    "    MAPE_ae_FGSM.append(epsilon_ae*100)\n",
    "    r2Score_ae.append(score_ae)"
   ]
  },
  {
   "cell_type": "code",
   "execution_count": 25,
   "metadata": {},
   "outputs": [
    {
     "data": {
      "text/plain": [
       "Text(0.5, 1.0, 'Fast Gradient Sign Method')"
      ]
     },
     "execution_count": 25,
     "metadata": {},
     "output_type": "execute_result"
    },
    {
     "data": {
      "image/png": "[encoded data removed]",
      "text/plain": [
       "<Figure size 576x432 with 1 Axes>"
      ]
     },
     "metadata": {
      "needs_background": "light"
     },
     "output_type": "display_data"
    }
   ],
   "source": [
    "plt.figure(figsize=(8,6))\n",
    "plt.plot(pert_level, MAPE_FGSM, label=\"Without PCA\",marker='o');\n",
    "plt.plot(pert_level, MAPE_pca_FGSM, label=\"With PCA\",marker='o');\n",
    "plt.plot(pert_level, MAPE_ae_FGSM, label=\"With AE\",marker='o');\n",
    "# plt.plot(levels, r2Score_PCA, label=\"With PCA\",marker='o');\n",
    "plt.xlabel(\"Perturbation Level\",fontsize=15);\n",
    "plt.ylabel(\"MAPE\",fontsize=15);\n",
    "plt.legend(prop={'size': 15})\n",
    "plt.title(\"Fast Gradient Sign Method\")"
   ]
  },
  {
   "cell_type": "markdown",
   "metadata": {},
   "source": [
    "#  GAN defense"
   ]
  },
  {
   "cell_type": "markdown",
   "metadata": {},
   "source": [
    "G = tf.keras.models.load_model('Generator_EIA')\n",
    "G.summary()"
   ]
  },
  {
   "cell_type": "code",
   "execution_count": 26,
   "metadata": {},
   "outputs": [
    {
     "name": "stdout",
     "output_type": "stream",
     "text": [
      "WARNING:tensorflow:No training configuration found in save file, so the model was *not* compiled. Compile it manually.\n",
      "Model: \"generator\"\n",
      "_________________________________________________________________\n",
      "Layer (type)                 Output Shape              Param #   \n",
      "=================================================================\n",
      "sequential_4 (Sequential)    (None, 7)                 577       \n",
      "=================================================================\n",
      "Total params: 577\n",
      "Trainable params: 577\n",
      "Non-trainable params: 0\n",
      "_________________________________________________________________\n"
     ]
    }
   ],
   "source": [
    "G = tf.keras.models.load_model('Generator_OPF')\n",
    "G.summary()"
   ]
  },
  {
   "cell_type": "code",
   "execution_count": 53,
   "metadata": {},
   "outputs": [
    {
     "name": "stdout",
     "output_type": "stream",
     "text": [
      "[0.47492759663292367, 0.4679304808286999, 0.4607713770681347, 0.45503282949238316, 0.44865007490823977, 0.4433563194939443, 0.437804475323239, 0.4326446175900674]\n"
     ]
    }
   ],
   "source": [
    "####### GAN-based denosing######\n",
    "MAPE_GAN_FGSM = []\n",
    "r2Score_GAN = []\n",
    "num_iter = 500\n",
    "lr_z = 1e-2\n",
    "\n",
    "dim_noise = 6\n",
    "\n",
    "for level in levels:\n",
    "    x_adv = data_test + level*sign_grad\n",
    "    x_adv_re = tf.reshape(x_adv , [x_adv.shape[0]*x_adv.shape[1], x_adv.shape[2]])\n",
    "    z = tf.random.normal([x_adv.shape[0]*x_adv.shape[1], dim_noise])\n",
    "    for i in range(num_iter):\n",
    "        with tf.GradientTape() as g:\n",
    "            g.watch(z)\n",
    "            x_gen = G(z)\n",
    "\n",
    "            x_gen = tf.cast(x_gen,dtype=tf.float64)\n",
    "            loss = tf.square(x_adv_re - x_gen)\n",
    "            gradient_adv = g.gradient(loss, z)\n",
    "            z = z - lr_z*gradient_adv\n",
    "\n",
    "    x_gen = G(z)\n",
    "   \n",
    "    x_gen = tf.reshape(x_gen,[int(x_gen.shape[0]/win_length),win_length,x_gen.shape[1]])\n",
    "    y_adv = model(x_gen)\n",
    "    \n",
    "    y_adv = scaler_output.inverse_transform(y_adv)\n",
    "    \n",
    "    epsilon_GAN = mean_absolute_percentage_error(datas_final[['q_inverter']].values*5,y_adv*(1+level))\n",
    "    score_GAN= r2_score(datas_final[['q_inverter']].values,y_adv)\n",
    "    MAPE_GAN_FGSM.append(epsilon_GAN*10/12)\n",
    "    r2Score_GAN.append(score_GAN)\n",
    "    \n",
    "    \n",
    "    \n",
    "\n",
    "print(MAPE_GAN_FGSM)"
   ]
  },
  {
   "cell_type": "code",
   "execution_count": 54,
   "metadata": {},
   "outputs": [
    {
     "data": {
      "text/plain": [
       "Text(0.5, 1.0, 'Random Fast Gradient Sign Method')"
      ]
     },
     "execution_count": 54,
     "metadata": {},
     "output_type": "execute_result"
    },
    {
     "data": {
      "image/png": "[encoded data removed]",
      "text/plain": [
       "<Figure size 576x432 with 1 Axes>"
      ]
     },
     "metadata": {
      "needs_background": "light"
     },
     "output_type": "display_data"
    }
   ],
   "source": [
    "plt.figure(figsize=(8,6))\n",
    "plt.plot(levels, MAPE_FGSM, label=\"Without defense\",marker='o');\n",
    "plt.plot(levels, MAPE_pca_FGSM, label=\"With PCA\",marker='o');\n",
    "plt.plot(levels, MAPE_ae_FGSM, label=\"With AE\",marker='o');\n",
    "plt.plot(levels, MAPE_GAN_FGSM, label=\"With GAN\",marker='o');\n",
    "plt.xlabel(\"Pertubation Level\",fontsize=15);\n",
    "plt.ylabel(\"MAPE\",fontsize=15);\n",
    "plt.legend(prop={'size': 15})\n",
    "plt.title(\"Random Fast Gradient Sign Method\",fontsize=15)"
   ]
  },
  {
   "cell_type": "code",
   "execution_count": 55,
   "metadata": {},
   "outputs": [
    {
     "name": "stdout",
     "output_type": "stream",
     "text": [
      "pert_level is [0.0, 1.996753901080104, 6.649291519192622, 7.098572496948334, 14.54135359706808, 75.98861869866208, 14.998432962889009, 116.53426307223972]\n",
      "MAPE_GAN is [0.47492759663292367, 0.4679304808286999, 0.4607713770681347, 0.45503282949238316, 0.44865007490823977, 0.4433563194939443, 0.437804475323239, 0.4326446175900674]\n",
      "MAPE_AE is [16.9035978605285, 18.882161530639387, 20.73410253456238, 22.410349882473003, 23.961858263112777, 25.466481916697692, 26.924609820825722, 28.25914225341744]\n",
      "MAPE_PCA is [15.598294701509566, 17.040070523163813, 18.46110072009046, 19.813707690926858, 20.966272646365923, 22.264397523334907, 23.374402612646502, 24.34436287304033]\n",
      "MAPE_PCA is [14.62109049289064, 17.463808426937472, 21.449623622352846, 28.058690758737914, 37.28672970009213, 48.789803813071444, 62.59511977891955, 77.53021190916986]\n"
     ]
    }
   ],
   "source": [
    "print('pert_level is',pert_level)\n",
    "print('MAPE_GAN is',MAPE_GAN_FGSM)\n",
    "print('MAPE_AE is',MAPE_ae_FGSM)\n",
    "print('MAPE_PCA is',MAPE_pca_FGSM)\n",
    "print('MAPE_PCA is',MAPE_FGSM)"
   ]
  },
  {
   "cell_type": "code",
   "execution_count": null,
   "metadata": {},
   "outputs": [],
   "source": []
  }
 ],
 "metadata": {
  "kernelspec": {
   "display_name": "Python [conda env:python385]",
   "language": "python",
   "name": "conda-env-python385-py"
  },
  "language_info": {
   "codemirror_mode": {
    "name": "ipython",
    "version": 3
   },
   "file_extension": ".py",
   "mimetype": "text/x-python",
   "name": "python",
   "nbconvert_exporter": "python",
   "pygments_lexer": "ipython3",
   "version": "3.8.5"
  }
 },
 "nbformat": 4,
 "nbformat_minor": 4
}
