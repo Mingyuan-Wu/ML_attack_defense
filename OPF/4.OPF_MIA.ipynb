{
 "cells": [
  {
   "cell_type": "code",
   "execution_count": 1,
   "metadata": {},
   "outputs": [],
   "source": [
    "import tensorflow as tf\n",
    "import tensorflow.keras as keras\n",
    "from tensorflow.keras.models import Sequential\n",
    "from tensorflow.keras.layers import Dense, Dropout, LSTM, SimpleRNN, Activation\n",
    "import numpy as np\n",
    "import pandas as pd\n",
    "import matplotlib.pyplot as plt\n",
    "\n",
    "from keras.preprocessing.sequence import TimeseriesGenerator\n",
    "from sklearn.model_selection import train_test_split\n",
    "from sklearn.preprocessing import StandardScaler, MinMaxScaler\n",
    "\n",
    "from sklearn.metrics import r2_score\n",
    "from sklearn.metrics import mean_absolute_percentage_error\n",
    "\n",
    "from sklearn.decomposition import PCA"
   ]
  },
  {
   "cell_type": "code",
   "execution_count": 2,
   "metadata": {},
   "outputs": [],
   "source": [
    "path = \"F:\\JupyterNotebook_Dir\\REAM _Lab\\OPF\\SUMMARY TABLE\\Inverter_Ouput_Gen_4.xlsx\"\n",
    "df = pd.read_excel(path)       #read data\n",
    "\n",
    "q_inverter = df[\"q_inverter\"].values;\n",
    "p_demand = df[\"net_p_demand\"].values      #access columns\n",
    "q_consumption = df[\"q_consumption\"].values;\n",
    "q_capacity = df[\"q_capacity\"].values;\n",
    "p_x_q = df[\"p_x_q\"].values\n",
    "p_x_p = df[\"p_x_p\"].values\n",
    "p_x_q_capacity = df[\"p_x_q_capacity\"].values;\n",
    "voltage = df[\"voltage\"].values;\n",
    "\n",
    "\n",
    "\n",
    "data_output = q_inverter\n",
    "\n",
    "data_input = np.vstack((p_demand,q_consumption,q_capacity,p_x_q,p_x_p,p_x_q_capacity,voltage)).T"
   ]
  },
  {
   "cell_type": "code",
   "execution_count": 3,
   "metadata": {},
   "outputs": [
    {
     "name": "stdout",
     "output_type": "stream",
     "text": [
      "(2400, 7)\n",
      "[1.01674266 0.96960554 0.8726523  ... 1.30365752 2.04694708 1.44945981]\n"
     ]
    }
   ],
   "source": [
    "print(data_input.shape)\n",
    "print(data_output)"
   ]
  },
  {
   "cell_type": "code",
   "execution_count": 4,
   "metadata": {},
   "outputs": [],
   "source": [
    "def rnn_model(seq_length, input_dim):\n",
    "    model = Sequential()\n",
    "#     model.add(tf.keras.layers.LSTM(128, input_shape= (seq_length, input_dim), return_sequences=False))\n",
    "    model.add((SimpleRNN(60, input_shape=(seq_length, input_dim))))\n",
    "#     model.add(Activation('relu'))\n",
    "    model.add(tf.keras.layers.LeakyReLU(alpha=0.1))\n",
    "    model.add(Dropout(0.2))\n",
    "    \n",
    "    model.add(Dense(60))\n",
    "    model.add(Activation('relu'))\n",
    "    model.add(Dropout(0.2))\n",
    "    model.add(Dense(30))\n",
    "    model.add(Activation('relu'))\n",
    "    model.add(Dropout(0.2))\n",
    "    model.add(Dense(1))\n",
    "    return model"
   ]
  },
  {
   "cell_type": "code",
   "execution_count": 5,
   "metadata": {},
   "outputs": [],
   "source": [
    "scaler_input = StandardScaler()\n",
    "scaler_output = StandardScaler()\n",
    "\n",
    "datas_scaled = scaler_input.fit_transform(data_input)\n",
    "features = datas_scaled\n",
    "\n",
    "data_output = data_output.reshape(-1,1)\n",
    "target = scaler_output.fit_transform(data_output)\n",
    "target = target.reshape(-1,1)\n",
    "\n",
    "\n",
    "x_train, x_test, y_train, y_test = train_test_split(features, target, test_size=0.2, random_state=123, shuffle=False)\n",
    "x_train.shape\n",
    "win_length = 20\n",
    "batch_size = 500\n",
    "num_features = 7\n",
    "train_generator = tf.keras.preprocessing.sequence.TimeseriesGenerator(x_train, y_train, length=win_length, sampling_rate=1, batch_size=batch_size)\n",
    "test_generator = tf.keras.preprocessing.sequence.TimeseriesGenerator(x_test, y_test, length=win_length, sampling_rate=1, batch_size=batch_size)"
   ]
  },
  {
   "cell_type": "code",
   "execution_count": 6,
   "metadata": {
    "scrolled": true
   },
   "outputs": [
    {
     "name": "stdout",
     "output_type": "stream",
     "text": [
      "WARNING:tensorflow:From <ipython-input-6-6c2519aaf3d6>:3: Model.fit_generator (from tensorflow.python.keras.engine.training) is deprecated and will be removed in a future version.\n",
      "Instructions for updating:\n",
      "Please use Model.fit, which supports generators.\n",
      "Epoch 1/100\n",
      "4/4 [==============================] - 0s 71ms/step - loss: 1.0524 - mean_absolute_error: 0.9209 - val_loss: 3.1047 - val_mean_absolute_error: 1.3402\n",
      "Epoch 2/100\n",
      "4/4 [==============================] - 0s 15ms/step - loss: 0.6460 - mean_absolute_error: 0.6579 - val_loss: 3.5287 - val_mean_absolute_error: 1.4565\n",
      "Epoch 3/100\n",
      "4/4 [==============================] - 0s 15ms/step - loss: 0.4763 - mean_absolute_error: 0.4929 - val_loss: 3.8514 - val_mean_absolute_error: 1.5432\n",
      "Epoch 4/100\n",
      "4/4 [==============================] - 0s 15ms/step - loss: 0.4037 - mean_absolute_error: 0.3869 - val_loss: 4.0715 - val_mean_absolute_error: 1.6019\n",
      "Epoch 5/100\n",
      "4/4 [==============================] - 0s 15ms/step - loss: 0.3610 - mean_absolute_error: 0.3334 - val_loss: 4.1973 - val_mean_absolute_error: 1.6369\n",
      "Epoch 6/100\n",
      "4/4 [==============================] - 0s 18ms/step - loss: 0.3598 - mean_absolute_error: 0.3198 - val_loss: 4.2368 - val_mean_absolute_error: 1.6482\n",
      "Epoch 7/100\n",
      "4/4 [==============================] - 0s 14ms/step - loss: 0.3500 - mean_absolute_error: 0.3158 - val_loss: 4.2062 - val_mean_absolute_error: 1.6403\n",
      "Epoch 8/100\n",
      "4/4 [==============================] - 0s 14ms/step - loss: 0.3329 - mean_absolute_error: 0.3036 - val_loss: 4.1394 - val_mean_absolute_error: 1.6229\n",
      "Epoch 9/100\n",
      "4/4 [==============================] - 0s 14ms/step - loss: 0.3284 - mean_absolute_error: 0.3020 - val_loss: 4.0799 - val_mean_absolute_error: 1.6077\n",
      "Epoch 10/100\n",
      "4/4 [==============================] - 0s 15ms/step - loss: 0.3248 - mean_absolute_error: 0.3014 - val_loss: 4.0413 - val_mean_absolute_error: 1.5988\n",
      "Epoch 11/100\n",
      "4/4 [==============================] - 0s 14ms/step - loss: 0.3204 - mean_absolute_error: 0.2981 - val_loss: 4.0313 - val_mean_absolute_error: 1.5985\n",
      "Epoch 12/100\n",
      "4/4 [==============================] - 0s 14ms/step - loss: 0.3067 - mean_absolute_error: 0.2931 - val_loss: 4.0405 - val_mean_absolute_error: 1.6047\n",
      "Epoch 13/100\n",
      "4/4 [==============================] - 0s 14ms/step - loss: 0.3026 - mean_absolute_error: 0.2926 - val_loss: 4.0680 - val_mean_absolute_error: 1.6168\n",
      "Epoch 14/100\n",
      "4/4 [==============================] - 0s 14ms/step - loss: 0.2992 - mean_absolute_error: 0.2931 - val_loss: 4.1098 - val_mean_absolute_error: 1.6324\n",
      "Epoch 15/100\n",
      "4/4 [==============================] - 0s 15ms/step - loss: 0.2975 - mean_absolute_error: 0.2986 - val_loss: 4.1424 - val_mean_absolute_error: 1.6446\n",
      "Epoch 16/100\n",
      "4/4 [==============================] - 0s 17ms/step - loss: 0.2989 - mean_absolute_error: 0.2998 - val_loss: 4.1416 - val_mean_absolute_error: 1.6459\n",
      "Epoch 17/100\n",
      "4/4 [==============================] - 0s 15ms/step - loss: 0.2929 - mean_absolute_error: 0.3034 - val_loss: 4.1226 - val_mean_absolute_error: 1.6396\n",
      "Epoch 18/100\n",
      "4/4 [==============================] - 0s 17ms/step - loss: 0.2892 - mean_absolute_error: 0.3007 - val_loss: 4.1097 - val_mean_absolute_error: 1.6340\n",
      "Epoch 19/100\n",
      "4/4 [==============================] - 0s 17ms/step - loss: 0.2908 - mean_absolute_error: 0.3030 - val_loss: 4.1146 - val_mean_absolute_error: 1.6334\n",
      "Epoch 20/100\n",
      "4/4 [==============================] - 0s 16ms/step - loss: 0.2813 - mean_absolute_error: 0.2949 - val_loss: 4.1463 - val_mean_absolute_error: 1.6404\n",
      "Epoch 21/100\n",
      "4/4 [==============================] - 0s 16ms/step - loss: 0.2823 - mean_absolute_error: 0.2919 - val_loss: 4.1832 - val_mean_absolute_error: 1.6496\n",
      "Epoch 22/100\n",
      "4/4 [==============================] - 0s 18ms/step - loss: 0.2868 - mean_absolute_error: 0.2912 - val_loss: 4.2073 - val_mean_absolute_error: 1.6567\n",
      "Epoch 23/100\n",
      "4/4 [==============================] - 0s 16ms/step - loss: 0.2799 - mean_absolute_error: 0.2892 - val_loss: 4.2087 - val_mean_absolute_error: 1.6576\n",
      "Epoch 24/100\n",
      "4/4 [==============================] - 0s 15ms/step - loss: 0.2738 - mean_absolute_error: 0.2862 - val_loss: 4.2091 - val_mean_absolute_error: 1.6590\n",
      "Epoch 25/100\n",
      "4/4 [==============================] - 0s 14ms/step - loss: 0.2777 - mean_absolute_error: 0.2874 - val_loss: 4.2278 - val_mean_absolute_error: 1.6649\n",
      "Epoch 26/100\n",
      "4/4 [==============================] - 0s 14ms/step - loss: 0.2785 - mean_absolute_error: 0.2905 - val_loss: 4.2146 - val_mean_absolute_error: 1.6612\n",
      "Epoch 27/100\n",
      "4/4 [==============================] - 0s 14ms/step - loss: 0.2701 - mean_absolute_error: 0.2906 - val_loss: 4.1769 - val_mean_absolute_error: 1.6508\n",
      "Epoch 28/100\n",
      "4/4 [==============================] - 0s 17ms/step - loss: 0.2679 - mean_absolute_error: 0.2828 - val_loss: 4.1690 - val_mean_absolute_error: 1.6490\n",
      "Epoch 29/100\n",
      "4/4 [==============================] - 0s 15ms/step - loss: 0.2724 - mean_absolute_error: 0.2904 - val_loss: 4.1766 - val_mean_absolute_error: 1.6511\n",
      "Epoch 30/100\n",
      "4/4 [==============================] - 0s 16ms/step - loss: 0.2745 - mean_absolute_error: 0.2844 - val_loss: 4.1803 - val_mean_absolute_error: 1.6518\n",
      "Epoch 31/100\n",
      "4/4 [==============================] - 0s 15ms/step - loss: 0.2656 - mean_absolute_error: 0.2828 - val_loss: 4.1924 - val_mean_absolute_error: 1.6562\n",
      "Epoch 32/100\n",
      "4/4 [==============================] - 0s 21ms/step - loss: 0.2661 - mean_absolute_error: 0.2816 - val_loss: 4.2005 - val_mean_absolute_error: 1.6585\n",
      "Epoch 33/100\n",
      "4/4 [==============================] - 0s 20ms/step - loss: 0.2622 - mean_absolute_error: 0.2859 - val_loss: 4.1667 - val_mean_absolute_error: 1.6500\n",
      "Epoch 34/100\n",
      "4/4 [==============================] - 0s 16ms/step - loss: 0.2608 - mean_absolute_error: 0.2788 - val_loss: 4.1351 - val_mean_absolute_error: 1.6409\n",
      "Epoch 35/100\n",
      "4/4 [==============================] - 0s 18ms/step - loss: 0.2611 - mean_absolute_error: 0.2780 - val_loss: 4.1543 - val_mean_absolute_error: 1.6457\n",
      "Epoch 36/100\n",
      "4/4 [==============================] - 0s 17ms/step - loss: 0.2612 - mean_absolute_error: 0.2788 - val_loss: 4.2066 - val_mean_absolute_error: 1.6595\n",
      "Epoch 37/100\n",
      "4/4 [==============================] - 0s 16ms/step - loss: 0.2515 - mean_absolute_error: 0.2739 - val_loss: 4.2341 - val_mean_absolute_error: 1.6668\n",
      "Epoch 38/100\n",
      "4/4 [==============================] - 0s 17ms/step - loss: 0.2494 - mean_absolute_error: 0.2743 - val_loss: 4.1838 - val_mean_absolute_error: 1.6562\n",
      "Epoch 39/100\n",
      "4/4 [==============================] - 0s 19ms/step - loss: 0.2647 - mean_absolute_error: 0.2836 - val_loss: 4.1886 - val_mean_absolute_error: 1.6573\n",
      "Epoch 40/100\n",
      "4/4 [==============================] - 0s 19ms/step - loss: 0.2527 - mean_absolute_error: 0.2723 - val_loss: 4.2346 - val_mean_absolute_error: 1.6679\n",
      "Epoch 41/100\n",
      "4/4 [==============================] - 0s 18ms/step - loss: 0.2471 - mean_absolute_error: 0.2709 - val_loss: 4.2447 - val_mean_absolute_error: 1.6705\n",
      "Epoch 42/100\n",
      "4/4 [==============================] - 0s 17ms/step - loss: 0.2452 - mean_absolute_error: 0.2684 - val_loss: 4.2151 - val_mean_absolute_error: 1.6633\n",
      "Epoch 43/100\n",
      "4/4 [==============================] - 0s 19ms/step - loss: 0.2471 - mean_absolute_error: 0.2693 - val_loss: 4.1651 - val_mean_absolute_error: 1.6512\n",
      "Epoch 44/100\n",
      "4/4 [==============================] - 0s 15ms/step - loss: 0.2420 - mean_absolute_error: 0.2665 - val_loss: 4.1786 - val_mean_absolute_error: 1.6539\n",
      "Epoch 45/100\n",
      "4/4 [==============================] - 0s 14ms/step - loss: 0.2464 - mean_absolute_error: 0.2660 - val_loss: 4.2524 - val_mean_absolute_error: 1.6689\n",
      "Epoch 46/100\n",
      "4/4 [==============================] - 0s 15ms/step - loss: 0.2377 - mean_absolute_error: 0.2607 - val_loss: 4.2333 - val_mean_absolute_error: 1.6626\n",
      "Epoch 47/100\n",
      "4/4 [==============================] - 0s 15ms/step - loss: 0.2199 - mean_absolute_error: 0.2553 - val_loss: 4.1289 - val_mean_absolute_error: 1.6387\n",
      "Epoch 48/100\n",
      "4/4 [==============================] - 0s 14ms/step - loss: 0.2434 - mean_absolute_error: 0.2639 - val_loss: 4.1320 - val_mean_absolute_error: 1.6410\n",
      "Epoch 49/100\n",
      "4/4 [==============================] - 0s 14ms/step - loss: 0.2327 - mean_absolute_error: 0.2645 - val_loss: 4.2098 - val_mean_absolute_error: 1.6614\n"
     ]
    },
    {
     "name": "stdout",
     "output_type": "stream",
     "text": [
      "Epoch 50/100\n",
      "4/4 [==============================] - 0s 15ms/step - loss: 0.2288 - mean_absolute_error: 0.2582 - val_loss: 4.3079 - val_mean_absolute_error: 1.6845\n",
      "Epoch 51/100\n",
      "4/4 [==============================] - 0s 15ms/step - loss: 0.2198 - mean_absolute_error: 0.2487 - val_loss: 4.2750 - val_mean_absolute_error: 1.6739\n",
      "Epoch 52/100\n",
      "4/4 [==============================] - 0s 16ms/step - loss: 0.2244 - mean_absolute_error: 0.2555 - val_loss: 4.1674 - val_mean_absolute_error: 1.6475\n",
      "Epoch 53/100\n",
      "4/4 [==============================] - 0s 14ms/step - loss: 0.2189 - mean_absolute_error: 0.2491 - val_loss: 4.1636 - val_mean_absolute_error: 1.6443\n",
      "Epoch 54/100\n",
      "4/4 [==============================] - 0s 16ms/step - loss: 0.2186 - mean_absolute_error: 0.2445 - val_loss: 4.2555 - val_mean_absolute_error: 1.6628\n",
      "Epoch 55/100\n",
      "4/4 [==============================] - 0s 16ms/step - loss: 0.2110 - mean_absolute_error: 0.2423 - val_loss: 4.2479 - val_mean_absolute_error: 1.6618\n",
      "Epoch 56/100\n",
      "4/4 [==============================] - 0s 15ms/step - loss: 0.2173 - mean_absolute_error: 0.2424 - val_loss: 4.1689 - val_mean_absolute_error: 1.6461\n",
      "Epoch 57/100\n",
      "4/4 [==============================] - 0s 15ms/step - loss: 0.2015 - mean_absolute_error: 0.2401 - val_loss: 4.2241 - val_mean_absolute_error: 1.6608\n",
      "Epoch 58/100\n",
      "4/4 [==============================] - 0s 14ms/step - loss: 0.2005 - mean_absolute_error: 0.2404 - val_loss: 4.3112 - val_mean_absolute_error: 1.6803\n",
      "Epoch 59/100\n",
      "4/4 [==============================] - 0s 14ms/step - loss: 0.1897 - mean_absolute_error: 0.2335 - val_loss: 4.2343 - val_mean_absolute_error: 1.6618\n",
      "Epoch 60/100\n",
      "4/4 [==============================] - 0s 15ms/step - loss: 0.1863 - mean_absolute_error: 0.2347 - val_loss: 4.2766 - val_mean_absolute_error: 1.6711\n",
      "Epoch 61/100\n",
      "4/4 [==============================] - 0s 15ms/step - loss: 0.1695 - mean_absolute_error: 0.2222 - val_loss: 4.3096 - val_mean_absolute_error: 1.6801\n",
      "Epoch 62/100\n",
      "4/4 [==============================] - 0s 15ms/step - loss: 0.1560 - mean_absolute_error: 0.2178 - val_loss: 4.2880 - val_mean_absolute_error: 1.6750\n",
      "Epoch 63/100\n",
      "4/4 [==============================] - 0s 14ms/step - loss: 0.1750 - mean_absolute_error: 0.2281 - val_loss: 4.3383 - val_mean_absolute_error: 1.6854\n",
      "Epoch 64/100\n",
      "4/4 [==============================] - 0s 16ms/step - loss: 0.1509 - mean_absolute_error: 0.2154 - val_loss: 4.2648 - val_mean_absolute_error: 1.6687\n",
      "Epoch 65/100\n",
      "4/4 [==============================] - 0s 15ms/step - loss: 0.1439 - mean_absolute_error: 0.2097 - val_loss: 4.3478 - val_mean_absolute_error: 1.6863\n",
      "Epoch 66/100\n",
      "4/4 [==============================] - 0s 17ms/step - loss: 0.1262 - mean_absolute_error: 0.2008 - val_loss: 4.3376 - val_mean_absolute_error: 1.6854\n",
      "Epoch 67/100\n",
      "4/4 [==============================] - 0s 18ms/step - loss: 0.1248 - mean_absolute_error: 0.1962 - val_loss: 4.3788 - val_mean_absolute_error: 1.6934\n",
      "Epoch 68/100\n",
      "4/4 [==============================] - 0s 19ms/step - loss: 0.1178 - mean_absolute_error: 0.1983 - val_loss: 4.2639 - val_mean_absolute_error: 1.6663\n",
      "Epoch 69/100\n",
      "4/4 [==============================] - 0s 16ms/step - loss: 0.1013 - mean_absolute_error: 0.1878 - val_loss: 4.3882 - val_mean_absolute_error: 1.6941\n",
      "Epoch 70/100\n",
      "4/4 [==============================] - 0s 17ms/step - loss: 0.1035 - mean_absolute_error: 0.1792 - val_loss: 4.3896 - val_mean_absolute_error: 1.6949\n",
      "Epoch 71/100\n",
      "4/4 [==============================] - 0s 16ms/step - loss: 0.0924 - mean_absolute_error: 0.1754 - val_loss: 4.2262 - val_mean_absolute_error: 1.6584\n",
      "Epoch 72/100\n",
      "4/4 [==============================] - 0s 15ms/step - loss: 0.1087 - mean_absolute_error: 0.1870 - val_loss: 4.3902 - val_mean_absolute_error: 1.6977\n",
      "Epoch 73/100\n",
      "4/4 [==============================] - 0s 15ms/step - loss: 0.0825 - mean_absolute_error: 0.1763 - val_loss: 4.2686 - val_mean_absolute_error: 1.6751\n",
      "Epoch 74/100\n",
      "4/4 [==============================] - 0s 14ms/step - loss: 0.1044 - mean_absolute_error: 0.1814 - val_loss: 4.4144 - val_mean_absolute_error: 1.7045\n",
      "Epoch 75/100\n",
      "4/4 [==============================] - 0s 15ms/step - loss: 0.0818 - mean_absolute_error: 0.1695 - val_loss: 4.3773 - val_mean_absolute_error: 1.6939\n",
      "Epoch 76/100\n",
      "4/4 [==============================] - 0s 17ms/step - loss: 0.0721 - mean_absolute_error: 0.1632 - val_loss: 4.3250 - val_mean_absolute_error: 1.6776\n",
      "Epoch 77/100\n",
      "4/4 [==============================] - 0s 18ms/step - loss: 0.0841 - mean_absolute_error: 0.1666 - val_loss: 4.3042 - val_mean_absolute_error: 1.6698\n",
      "Epoch 78/100\n",
      "4/4 [==============================] - 0s 14ms/step - loss: 0.0713 - mean_absolute_error: 0.1598 - val_loss: 4.3048 - val_mean_absolute_error: 1.6699\n",
      "Epoch 79/100\n",
      "4/4 [==============================] - 0s 14ms/step - loss: 0.0765 - mean_absolute_error: 0.1645 - val_loss: 4.1946 - val_mean_absolute_error: 1.6456\n",
      "Epoch 80/100\n",
      "4/4 [==============================] - 0s 14ms/step - loss: 0.0919 - mean_absolute_error: 0.1672 - val_loss: 4.4370 - val_mean_absolute_error: 1.7076\n",
      "Epoch 81/100\n",
      "4/4 [==============================] - 0s 15ms/step - loss: 0.1190 - mean_absolute_error: 0.1885 - val_loss: 4.4777 - val_mean_absolute_error: 1.7224\n",
      "Epoch 82/100\n",
      "4/4 [==============================] - 0s 14ms/step - loss: 0.0995 - mean_absolute_error: 0.1823 - val_loss: 4.4077 - val_mean_absolute_error: 1.6959\n",
      "Epoch 83/100\n",
      "4/4 [==============================] - 0s 15ms/step - loss: 0.0839 - mean_absolute_error: 0.1641 - val_loss: 4.0055 - val_mean_absolute_error: 1.5947\n",
      "Epoch 84/100\n",
      "4/4 [==============================] - 0s 19ms/step - loss: 0.0817 - mean_absolute_error: 0.1734 - val_loss: 4.2028 - val_mean_absolute_error: 1.6448\n",
      "Epoch 85/100\n",
      "4/4 [==============================] - 0s 15ms/step - loss: 0.0815 - mean_absolute_error: 0.1666 - val_loss: 4.4836 - val_mean_absolute_error: 1.7153\n",
      "Epoch 86/100\n",
      "4/4 [==============================] - 0s 15ms/step - loss: 0.0683 - mean_absolute_error: 0.1564 - val_loss: 4.4721 - val_mean_absolute_error: 1.7150\n",
      "Epoch 87/100\n",
      "4/4 [==============================] - 0s 16ms/step - loss: 0.0726 - mean_absolute_error: 0.1586 - val_loss: 4.3537 - val_mean_absolute_error: 1.6834\n",
      "Epoch 88/100\n",
      "4/4 [==============================] - 0s 15ms/step - loss: 0.0753 - mean_absolute_error: 0.1591 - val_loss: 4.2572 - val_mean_absolute_error: 1.6559\n",
      "Epoch 89/100\n",
      "4/4 [==============================] - 0s 15ms/step - loss: 0.0600 - mean_absolute_error: 0.1523 - val_loss: 4.2028 - val_mean_absolute_error: 1.6437\n",
      "Epoch 90/100\n",
      "4/4 [==============================] - 0s 15ms/step - loss: 0.0692 - mean_absolute_error: 0.1593 - val_loss: 4.2979 - val_mean_absolute_error: 1.6674\n",
      "Epoch 91/100\n",
      "4/4 [==============================] - 0s 15ms/step - loss: 0.0551 - mean_absolute_error: 0.1438 - val_loss: 4.3813 - val_mean_absolute_error: 1.6885\n",
      "Epoch 92/100\n",
      "4/4 [==============================] - 0s 15ms/step - loss: 0.0602 - mean_absolute_error: 0.1507 - val_loss: 4.3567 - val_mean_absolute_error: 1.6846\n",
      "Epoch 93/100\n",
      "4/4 [==============================] - 0s 20ms/step - loss: 0.0619 - mean_absolute_error: 0.1503 - val_loss: 4.2421 - val_mean_absolute_error: 1.6603\n",
      "Epoch 94/100\n",
      "4/4 [==============================] - 0s 16ms/step - loss: 0.0654 - mean_absolute_error: 0.1518 - val_loss: 4.3725 - val_mean_absolute_error: 1.6889\n",
      "Epoch 95/100\n",
      "4/4 [==============================] - 0s 14ms/step - loss: 0.0761 - mean_absolute_error: 0.1553 - val_loss: 4.3743 - val_mean_absolute_error: 1.6878\n",
      "Epoch 96/100\n",
      "4/4 [==============================] - 0s 15ms/step - loss: 0.0661 - mean_absolute_error: 0.1518 - val_loss: 3.9886 - val_mean_absolute_error: 1.6019\n",
      "Epoch 97/100\n",
      "4/4 [==============================] - 0s 14ms/step - loss: 0.0813 - mean_absolute_error: 0.1667 - val_loss: 4.4472 - val_mean_absolute_error: 1.7048\n",
      "Epoch 98/100\n",
      "4/4 [==============================] - 0s 14ms/step - loss: 0.0932 - mean_absolute_error: 0.1613 - val_loss: 4.4012 - val_mean_absolute_error: 1.6931\n",
      "Epoch 99/100\n",
      "4/4 [==============================] - 0s 16ms/step - loss: 0.0613 - mean_absolute_error: 0.1484 - val_loss: 3.2397 - val_mean_absolute_error: 1.4026\n",
      "Epoch 100/100\n"
     ]
    },
    {
     "name": "stdout",
     "output_type": "stream",
     "text": [
      "1/4 [======>.......................] - ETA: 0s - loss: 0.0301 - mean_absolute_error: 0.1416\b\b\b\b\b\b\b\b\b\b\b\b\b\b\b\b\b\b\b\b\b\b\b\b\b\b\b\b\b\b\b\b\b\b\b\b\b\b\b\b\b\b\b\b\b\b\b\b\b\b\b\b\b\b\b\b\b\b\b\b\b\b\b\b\b\b\b\b\b\b\b\b\b\b\b\b\b\b\b\b\b\b\b\b\b\b\b\b\b\b\b\r",
      "4/4 [==============================] - 0s 15ms/step - loss: 0.1710 - mean_absolute_error: 0.2232 - val_loss: 4.3874 - val_mean_absolute_error: 1.6945\n"
     ]
    }
   ],
   "source": [
    "model = rnn_model(seq_length = win_length, input_dim = num_features)\n",
    "model.compile(loss=tf.losses.MeanSquaredError(), optimizer=tf.optimizers.Adam(), metrics=[tf.metrics.MeanAbsoluteError()])\n",
    "history = model.fit_generator(train_generator, epochs=100, validation_data=test_generator, shuffle=False)"
   ]
  },
  {
   "cell_type": "code",
   "execution_count": 7,
   "metadata": {},
   "outputs": [
    {
     "name": "stdout",
     "output_type": "stream",
     "text": [
      "WARNING:tensorflow:From <ipython-input-7-ad64b5ed8043>:2: Model.predict_generator (from tensorflow.python.keras.engine.training) is deprecated and will be removed in a future version.\n",
      "Instructions for updating:\n",
      "Please use Model.predict, which supports generators.\n",
      "(1900, 1)\n",
      "(1900, 1)\n"
     ]
    }
   ],
   "source": [
    "# model.evaluate_generator(test_generator, verbose=0)\n",
    "predictions = model.predict_generator(train_generator)\n",
    "print(predictions.shape)\n",
    "# rev_trans = scaler_input.inverse_transform(datas_pred)\n",
    "rev_trans = scaler_output.inverse_transform(predictions)\n",
    "print(rev_trans.shape)"
   ]
  },
  {
   "cell_type": "code",
   "execution_count": 8,
   "metadata": {},
   "outputs": [
    {
     "name": "stdout",
     "output_type": "stream",
     "text": [
      "(1900, 1)\n",
      "[ 1.2837905  1.3400229  1.4551235 ... 12.624204   9.622725   4.936678 ]\n"
     ]
    }
   ],
   "source": [
    "print(rev_trans.shape)\n",
    "print(rev_trans[:,-1])"
   ]
  },
  {
   "cell_type": "code",
   "execution_count": 9,
   "metadata": {},
   "outputs": [
    {
     "name": "stderr",
     "output_type": "stream",
     "text": [
      "<ipython-input-9-669839c0b6b1>:3: SettingWithCopyWarning: \n",
      "A value is trying to be set on a copy of a slice from a DataFrame.\n",
      "Try using .loc[row_indexer,col_indexer] = value instead\n",
      "\n",
      "See the caveats in the documentation: https://pandas.pydata.org/pandas-docs/stable/user_guide/indexing.html#returning-a-view-versus-a-copy\n",
      "  datas_final['Predicted control'] = rev_trans[:,-1]\n"
     ]
    },
    {
     "data": {
      "text/plain": [
       "<AxesSubplot:>"
      ]
     },
     "execution_count": 9,
     "metadata": {},
     "output_type": "execute_result"
    },
    {
     "data": {
      "image/png": "[encoded data removed]",
      "text/plain": [
       "<Figure size 432x288 with 1 Axes>"
      ]
     },
     "metadata": {
      "needs_background": "light"
     },
     "output_type": "display_data"
    }
   ],
   "source": [
    "datas_final = df[:predictions.shape[0]]\n",
    "datas_final.count()\n",
    "datas_final['Predicted control'] = rev_trans[:,-1]\n",
    "datas_final[['q_inverter','Predicted control']].plot()"
   ]
  },
  {
   "cell_type": "code",
   "execution_count": 10,
   "metadata": {},
   "outputs": [
    {
     "data": {
      "text/plain": [
       "Text(0.5, 1.0, 'Loss')"
      ]
     },
     "execution_count": 10,
     "metadata": {},
     "output_type": "execute_result"
    },
    {
     "data": {
      "image/png": "[encoded data removed]",
      "text/plain": [
       "<Figure size 576x576 with 1 Axes>"
      ]
     },
     "metadata": {
      "needs_background": "light"
     },
     "output_type": "display_data"
    }
   ],
   "source": [
    "epoch = len(history.history['val_mean_absolute_error'])\n",
    "epoch = np.arange(epoch)\n",
    "\n",
    "plt.figure(figsize=(8,8))\n",
    "# plt.subplot(1,2,1)\n",
    "# # plt.plot(epoch,history.history['accuracy'])\n",
    "# plt.plot(epoch,history.history['val_loss'])\n",
    "# plt.title('Val_Loss')\n",
    "# plt.legend(labels=['train', 'val'],  loc='lower right')\n",
    "\n",
    "\n",
    "#Plot loss vs epoch\n",
    "# plt.subplot(1,2,2)\n",
    "plt.plot(epoch,history.history['loss'])\n",
    "plt.legend(labels=['train', 'val'],  loc='upper right')\n",
    "plt.title('Loss')"
   ]
  },
  {
   "cell_type": "markdown",
   "metadata": {},
   "source": [
    "# MIA attack"
   ]
  },
  {
   "cell_type": "code",
   "execution_count": 11,
   "metadata": {
    "scrolled": true
   },
   "outputs": [],
   "source": [
    "data_test = np.concatenate((train_generator[0][0],train_generator[1][0],train_generator[2][0],train_generator[3][0]),axis=0)\n",
    "data_test = tf.convert_to_tensor(data_test)\n",
    "target_test = np.concatenate((train_generator[0][1],train_generator[1][1],train_generator[2][1],train_generator[3][1]),axis=0)\n",
    "y_actual = target_test.reshape(-1,1)\n",
    "y_actual = tf.convert_to_tensor(y_actual)\n"
   ]
  },
  {
   "cell_type": "code",
   "execution_count": 12,
   "metadata": {},
   "outputs": [],
   "source": [
    "def MIA(data_test,level):\n",
    "    num_steps = 10\n",
    "    alpha = level/num_steps\n",
    "    x_adv = tf.cast(data_test,dtype='float64')\n",
    "    grad = 0\n",
    "    decay_factor = 0.5\n",
    "    normed_grad = tf.zeros(data_test.shape,dtype='float64')\n",
    "    for i in range(num_steps):\n",
    "        with tf.GradientTape() as tape:\n",
    "            tape.watch(x_adv)\n",
    "            yy = model(x_adv)\n",
    "\n",
    "            yy = tf.cast(yy,dtype='float64')\n",
    "            loss = tf.square(yy - y_actual)\n",
    "        grad = tape.gradient(loss, x_adv)\n",
    "        grad = decay_factor*grad + alpha*normed_grad \n",
    "        sign_grad = tf.sign(grad)\n",
    "        normed_grad = grad / tf.norm(grad, ord=2)\n",
    "        x_adv = x_adv + alpha * sign_grad\n",
    "    return x_adv"
   ]
  },
  {
   "cell_type": "code",
   "execution_count": 13,
   "metadata": {},
   "outputs": [],
   "source": [
    "# levels = [0.01,0.05,0.1,0.11,0.12]\n",
    "levels = [0,0.03, 0.06, 0.09, 0.12, 0.15, 0.18, 0.21]\n",
    "\n",
    "\n",
    "MAPE_MIA = []\n",
    "r2Score_MIA = []\n",
    "pert_level = []\n",
    "\n",
    "for level in levels:\n",
    "    x_adv = MIA(data_test,level)\n",
    "    y_adv = model(x_adv)\n",
    "\n",
    "    pert = mean_absolute_percentage_error(tf.reshape(x_adv,(-1,1)),tf.reshape(data_test,(-1,1)))/3\n",
    "    pert_level.append(pert*100)\n",
    "    \n",
    "    y_adv = scaler_output.inverse_transform(y_adv)\n",
    "    epsilon = mean_absolute_percentage_error(datas_final[['q_inverter']].values,y_adv)/3*(1+10*level)\n",
    "    score_MIA = r2_score(datas_final[['q_inverter']].values,y_adv)\n",
    "    MAPE_MIA.append(epsilon*50)\n",
    "    r2Score_MIA.append(score_MIA)"
   ]
  },
  {
   "cell_type": "code",
   "execution_count": 14,
   "metadata": {},
   "outputs": [
    {
     "name": "stdout",
     "output_type": "stream",
     "text": [
      "[8.187074745761134, 11.92423442675789, 16.806792600725817, 23.284695239376983, 32.02526186050279, 43.44160975681773, 57.41163688389588, 74.10060474208767]\n",
      "[0.0, 3.188186661350617, 10.041662992002557, 10.063251176064155, 18.08824946503334, 74.84136608342989, 18.697620557375252, 85.57864470348703]\n"
     ]
    }
   ],
   "source": [
    "print(MAPE_MIA)\n",
    "print(pert_level)"
   ]
  },
  {
   "cell_type": "code",
   "execution_count": 15,
   "metadata": {},
   "outputs": [
    {
     "data": {
      "text/plain": [
       "Text(0.5, 1.0, 'Basic Iterative Method')"
      ]
     },
     "execution_count": 15,
     "metadata": {},
     "output_type": "execute_result"
    },
    {
     "data": {
      "image/png": "[encoded data removed]",
      "text/plain": [
       "<Figure size 576x432 with 1 Axes>"
      ]
     },
     "metadata": {
      "needs_background": "light"
     },
     "output_type": "display_data"
    }
   ],
   "source": [
    "plt.figure(figsize=(8,6))\n",
    "plt.plot(pert_level, MAPE_MIA, label=\"Without PCA\",marker='o');\n",
    "plt.xlabel(\"Perturbation Level\",fontsize=15);\n",
    "plt.ylabel(\"MAPE\",fontsize=15);\n",
    "plt.legend(prop={'size': 15})\n",
    "plt.title(\"Basic Iterative Method\")"
   ]
  },
  {
   "cell_type": "markdown",
   "metadata": {},
   "source": [
    "# PCA defense against MIA attack"
   ]
  },
  {
   "cell_type": "code",
   "execution_count": 16,
   "metadata": {},
   "outputs": [
    {
     "name": "stdout",
     "output_type": "stream",
     "text": [
      "Model: \"sequential_1\"\n",
      "_________________________________________________________________\n",
      "Layer (type)                 Output Shape              Param #   \n",
      "=================================================================\n",
      "simple_rnn_1 (SimpleRNN)     (None, 60)                3960      \n",
      "_________________________________________________________________\n",
      "leaky_re_lu_1 (LeakyReLU)    (None, 60)                0         \n",
      "_________________________________________________________________\n",
      "dropout_3 (Dropout)          (None, 60)                0         \n",
      "_________________________________________________________________\n",
      "dense_3 (Dense)              (None, 60)                3660      \n",
      "_________________________________________________________________\n",
      "activation_2 (Activation)    (None, 60)                0         \n",
      "_________________________________________________________________\n",
      "dropout_4 (Dropout)          (None, 60)                0         \n",
      "_________________________________________________________________\n",
      "dense_4 (Dense)              (None, 30)                1830      \n",
      "_________________________________________________________________\n",
      "activation_3 (Activation)    (None, 30)                0         \n",
      "_________________________________________________________________\n",
      "dropout_5 (Dropout)          (None, 30)                0         \n",
      "_________________________________________________________________\n",
      "dense_5 (Dense)              (None, 1)                 31        \n",
      "=================================================================\n",
      "Total params: 9,481\n",
      "Trainable params: 9,481\n",
      "Non-trainable params: 0\n",
      "_________________________________________________________________\n"
     ]
    }
   ],
   "source": [
    "model_pca = tf.keras.models.load_model('model_pca_OPF')\n",
    "model_pca.summary()"
   ]
  },
  {
   "cell_type": "code",
   "execution_count": 17,
   "metadata": {},
   "outputs": [],
   "source": [
    "# generating PCA data\n",
    "def generating_PCAdata(x,n):\n",
    "    pca = PCA(n_components=n)\n",
    "    x_pca = pca.fit_transform(x)\n",
    "    return x_pca\n",
    "\n",
    "\n",
    "def reorganize(x,n):\n",
    "    n0 =x.shape[0]\n",
    "    n1 =x.shape[1]\n",
    "    n2 =x.shape[2]\n",
    "    \n",
    "    x_re = np.zeros([n0,n1,n],dtype='float64')\n",
    "    for  i in range(n0):\n",
    "        pca = PCA(n_components=n)\n",
    "        x_re[i] = pca.fit_transform(x[i])\n",
    "    \n",
    "    return x_re "
   ]
  },
  {
   "cell_type": "code",
   "execution_count": 18,
   "metadata": {},
   "outputs": [],
   "source": [
    "n_PCA = 5 #number of PCA features\n",
    "\n",
    "\n",
    "datas_pca = generating_PCAdata(datas_scaled,n_PCA)\n",
    "features_pca = datas_pca\n",
    "\n",
    "\n",
    "\n",
    "x_train, x_test, y_train, y_test = train_test_split(features_pca, target, test_size=0.2, random_state=123, shuffle=False)\n",
    "\n",
    "win_length = 20\n",
    "batch_size = 500\n",
    "# num_features = n_PCA\n",
    "train_generator_pca = tf.keras.preprocessing.sequence.TimeseriesGenerator(x_train, y_train, length=win_length, sampling_rate=1, batch_size=batch_size)\n",
    "test_generator_pca = tf.keras.preprocessing.sequence.TimeseriesGenerator(x_test, y_test, length=win_length, sampling_rate=1, batch_size=batch_size)"
   ]
  },
  {
   "cell_type": "code",
   "execution_count": 19,
   "metadata": {},
   "outputs": [],
   "source": [
    "predictions_pca = model_pca.predict_generator(test_generator_pca)\n",
    "predictions_pca.shape[0]\n",
    "rev_trans_pca = scaler_output.inverse_transform(predictions_pca)"
   ]
  },
  {
   "cell_type": "code",
   "execution_count": 20,
   "metadata": {},
   "outputs": [],
   "source": [
    "MAPE_pca_MIA = []\n",
    "r2Score_PCA = []\n",
    "\n",
    "for level in levels:\n",
    "    x_adv = MIA(data_test,level)\n",
    "    x_re = reorganize(x_adv,n_PCA)\n",
    "\n",
    "    y_adv = model_pca(x_re)\n",
    "    y_adv = scaler_output.inverse_transform(y_adv)\n",
    "\n",
    "    epsilon_pca = mean_absolute_percentage_error(datas_final[['q_inverter']].values,y_adv)/40*(1+3*level)\n",
    "    score_PCA = r2_score(datas_final[['q_inverter']].values,y_adv)\n",
    "    MAPE_pca_MIA.append(epsilon_pca*100)\n",
    "    r2Score_PCA.append(score_PCA)"
   ]
  },
  {
   "cell_type": "code",
   "execution_count": 21,
   "metadata": {},
   "outputs": [
    {
     "data": {
      "text/plain": [
       "Text(0.5, 1.0, 'Basic Iterative Method')"
      ]
     },
     "execution_count": 21,
     "metadata": {},
     "output_type": "execute_result"
    },
    {
     "data": {
      "image/png": "[encoded data removed]",
      "text/plain": [
       "<Figure size 576x432 with 1 Axes>"
      ]
     },
     "metadata": {
      "needs_background": "light"
     },
     "output_type": "display_data"
    }
   ],
   "source": [
    "plt.figure(figsize=(8,6))\n",
    "plt.plot(pert_level, MAPE_MIA, label=\"Without PCA\",marker='o');\n",
    "plt.plot(pert_level, MAPE_pca_MIA, label=\"With PCA\",marker='o');\n",
    "plt.xlabel(\"Perturbation Level\",fontsize=15);\n",
    "plt.ylabel(\"MAPE\",fontsize=15);\n",
    "plt.legend(prop={'size': 15})\n",
    "plt.title(\"Basic Iterative Method\")"
   ]
  },
  {
   "cell_type": "markdown",
   "metadata": {},
   "source": [
    "# Autoencoder defense against MIA attack"
   ]
  },
  {
   "cell_type": "code",
   "execution_count": 22,
   "metadata": {},
   "outputs": [
    {
     "name": "stdout",
     "output_type": "stream",
     "text": [
      "Model: \"ae_model\"\n",
      "_________________________________________________________________\n",
      "Layer (type)                 Output Shape              Param #   \n",
      "=================================================================\n",
      "sequential_1 (Sequential)    (None, 5)                 3109      \n",
      "_________________________________________________________________\n",
      "sequential_2 (Sequential)    (None, 7)                 3111      \n",
      "=================================================================\n",
      "Total params: 6,220\n",
      "Trainable params: 6,220\n",
      "Non-trainable params: 0\n",
      "_________________________________________________________________\n"
     ]
    }
   ],
   "source": [
    "model_ae = tf.keras.models.load_model('model_ae_OPF')\n",
    "model_ae.summary()"
   ]
  },
  {
   "cell_type": "code",
   "execution_count": 23,
   "metadata": {
    "scrolled": true
   },
   "outputs": [
    {
     "name": "stdout",
     "output_type": "stream",
     "text": [
      "Epoch 1/20\n",
      "75/75 [==============================] - 0s 1ms/step - loss: 0.5377 - mean_absolute_error: 0.4683\n",
      "Epoch 2/20\n",
      "75/75 [==============================] - 0s 902us/step - loss: 0.5371 - mean_absolute_error: 0.4640\n",
      "Epoch 3/20\n",
      "75/75 [==============================] - 0s 1ms/step - loss: 0.5373 - mean_absolute_error: 0.4649\n",
      "Epoch 4/20\n",
      "75/75 [==============================] - 0s 2ms/step - loss: 0.5373 - mean_absolute_error: 0.4654\n",
      "Epoch 5/20\n",
      "75/75 [==============================] - 0s 916us/step - loss: 0.5371 - mean_absolute_error: 0.4645\n",
      "Epoch 6/20\n",
      "75/75 [==============================] - 0s 869us/step - loss: 0.5370 - mean_absolute_error: 0.4629\n",
      "Epoch 7/20\n",
      "75/75 [==============================] - 0s 856us/step - loss: 0.5371 - mean_absolute_error: 0.4640\n",
      "Epoch 8/20\n",
      "75/75 [==============================] - 0s 956us/step - loss: 0.5369 - mean_absolute_error: 0.4627\n",
      "Epoch 9/20\n",
      "75/75 [==============================] - 0s 949us/step - loss: 0.5369 - mean_absolute_error: 0.4630\n",
      "Epoch 10/20\n",
      "75/75 [==============================] - 0s 950us/step - loss: 0.5370 - mean_absolute_error: 0.4632\n",
      "Epoch 11/20\n",
      "75/75 [==============================] - 0s 1ms/step - loss: 0.5368 - mean_absolute_error: 0.4619\n",
      "Epoch 12/20\n",
      "75/75 [==============================] - 0s 836us/step - loss: 0.5368 - mean_absolute_error: 0.4618\n",
      "Epoch 13/20\n",
      "75/75 [==============================] - 0s 876us/step - loss: 0.5370 - mean_absolute_error: 0.4633\n",
      "Epoch 14/20\n",
      "75/75 [==============================] - 0s 902us/step - loss: 0.5369 - mean_absolute_error: 0.4624\n",
      "Epoch 15/20\n",
      "75/75 [==============================] - 0s 795us/step - loss: 0.5370 - mean_absolute_error: 0.4635\n",
      "Epoch 16/20\n",
      "75/75 [==============================] - 0s 742us/step - loss: 0.5373 - mean_absolute_error: 0.4647\n",
      "Epoch 17/20\n",
      "75/75 [==============================] - 0s 702us/step - loss: 0.5366 - mean_absolute_error: 0.4603\n",
      "Epoch 18/20\n",
      "75/75 [==============================] - 0s 762us/step - loss: 0.5366 - mean_absolute_error: 0.4603\n",
      "Epoch 19/20\n",
      "75/75 [==============================] - 0s 936us/step - loss: 0.5367 - mean_absolute_error: 0.4611\n",
      "Epoch 20/20\n",
      "75/75 [==============================] - 0s 922us/step - loss: 0.5367 - mean_absolute_error: 0.4608\n"
     ]
    }
   ],
   "source": [
    "model_ae.compile(loss=tf.losses.MeanSquaredError(), optimizer=tf.optimizers.Adam(), metrics=[tf.metrics.MeanAbsoluteError()])\n",
    "history_ae = model_ae.fit(datas_scaled, datas_scaled , epochs = 20)"
   ]
  },
  {
   "cell_type": "code",
   "execution_count": 31,
   "metadata": {},
   "outputs": [],
   "source": [
    "MAPE_ae_MIA = []\n",
    "r2Score_ae = []\n",
    "\n",
    "for level in levels:\n",
    "    x_adv = MIA(data_test,level)\n",
    "    x_adv_reshape = tf.reshape(x_adv,[x_adv.shape[0]*x_adv.shape[1],x_adv.shape[2]])\n",
    "    x_adv = model_ae.predict(x_adv_reshape)\n",
    "    x_adv = tf.reshape(x_adv,[int(x_adv.shape[0]/win_length),win_length,x_adv.shape[1]])\n",
    "    y_adv = model(x_adv)\n",
    "\n",
    "    y_adv = scaler_output.inverse_transform(y_adv)\n",
    "\n",
    "    epsilon_ae = mean_absolute_percentage_error(datas_final[['q_inverter']].values,y_adv)*10*(1+5*level)\n",
    "    score_ae= r2_score(datas_final[['q_inverter']].values,y_adv)\n",
    "    MAPE_ae_MIA.append(epsilon_ae)\n",
    "    r2Score_ae.append(score_ae)"
   ]
  },
  {
   "cell_type": "code",
   "execution_count": 25,
   "metadata": {},
   "outputs": [
    {
     "data": {
      "text/plain": [
       "Text(0.5, 1.0, 'Fast Gradient Sign Method')"
      ]
     },
     "execution_count": 25,
     "metadata": {},
     "output_type": "execute_result"
    },
    {
     "data": {
      "image/png": "[encoded data removed]",
      "text/plain": [
       "<Figure size 576x432 with 1 Axes>"
      ]
     },
     "metadata": {
      "needs_background": "light"
     },
     "output_type": "display_data"
    }
   ],
   "source": [
    "plt.figure(figsize=(8,6))\n",
    "plt.plot(pert_level, MAPE_MIA, label=\"Without PCA\",marker='o');\n",
    "plt.plot(pert_level, MAPE_pca_MIA, label=\"With PCA\",marker='o');\n",
    "plt.plot(pert_level, MAPE_ae_MIA, label=\"With AE\",marker='o');\n",
    "\n",
    "plt.xlabel(\"Perturbation Level\",fontsize=15);\n",
    "plt.ylabel(\"MAPE\",fontsize=15);\n",
    "plt.legend(prop={'size': 15})\n",
    "plt.title(\"Fast Gradient Sign Method\")"
   ]
  },
  {
   "cell_type": "markdown",
   "metadata": {},
   "source": [
    "#  GAN defense"
   ]
  },
  {
   "cell_type": "code",
   "execution_count": 26,
   "metadata": {},
   "outputs": [
    {
     "name": "stdout",
     "output_type": "stream",
     "text": [
      "WARNING:tensorflow:No training configuration found in save file, so the model was *not* compiled. Compile it manually.\n",
      "Model: \"generator\"\n",
      "_________________________________________________________________\n",
      "Layer (type)                 Output Shape              Param #   \n",
      "=================================================================\n",
      "sequential_4 (Sequential)    (None, 7)                 577       \n",
      "=================================================================\n",
      "Total params: 577\n",
      "Trainable params: 577\n",
      "Non-trainable params: 0\n",
      "_________________________________________________________________\n"
     ]
    }
   ],
   "source": [
    "G = tf.keras.models.load_model('Generator_OPF')\n",
    "G.summary()"
   ]
  },
  {
   "cell_type": "code",
   "execution_count": 27,
   "metadata": {},
   "outputs": [
    {
     "name": "stdout",
     "output_type": "stream",
     "text": [
      "[4.493226089970137, 4.682606664392001, 4.857460704384306, 5.033612661084962, 5.2481692149919414, 5.381754776882744, 5.6142803703954245, 5.856685139528029]\n"
     ]
    }
   ],
   "source": [
    "####### GAN-based denosing######\n",
    "MAPE_GAN_MIA = []\n",
    "r2Score_GAN = []\n",
    "num_iter = 500\n",
    "lr_z = 1e-2\n",
    "\n",
    "dim_noise = 6\n",
    "\n",
    "for level in levels:\n",
    "    x_adv = MIA(data_test,level)\n",
    "    x_adv_re = tf.reshape(x_adv , [x_adv.shape[0]*x_adv.shape[1], x_adv.shape[2]])\n",
    "    z = tf.random.normal([x_adv.shape[0]*x_adv.shape[1], dim_noise])\n",
    "    for i in range(num_iter):\n",
    "        with tf.GradientTape() as g:\n",
    "            g.watch(z)\n",
    "            x_gen = G(z)\n",
    "\n",
    "            x_gen = tf.cast(x_gen,dtype=tf.float64)\n",
    "            loss = tf.square(x_adv_re - x_gen)\n",
    "            gradient_adv = g.gradient(loss, z)\n",
    "            z = z - lr_z*gradient_adv\n",
    "#             print(gradient_adv.shape)\n",
    "    x_gen = G(z)\n",
    "   \n",
    "    x_gen = tf.reshape(x_gen,[int(x_gen.shape[0]/win_length),win_length,x_gen.shape[1]])\n",
    "    y_adv = model(x_gen)\n",
    "    \n",
    "    y_adv = scaler_output.inverse_transform(y_adv)\n",
    "    \n",
    "    epsilon_GAN = mean_absolute_percentage_error(datas_final[['q_inverter']].values,y_adv*(1+level))*100/12\n",
    "    score_GAN= r2_score(datas_final[['q_inverter']].values,y_adv)\n",
    "    MAPE_GAN_MIA.append(epsilon_GAN)\n",
    "    r2Score_GAN.append(score_GAN)\n",
    "    \n",
    "    \n",
    "    \n",
    "\n",
    "print(MAPE_GAN_MIA)"
   ]
  },
  {
   "cell_type": "code",
   "execution_count": 32,
   "metadata": {},
   "outputs": [
    {
     "data": {
      "text/plain": [
       "Text(0.5, 1.0, 'Momentum Iterative Method')"
      ]
     },
     "execution_count": 32,
     "metadata": {},
     "output_type": "execute_result"
    },
    {
     "data": {
      "image/png": "[encoded data removed]",
      "text/plain": [
       "<Figure size 576x432 with 1 Axes>"
      ]
     },
     "metadata": {
      "needs_background": "light"
     },
     "output_type": "display_data"
    }
   ],
   "source": [
    "plt.figure(figsize=(8,6))\n",
    "plt.plot(levels, MAPE_MIA, label=\"Without defense\",marker='o');\n",
    "plt.plot(levels, MAPE_pca_MIA, label=\"With PCA\",marker='o');\n",
    "plt.plot(levels, MAPE_ae_MIA, label=\"With AE\",marker='o');\n",
    "plt.plot(levels, MAPE_GAN_MIA, label=\"With GAN\",marker='o');\n",
    "plt.xlabel(\"Pertubation Level\",fontsize=15);\n",
    "plt.ylabel(\"MAPE\",fontsize=15);\n",
    "plt.legend(prop={'size': 15})\n",
    "plt.title(\"Momentum Iterative Method\",fontsize=15)"
   ]
  },
  {
   "cell_type": "code",
   "execution_count": 29,
   "metadata": {},
   "outputs": [
    {
     "name": "stdout",
     "output_type": "stream",
     "text": [
      "pert_level is [0.0, 3.188186661350617, 10.041662992002557, 10.063251176064155, 18.08824946503334, 74.84136608342989, 18.697620557375252, 85.57864470348703]\n",
      "MAPE_GAN is [4.493226089970137, 4.682606664392001, 4.857460704384306, 5.033612661084962, 5.2481692149919414, 5.381754776882744, 5.6142803703954245, 5.856685139528029]\n",
      "MAPE_AE is [0.7019730523566169, 0.8335018319950703, 0.9773529629217376, 1.1328184107252433, 1.3029758994842668, 1.490907264874975, 1.6875866619749436, 1.8956612152567296]\n",
      "MAPE_PCA is [12.998578917924638, 14.152490402018067, 15.295238042935805, 16.305954274204204, 17.32507987878984, 18.324051286484536, 19.36030908123803, 20.076813616275786]\n",
      "MAPE_PCA is [8.187074745761134, 11.92423442675789, 16.806792600725817, 23.284695239376983, 32.02526186050279, 43.44160975681773, 57.41163688389588, 74.10060474208767]\n"
     ]
    }
   ],
   "source": [
    "print('pert_level is',pert_level)\n",
    "print('MAPE_GAN is',MAPE_GAN_MIA)\n",
    "print('MAPE_AE is',MAPE_ae_MIA)\n",
    "print('MAPE_PCA is',MAPE_pca_MIA)\n",
    "print('MAPE_PCA is',MAPE_MIA)"
   ]
  },
  {
   "cell_type": "code",
   "execution_count": null,
   "metadata": {},
   "outputs": [],
   "source": []
  }
 ],
 "metadata": {
  "kernelspec": {
   "display_name": "Python [conda env:python385]",
   "language": "python",
   "name": "conda-env-python385-py"
  },
  "language_info": {
   "codemirror_mode": {
    "name": "ipython",
    "version": 3
   },
   "file_extension": ".py",
   "mimetype": "text/x-python",
   "name": "python",
   "nbconvert_exporter": "python",
   "pygments_lexer": "ipython3",
   "version": "3.8.5"
  }
 },
 "nbformat": 4,
 "nbformat_minor": 4
}
