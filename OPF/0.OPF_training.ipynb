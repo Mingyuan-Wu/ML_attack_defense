{
 "cells": [
  {
   "cell_type": "code",
   "execution_count": 75,
   "metadata": {},
   "outputs": [],
   "source": [
    "import tensorflow as tf\n",
    "import tensorflow.keras as keras\n",
    "from tensorflow.keras.models import Sequential\n",
    "from tensorflow.keras.layers import Dense, Dropout, LSTM, SimpleRNN, Activation\n",
    "import numpy as np\n",
    "import pandas as pd\n",
    "import matplotlib.pyplot as plt\n",
    "\n",
    "from keras.preprocessing.sequence import TimeseriesGenerator\n",
    "from sklearn.model_selection import train_test_split\n",
    "from sklearn.preprocessing import StandardScaler, MinMaxScaler\n",
    "\n",
    "from sklearn.metrics import r2_score\n",
    "from sklearn.metrics import mean_absolute_percentage_error\n",
    "\n",
    "from sklearn.decomposition import PCA"
   ]
  },
  {
   "cell_type": "code",
   "execution_count": 76,
   "metadata": {},
   "outputs": [],
   "source": [
    "path = \"F:\\JupyterNotebook_Dir\\REAM _Lab\\OPF\\SUMMARY TABLE\\Inverter_Ouput_Gen_4.xlsx\"\n",
    "df = pd.read_excel(path)       #read data\n",
    "\n",
    "q_inverter = df[\"q_inverter\"].values;\n",
    "p_demand = df[\"net_p_demand\"].values      #access columns\n",
    "q_consumption = df[\"q_consumption\"].values;\n",
    "q_capacity = df[\"q_capacity\"].values;\n",
    "p_x_q = df[\"p_x_q\"].values\n",
    "p_x_p = df[\"p_x_p\"].values\n",
    "p_x_q_capacity = df[\"p_x_q_capacity\"].values;\n",
    "voltage = df[\"voltage\"].values;\n",
    "\n",
    "\n",
    "\n",
    "data_output = q_inverter\n",
    "\n",
    "data_input = np.vstack((p_demand,q_consumption,q_capacity,p_x_q,p_x_p,p_x_q_capacity,voltage)).T"
   ]
  },
  {
   "cell_type": "code",
   "execution_count": 77,
   "metadata": {},
   "outputs": [
    {
     "name": "stdout",
     "output_type": "stream",
     "text": [
      "(2400, 7)\n",
      "[1.01674266 0.96960554 0.8726523  ... 1.30365752 2.04694708 1.44945981]\n"
     ]
    }
   ],
   "source": [
    "print(data_input.shape)\n",
    "print(data_output)"
   ]
  },
  {
   "cell_type": "code",
   "execution_count": 78,
   "metadata": {},
   "outputs": [],
   "source": [
    "def rnn_model(seq_length, input_dim):\n",
    "    model = Sequential()\n",
    "#     model.add(tf.keras.layers.LSTM(128, input_shape= (seq_length, input_dim), return_sequences=False))\n",
    "    model.add((SimpleRNN(60, input_shape=(seq_length, input_dim))))\n",
    "#     model.add(Activation('relu'))\n",
    "    model.add(tf.keras.layers.LeakyReLU(alpha=0.1))\n",
    "    model.add(Dropout(0.2))\n",
    "    \n",
    "    model.add(Dense(60))\n",
    "    model.add(Activation('relu'))\n",
    "    model.add(Dropout(0.2))\n",
    "    model.add(Dense(30))\n",
    "    model.add(Activation('relu'))\n",
    "    model.add(Dropout(0.2))\n",
    "    model.add(Dense(1))\n",
    "    return model"
   ]
  },
  {
   "cell_type": "code",
   "execution_count": 79,
   "metadata": {},
   "outputs": [],
   "source": [
    "scaler_input = StandardScaler()\n",
    "scaler_output = StandardScaler()\n",
    "\n",
    "datas_scaled = scaler_input.fit_transform(data_input)\n",
    "features = datas_scaled\n",
    "\n",
    "data_output = data_output.reshape(-1,1)\n",
    "target = scaler_output.fit_transform(data_output)\n",
    "target = target.reshape(-1,1)\n",
    "\n",
    "\n",
    "x_train, x_test, y_train, y_test = train_test_split(features, target, test_size=0.2, random_state=123, shuffle=False)\n",
    "x_train.shape\n",
    "win_length = 20\n",
    "batch_size = 500\n",
    "num_features = 7\n",
    "train_generator = tf.keras.preprocessing.sequence.TimeseriesGenerator(x_train, y_train, length=win_length, sampling_rate=1, batch_size=batch_size)\n",
    "test_generator = tf.keras.preprocessing.sequence.TimeseriesGenerator(x_test, y_test, length=win_length, sampling_rate=1, batch_size=batch_size)"
   ]
  },
  {
   "cell_type": "code",
   "execution_count": 80,
   "metadata": {
    "scrolled": true
   },
   "outputs": [
    {
     "name": "stdout",
     "output_type": "stream",
     "text": [
      "Epoch 1/100\n",
      "4/4 [==============================] - 0s 60ms/step - loss: 0.4020 - mean_absolute_error: 0.4008 - val_loss: 3.8923 - val_mean_absolute_error: 1.5551\n",
      "Epoch 2/100\n",
      "4/4 [==============================] - 0s 16ms/step - loss: 0.3446 - mean_absolute_error: 0.3009 - val_loss: 4.1303 - val_mean_absolute_error: 1.6231\n",
      "Epoch 3/100\n",
      "4/4 [==============================] - 0s 17ms/step - loss: 0.3333 - mean_absolute_error: 0.2823 - val_loss: 4.1674 - val_mean_absolute_error: 1.6364\n",
      "Epoch 4/100\n",
      "4/4 [==============================] - 0s 20ms/step - loss: 0.3207 - mean_absolute_error: 0.2738 - val_loss: 4.0741 - val_mean_absolute_error: 1.6118\n",
      "Epoch 5/100\n",
      "4/4 [==============================] - 0s 17ms/step - loss: 0.3137 - mean_absolute_error: 0.2709 - val_loss: 3.9884 - val_mean_absolute_error: 1.5898\n",
      "Epoch 6/100\n",
      "4/4 [==============================] - 0s 17ms/step - loss: 0.3048 - mean_absolute_error: 0.2740 - val_loss: 3.9888 - val_mean_absolute_error: 1.5931\n",
      "Epoch 7/100\n",
      "4/4 [==============================] - 0s 21ms/step - loss: 0.2987 - mean_absolute_error: 0.2714 - val_loss: 4.0561 - val_mean_absolute_error: 1.6162\n",
      "Epoch 8/100\n",
      "4/4 [==============================] - 0s 16ms/step - loss: 0.2979 - mean_absolute_error: 0.2738 - val_loss: 4.1070 - val_mean_absolute_error: 1.6335\n",
      "Epoch 9/100\n",
      "4/4 [==============================] - 0s 16ms/step - loss: 0.2967 - mean_absolute_error: 0.2737 - val_loss: 4.0963 - val_mean_absolute_error: 1.6299\n",
      "Epoch 10/100\n",
      "4/4 [==============================] - 0s 15ms/step - loss: 0.2951 - mean_absolute_error: 0.2724 - val_loss: 4.0623 - val_mean_absolute_error: 1.6175\n",
      "Epoch 11/100\n",
      "4/4 [==============================] - 0s 15ms/step - loss: 0.2918 - mean_absolute_error: 0.2706 - val_loss: 4.0766 - val_mean_absolute_error: 1.6189\n",
      "Epoch 12/100\n",
      "4/4 [==============================] - 0s 14ms/step - loss: 0.2866 - mean_absolute_error: 0.2660 - val_loss: 4.1339 - val_mean_absolute_error: 1.6344\n",
      "Epoch 13/100\n",
      "4/4 [==============================] - 0s 19ms/step - loss: 0.2819 - mean_absolute_error: 0.2609 - val_loss: 4.1394 - val_mean_absolute_error: 1.6388\n",
      "Epoch 14/100\n",
      "4/4 [==============================] - 0s 16ms/step - loss: 0.2812 - mean_absolute_error: 0.2683 - val_loss: 4.1312 - val_mean_absolute_error: 1.6377\n",
      "Epoch 15/100\n",
      "4/4 [==============================] - 0s 16ms/step - loss: 0.2835 - mean_absolute_error: 0.2650 - val_loss: 4.1449 - val_mean_absolute_error: 1.6396\n",
      "Epoch 16/100\n",
      "4/4 [==============================] - 0s 17ms/step - loss: 0.2797 - mean_absolute_error: 0.2639 - val_loss: 4.1417 - val_mean_absolute_error: 1.6365\n",
      "Epoch 17/100\n",
      "4/4 [==============================] - 0s 15ms/step - loss: 0.2778 - mean_absolute_error: 0.2670 - val_loss: 4.1133 - val_mean_absolute_error: 1.6300\n",
      "Epoch 18/100\n",
      "4/4 [==============================] - 0s 14ms/step - loss: 0.2756 - mean_absolute_error: 0.2624 - val_loss: 4.1482 - val_mean_absolute_error: 1.6416\n",
      "Epoch 19/100\n",
      "4/4 [==============================] - 0s 16ms/step - loss: 0.2724 - mean_absolute_error: 0.2672 - val_loss: 4.1432 - val_mean_absolute_error: 1.6423\n",
      "Epoch 20/100\n",
      "4/4 [==============================] - 0s 15ms/step - loss: 0.2713 - mean_absolute_error: 0.2650 - val_loss: 4.1492 - val_mean_absolute_error: 1.6443\n",
      "Epoch 21/100\n",
      "4/4 [==============================] - 0s 15ms/step - loss: 0.2693 - mean_absolute_error: 0.2631 - val_loss: 4.1620 - val_mean_absolute_error: 1.6460\n",
      "Epoch 22/100\n",
      "4/4 [==============================] - 0s 13ms/step - loss: 0.2688 - mean_absolute_error: 0.2645 - val_loss: 4.0632 - val_mean_absolute_error: 1.6178\n",
      "Epoch 23/100\n",
      "4/4 [==============================] - 0s 13ms/step - loss: 0.2651 - mean_absolute_error: 0.2672 - val_loss: 4.0255 - val_mean_absolute_error: 1.6080\n",
      "Epoch 24/100\n",
      "4/4 [==============================] - 0s 13ms/step - loss: 0.2701 - mean_absolute_error: 0.2676 - val_loss: 4.1490 - val_mean_absolute_error: 1.6428\n",
      "Epoch 25/100\n",
      "4/4 [==============================] - 0s 13ms/step - loss: 0.2594 - mean_absolute_error: 0.2638 - val_loss: 4.2034 - val_mean_absolute_error: 1.6607\n",
      "Epoch 26/100\n",
      "4/4 [==============================] - 0s 14ms/step - loss: 0.2624 - mean_absolute_error: 0.2689 - val_loss: 4.1364 - val_mean_absolute_error: 1.6405\n",
      "Epoch 27/100\n",
      "4/4 [==============================] - 0s 15ms/step - loss: 0.2595 - mean_absolute_error: 0.2617 - val_loss: 4.1141 - val_mean_absolute_error: 1.6324\n",
      "Epoch 28/100\n",
      "4/4 [==============================] - 0s 13ms/step - loss: 0.2646 - mean_absolute_error: 0.2626 - val_loss: 4.1191 - val_mean_absolute_error: 1.6317\n",
      "Epoch 29/100\n",
      "4/4 [==============================] - 0s 14ms/step - loss: 0.2598 - mean_absolute_error: 0.2633 - val_loss: 4.0318 - val_mean_absolute_error: 1.6108\n",
      "Epoch 30/100\n",
      "4/4 [==============================] - 0s 14ms/step - loss: 0.2608 - mean_absolute_error: 0.2657 - val_loss: 4.1696 - val_mean_absolute_error: 1.6464\n",
      "Epoch 31/100\n",
      "4/4 [==============================] - 0s 14ms/step - loss: 0.2547 - mean_absolute_error: 0.2606 - val_loss: 4.1462 - val_mean_absolute_error: 1.6436\n",
      "Epoch 32/100\n",
      "4/4 [==============================] - 0s 14ms/step - loss: 0.2507 - mean_absolute_error: 0.2610 - val_loss: 4.1514 - val_mean_absolute_error: 1.6454\n",
      "Epoch 33/100\n",
      "4/4 [==============================] - 0s 14ms/step - loss: 0.2516 - mean_absolute_error: 0.2590 - val_loss: 4.1862 - val_mean_absolute_error: 1.6489\n",
      "Epoch 34/100\n",
      "4/4 [==============================] - 0s 14ms/step - loss: 0.2472 - mean_absolute_error: 0.2584 - val_loss: 4.1205 - val_mean_absolute_error: 1.6315\n",
      "Epoch 35/100\n",
      "4/4 [==============================] - 0s 13ms/step - loss: 0.2487 - mean_absolute_error: 0.2571 - val_loss: 4.0842 - val_mean_absolute_error: 1.6247\n",
      "Epoch 36/100\n",
      "4/4 [==============================] - 0s 13ms/step - loss: 0.2565 - mean_absolute_error: 0.2607 - val_loss: 4.2104 - val_mean_absolute_error: 1.6581\n",
      "Epoch 37/100\n",
      "4/4 [==============================] - 0s 18ms/step - loss: 0.2462 - mean_absolute_error: 0.2546 - val_loss: 4.2103 - val_mean_absolute_error: 1.6626\n",
      "Epoch 38/100\n",
      "4/4 [==============================] - 0s 18ms/step - loss: 0.2473 - mean_absolute_error: 0.2586 - val_loss: 4.2265 - val_mean_absolute_error: 1.6601\n",
      "Epoch 39/100\n",
      "4/4 [==============================] - 0s 15ms/step - loss: 0.2437 - mean_absolute_error: 0.2513 - val_loss: 4.1479 - val_mean_absolute_error: 1.6376\n",
      "Epoch 40/100\n",
      "4/4 [==============================] - 0s 15ms/step - loss: 0.2454 - mean_absolute_error: 0.2503 - val_loss: 4.2146 - val_mean_absolute_error: 1.6513\n",
      "Epoch 41/100\n",
      "4/4 [==============================] - 0s 14ms/step - loss: 0.2335 - mean_absolute_error: 0.2488 - val_loss: 4.0828 - val_mean_absolute_error: 1.6240\n",
      "Epoch 42/100\n",
      "4/4 [==============================] - 0s 17ms/step - loss: 0.2267 - mean_absolute_error: 0.2500 - val_loss: 4.2418 - val_mean_absolute_error: 1.6621\n",
      "Epoch 43/100\n",
      "4/4 [==============================] - 0s 16ms/step - loss: 0.2335 - mean_absolute_error: 0.2518 - val_loss: 4.0851 - val_mean_absolute_error: 1.6245\n",
      "Epoch 44/100\n",
      "4/4 [==============================] - 0s 14ms/step - loss: 0.2206 - mean_absolute_error: 0.2468 - val_loss: 4.2636 - val_mean_absolute_error: 1.6623\n",
      "Epoch 45/100\n",
      "4/4 [==============================] - 0s 13ms/step - loss: 0.2416 - mean_absolute_error: 0.2413 - val_loss: 4.3058 - val_mean_absolute_error: 1.6694\n",
      "Epoch 46/100\n",
      "4/4 [==============================] - 0s 13ms/step - loss: 0.2057 - mean_absolute_error: 0.2329 - val_loss: 4.0043 - val_mean_absolute_error: 1.5988\n",
      "Epoch 47/100\n",
      "4/4 [==============================] - 0s 14ms/step - loss: 0.2240 - mean_absolute_error: 0.2481 - val_loss: 4.1528 - val_mean_absolute_error: 1.6342\n",
      "Epoch 48/100\n",
      "4/4 [==============================] - 0s 13ms/step - loss: 0.2153 - mean_absolute_error: 0.2354 - val_loss: 4.2327 - val_mean_absolute_error: 1.6553\n",
      "Epoch 49/100\n",
      "4/4 [==============================] - 0s 13ms/step - loss: 0.1984 - mean_absolute_error: 0.2373 - val_loss: 4.0660 - val_mean_absolute_error: 1.6168\n",
      "Epoch 50/100\n",
      "4/4 [==============================] - 0s 13ms/step - loss: 0.2022 - mean_absolute_error: 0.2327 - val_loss: 4.2638 - val_mean_absolute_error: 1.6672\n",
      "Epoch 51/100\n"
     ]
    },
    {
     "name": "stdout",
     "output_type": "stream",
     "text": [
      "4/4 [==============================] - 0s 14ms/step - loss: 0.2067 - mean_absolute_error: 0.2324 - val_loss: 4.3499 - val_mean_absolute_error: 1.6851\n",
      "Epoch 52/100\n",
      "4/4 [==============================] - 0s 16ms/step - loss: 0.1919 - mean_absolute_error: 0.2259 - val_loss: 4.0957 - val_mean_absolute_error: 1.6208\n",
      "Epoch 53/100\n",
      "4/4 [==============================] - 0s 14ms/step - loss: 0.2127 - mean_absolute_error: 0.2365 - val_loss: 4.2126 - val_mean_absolute_error: 1.6445\n",
      "Epoch 54/100\n",
      "4/4 [==============================] - 0s 14ms/step - loss: 0.1732 - mean_absolute_error: 0.2130 - val_loss: 4.1680 - val_mean_absolute_error: 1.6346\n",
      "Epoch 55/100\n",
      "4/4 [==============================] - 0s 13ms/step - loss: 0.1721 - mean_absolute_error: 0.2205 - val_loss: 4.1347 - val_mean_absolute_error: 1.6299\n",
      "Epoch 56/100\n",
      "4/4 [==============================] - 0s 15ms/step - loss: 0.1821 - mean_absolute_error: 0.2178 - val_loss: 4.2676 - val_mean_absolute_error: 1.6623\n",
      "Epoch 57/100\n",
      "4/4 [==============================] - 0s 14ms/step - loss: 0.1548 - mean_absolute_error: 0.2092 - val_loss: 4.2285 - val_mean_absolute_error: 1.6529\n",
      "Epoch 58/100\n",
      "4/4 [==============================] - 0s 14ms/step - loss: 0.1459 - mean_absolute_error: 0.2007 - val_loss: 4.2460 - val_mean_absolute_error: 1.6565\n",
      "Epoch 59/100\n",
      "4/4 [==============================] - 0s 17ms/step - loss: 0.1472 - mean_absolute_error: 0.2026 - val_loss: 4.2276 - val_mean_absolute_error: 1.6520\n",
      "Epoch 60/100\n",
      "4/4 [==============================] - 0s 15ms/step - loss: 0.1464 - mean_absolute_error: 0.1968 - val_loss: 4.1937 - val_mean_absolute_error: 1.6436\n",
      "Epoch 61/100\n",
      "4/4 [==============================] - 0s 14ms/step - loss: 0.1515 - mean_absolute_error: 0.2066 - val_loss: 4.1536 - val_mean_absolute_error: 1.6327\n",
      "Epoch 62/100\n",
      "4/4 [==============================] - 0s 14ms/step - loss: 0.1113 - mean_absolute_error: 0.1841 - val_loss: 4.2974 - val_mean_absolute_error: 1.6673\n",
      "Epoch 63/100\n",
      "4/4 [==============================] - 0s 13ms/step - loss: 0.1065 - mean_absolute_error: 0.1840 - val_loss: 4.1394 - val_mean_absolute_error: 1.6305\n",
      "Epoch 64/100\n",
      "4/4 [==============================] - 0s 14ms/step - loss: 0.1187 - mean_absolute_error: 0.1843 - val_loss: 4.2026 - val_mean_absolute_error: 1.6447\n",
      "Epoch 65/100\n",
      "4/4 [==============================] - 0s 14ms/step - loss: 0.1072 - mean_absolute_error: 0.1775 - val_loss: 4.1413 - val_mean_absolute_error: 1.6297\n",
      "Epoch 66/100\n",
      "4/4 [==============================] - 0s 14ms/step - loss: 0.1124 - mean_absolute_error: 0.1823 - val_loss: 4.2287 - val_mean_absolute_error: 1.6513\n",
      "Epoch 67/100\n",
      "4/4 [==============================] - 0s 14ms/step - loss: 0.1024 - mean_absolute_error: 0.1756 - val_loss: 4.1416 - val_mean_absolute_error: 1.6302\n",
      "Epoch 68/100\n",
      "4/4 [==============================] - 0s 14ms/step - loss: 0.0996 - mean_absolute_error: 0.1836 - val_loss: 3.8138 - val_mean_absolute_error: 1.5460\n",
      "Epoch 69/100\n",
      "4/4 [==============================] - 0s 15ms/step - loss: 0.1363 - mean_absolute_error: 0.1977 - val_loss: 4.4646 - val_mean_absolute_error: 1.7085\n",
      "Epoch 70/100\n",
      "4/4 [==============================] - 0s 15ms/step - loss: 0.1521 - mean_absolute_error: 0.1837 - val_loss: 4.4545 - val_mean_absolute_error: 1.7023\n",
      "Epoch 71/100\n",
      "4/4 [==============================] - 0s 14ms/step - loss: 0.1196 - mean_absolute_error: 0.1870 - val_loss: 3.8997 - val_mean_absolute_error: 1.5625\n",
      "Epoch 72/100\n",
      "4/4 [==============================] - 0s 14ms/step - loss: 0.1542 - mean_absolute_error: 0.1972 - val_loss: 4.0374 - val_mean_absolute_error: 1.5995\n",
      "Epoch 73/100\n",
      "4/4 [==============================] - 0s 13ms/step - loss: 0.1346 - mean_absolute_error: 0.1820 - val_loss: 4.1244 - val_mean_absolute_error: 1.6177\n",
      "Epoch 74/100\n",
      "4/4 [==============================] - 0s 14ms/step - loss: 0.0996 - mean_absolute_error: 0.1775 - val_loss: 3.5310 - val_mean_absolute_error: 1.4655\n",
      "Epoch 75/100\n",
      "4/4 [==============================] - 0s 15ms/step - loss: 0.1671 - mean_absolute_error: 0.2202 - val_loss: 4.1002 - val_mean_absolute_error: 1.6200\n",
      "Epoch 76/100\n",
      "4/4 [==============================] - 0s 13ms/step - loss: 0.1290 - mean_absolute_error: 0.1788 - val_loss: 4.3641 - val_mean_absolute_error: 1.6913\n",
      "Epoch 77/100\n",
      "4/4 [==============================] - 0s 14ms/step - loss: 0.0819 - mean_absolute_error: 0.1640 - val_loss: 4.1482 - val_mean_absolute_error: 1.6372\n",
      "Epoch 78/100\n",
      "4/4 [==============================] - 0s 14ms/step - loss: 0.0756 - mean_absolute_error: 0.1632 - val_loss: 4.0574 - val_mean_absolute_error: 1.6078\n",
      "Epoch 79/100\n",
      "4/4 [==============================] - 0s 13ms/step - loss: 0.0831 - mean_absolute_error: 0.1694 - val_loss: 4.1394 - val_mean_absolute_error: 1.6291\n",
      "Epoch 80/100\n",
      "4/4 [==============================] - 0s 13ms/step - loss: 0.0834 - mean_absolute_error: 0.1688 - val_loss: 4.2303 - val_mean_absolute_error: 1.6487\n",
      "Epoch 81/100\n",
      "4/4 [==============================] - 0s 14ms/step - loss: 0.0717 - mean_absolute_error: 0.1570 - val_loss: 4.2324 - val_mean_absolute_error: 1.6507\n",
      "Epoch 82/100\n",
      "4/4 [==============================] - 0s 14ms/step - loss: 0.0785 - mean_absolute_error: 0.1630 - val_loss: 4.1978 - val_mean_absolute_error: 1.6452\n",
      "Epoch 83/100\n",
      "4/4 [==============================] - 0s 15ms/step - loss: 0.0807 - mean_absolute_error: 0.1594 - val_loss: 4.1306 - val_mean_absolute_error: 1.6285\n",
      "Epoch 84/100\n",
      "4/4 [==============================] - 0s 14ms/step - loss: 0.0766 - mean_absolute_error: 0.1558 - val_loss: 4.1517 - val_mean_absolute_error: 1.6341\n",
      "Epoch 85/100\n",
      "4/4 [==============================] - 0s 14ms/step - loss: 0.0656 - mean_absolute_error: 0.1531 - val_loss: 4.1982 - val_mean_absolute_error: 1.6466\n",
      "Epoch 86/100\n",
      "4/4 [==============================] - 0s 14ms/step - loss: 0.0797 - mean_absolute_error: 0.1579 - val_loss: 4.1975 - val_mean_absolute_error: 1.6457\n",
      "Epoch 87/100\n",
      "4/4 [==============================] - 0s 14ms/step - loss: 0.0693 - mean_absolute_error: 0.1537 - val_loss: 4.1988 - val_mean_absolute_error: 1.6447\n",
      "Epoch 88/100\n",
      "4/4 [==============================] - 0s 13ms/step - loss: 0.0710 - mean_absolute_error: 0.1541 - val_loss: 4.2488 - val_mean_absolute_error: 1.6555\n",
      "Epoch 89/100\n",
      "4/4 [==============================] - 0s 14ms/step - loss: 0.0623 - mean_absolute_error: 0.1494 - val_loss: 4.2378 - val_mean_absolute_error: 1.6515\n",
      "Epoch 90/100\n",
      "4/4 [==============================] - 0s 14ms/step - loss: 0.0655 - mean_absolute_error: 0.1500 - val_loss: 4.1086 - val_mean_absolute_error: 1.6211\n",
      "Epoch 91/100\n",
      "4/4 [==============================] - 0s 17ms/step - loss: 0.0806 - mean_absolute_error: 0.1562 - val_loss: 4.0779 - val_mean_absolute_error: 1.6132\n",
      "Epoch 92/100\n",
      "4/4 [==============================] - 0s 16ms/step - loss: 0.0608 - mean_absolute_error: 0.1476 - val_loss: 4.1662 - val_mean_absolute_error: 1.6369\n",
      "Epoch 93/100\n",
      "4/4 [==============================] - 0s 16ms/step - loss: 0.0605 - mean_absolute_error: 0.1507 - val_loss: 4.2244 - val_mean_absolute_error: 1.6515\n",
      "Epoch 94/100\n",
      "4/4 [==============================] - 0s 15ms/step - loss: 0.0630 - mean_absolute_error: 0.1495 - val_loss: 4.1765 - val_mean_absolute_error: 1.6385\n",
      "Epoch 95/100\n",
      "4/4 [==============================] - 0s 14ms/step - loss: 0.0647 - mean_absolute_error: 0.1483 - val_loss: 4.2041 - val_mean_absolute_error: 1.6428\n",
      "Epoch 96/100\n",
      "4/4 [==============================] - 0s 14ms/step - loss: 0.0740 - mean_absolute_error: 0.1526 - val_loss: 4.2059 - val_mean_absolute_error: 1.6440\n",
      "Epoch 97/100\n",
      "4/4 [==============================] - 0s 14ms/step - loss: 0.0655 - mean_absolute_error: 0.1519 - val_loss: 4.0740 - val_mean_absolute_error: 1.6127\n",
      "Epoch 98/100\n",
      "4/4 [==============================] - 0s 17ms/step - loss: 0.0669 - mean_absolute_error: 0.1542 - val_loss: 4.1897 - val_mean_absolute_error: 1.6451\n",
      "Epoch 99/100\n",
      "4/4 [==============================] - 0s 18ms/step - loss: 0.0764 - mean_absolute_error: 0.1506 - val_loss: 4.2581 - val_mean_absolute_error: 1.6622\n",
      "Epoch 100/100\n",
      "4/4 [==============================] - 0s 14ms/step - loss: 0.0642 - mean_absolute_error: 0.1485 - val_loss: 4.2259 - val_mean_absolute_error: 1.6541\n"
     ]
    }
   ],
   "source": [
    "model = rnn_model(seq_length = win_length, input_dim = num_features)\n",
    "model.compile(loss=tf.losses.MeanSquaredError(), optimizer=tf.optimizers.Adam(), metrics=[tf.metrics.MeanAbsoluteError()])\n",
    "history = model.fit_generator(train_generator, epochs=100, validation_data=test_generator, shuffle=False)"
   ]
  },
  {
   "cell_type": "code",
   "execution_count": 81,
   "metadata": {},
   "outputs": [
    {
     "name": "stdout",
     "output_type": "stream",
     "text": [
      "(1900, 1)\n",
      "(1900, 1)\n"
     ]
    }
   ],
   "source": [
    "# model.evaluate_generator(test_generator, verbose=0)\n",
    "predictions = model.predict_generator(train_generator)\n",
    "print(predictions.shape)\n",
    "# rev_trans = scaler_input.inverse_transform(datas_pred)\n",
    "rev_trans = scaler_output.inverse_transform(predictions)\n",
    "print(rev_trans.shape)"
   ]
  },
  {
   "cell_type": "code",
   "execution_count": 82,
   "metadata": {},
   "outputs": [
    {
     "name": "stdout",
     "output_type": "stream",
     "text": [
      "(1900, 1)\n",
      "[ 1.4006308  1.3372234  1.6097528 ... 17.4938    13.919752  11.476383 ]\n"
     ]
    }
   ],
   "source": [
    "print(rev_trans.shape)\n",
    "print(rev_trans[:,-1])"
   ]
  },
  {
   "cell_type": "code",
   "execution_count": 83,
   "metadata": {},
   "outputs": [
    {
     "name": "stderr",
     "output_type": "stream",
     "text": [
      "<ipython-input-83-669839c0b6b1>:3: SettingWithCopyWarning: \n",
      "A value is trying to be set on a copy of a slice from a DataFrame.\n",
      "Try using .loc[row_indexer,col_indexer] = value instead\n",
      "\n",
      "See the caveats in the documentation: https://pandas.pydata.org/pandas-docs/stable/user_guide/indexing.html#returning-a-view-versus-a-copy\n",
      "  datas_final['Predicted control'] = rev_trans[:,-1]\n"
     ]
    },
    {
     "data": {
      "text/plain": [
       "<AxesSubplot:>"
      ]
     },
     "execution_count": 83,
     "metadata": {},
     "output_type": "execute_result"
    },
    {
     "data": {
      "image/png": "[encoded data removed]",
      "text/plain": [
       "<Figure size 432x288 with 1 Axes>"
      ]
     },
     "metadata": {
      "needs_background": "light"
     },
     "output_type": "display_data"
    }
   ],
   "source": [
    "datas_final = df[:predictions.shape[0]]\n",
    "datas_final.count()\n",
    "datas_final['Predicted control'] = rev_trans[:,-1]\n",
    "datas_final[['q_inverter','Predicted control']].plot()"
   ]
  },
  {
   "cell_type": "code",
   "execution_count": 84,
   "metadata": {},
   "outputs": [
    {
     "data": {
      "text/plain": [
       "Text(0.5, 1.0, 'Loss')"
      ]
     },
     "execution_count": 84,
     "metadata": {},
     "output_type": "execute_result"
    },
    {
     "data": {
      "image/png": "[encoded data removed]",
      "text/plain": [
       "<Figure size 576x576 with 1 Axes>"
      ]
     },
     "metadata": {
      "needs_background": "light"
     },
     "output_type": "display_data"
    }
   ],
   "source": [
    "epoch = len(history.history['val_mean_absolute_error'])\n",
    "epoch = np.arange(epoch)\n",
    "\n",
    "plt.figure(figsize=(8,8))\n",
    "# plt.subplot(1,2,1)\n",
    "# # plt.plot(epoch,history.history['accuracy'])\n",
    "# plt.plot(epoch,history.history['val_loss'])\n",
    "# plt.title('Val_Loss')\n",
    "# plt.legend(labels=['train', 'val'],  loc='lower right')\n",
    "\n",
    "\n",
    "#Plot loss vs epoch\n",
    "# plt.subplot(1,2,2)\n",
    "plt.plot(epoch,history.history['loss'])\n",
    "plt.legend(labels=['train', 'val'],  loc='upper right')\n",
    "plt.title('Loss')"
   ]
  },
  {
   "cell_type": "markdown",
   "metadata": {},
   "source": [
    "# FGSM attack"
   ]
  },
  {
   "cell_type": "code",
   "execution_count": 85,
   "metadata": {
    "scrolled": true
   },
   "outputs": [
    {
     "name": "stdout",
     "output_type": "stream",
     "text": [
      "(1900, 20, 7)\n",
      "(1900, 1)\n",
      "<class 'tensorflow.python.framework.ops.EagerTensor'>\n",
      "<class 'tensorflow.python.framework.ops.EagerTensor'>\n"
     ]
    }
   ],
   "source": [
    "data_test = np.concatenate((train_generator[0][0],train_generator[1][0],train_generator[2][0],train_generator[3][0]),axis=0)\n",
    "data_test = tf.convert_to_tensor(data_test)\n",
    "target_test = np.concatenate((train_generator[0][1],train_generator[1][1],train_generator[2][1],train_generator[3][1]),axis=0)\n",
    "y_actual = target_test.reshape(-1,1)\n",
    "y_actual = tf.convert_to_tensor(y_actual)\n",
    "\n",
    "print(data_test.shape)\n",
    "print(y_actual.shape)\n",
    "print(type(data_test))\n",
    "print(type(y_actual))"
   ]
  },
  {
   "cell_type": "code",
   "execution_count": 86,
   "metadata": {},
   "outputs": [],
   "source": [
    "\n",
    "with tf.GradientTape() as tape:\n",
    "    data_test = tf.cast(data_test,dtype='float64')\n",
    "    tape.watch(data_test)\n",
    "    yy = model(data_test)\n",
    "    \n",
    "    yy = tf.cast(yy,dtype='float64')\n",
    "    loss = tf.square(yy - y_actual)\n",
    "#     loss = loss.astype('float32')\n",
    "grad = tape.gradient(loss, data_test)\n",
    "\n",
    "sign_grad = tf.sign(grad)"
   ]
  },
  {
   "cell_type": "code",
   "execution_count": 87,
   "metadata": {},
   "outputs": [
    {
     "data": {
      "text/plain": [
       "TensorShape([1900, 20, 7])"
      ]
     },
     "execution_count": 87,
     "metadata": {},
     "output_type": "execute_result"
    }
   ],
   "source": [
    "sign_grad.shape"
   ]
  },
  {
   "cell_type": "code",
   "execution_count": 88,
   "metadata": {},
   "outputs": [],
   "source": [
    "levels = [0.01,0.05,0.1,0.11,0.12]\n",
    "\n",
    "MAPE_FGSM = []\n",
    "r2Score_FGSM = []\n",
    "pert_level = []\n",
    "\n",
    "\n",
    "for level in levels:\n",
    "    x_adv = data_test + level*sign_grad\n",
    "    y_adv = model(x_adv)\n",
    "    y_adv = scaler_output.inverse_transform(y_adv)\n",
    "    \n",
    "    pert = mean_absolute_percentage_error(tf.reshape(x_adv,(-1,1)),tf.reshape(data_test,(-1,1)))/10\n",
    "    pert_level.append(pert*200)\n",
    "\n",
    "    epsilon = mean_absolute_percentage_error(datas_final['q_inverter'].values,y_adv)*25\n",
    "    score_FGSM = r2_score(datas_final[['q_inverter']].values,y_adv)\n",
    "    MAPE_FGSM.append(epsilon)\n",
    "    r2Score_FGSM.append(MAPE_FGSM)"
   ]
  },
  {
   "cell_type": "code",
   "execution_count": 89,
   "metadata": {},
   "outputs": [
    {
     "name": "stdout",
     "output_type": "stream",
     "text": [
      "[14.928341417848667, 17.730941261366056, 23.38624084378403, 24.61611009837507, 25.951786241707676]\n",
      "[1.0581417088536753, 6.310836287677421, 9.572504489162554, 10.822109962173302, 15.508393007196847]\n"
     ]
    }
   ],
   "source": [
    "print(MAPE_FGSM)\n",
    "print(pert_level)"
   ]
  },
  {
   "cell_type": "code",
   "execution_count": 90,
   "metadata": {},
   "outputs": [
    {
     "data": {
      "text/plain": [
       "Text(0.5, 1.0, 'Fast Gradient Sign Method')"
      ]
     },
     "execution_count": 90,
     "metadata": {},
     "output_type": "execute_result"
    },
    {
     "data": {
      "image/png": "[encoded data removed]",
      "text/plain": [
       "<Figure size 576x432 with 1 Axes>"
      ]
     },
     "metadata": {
      "needs_background": "light"
     },
     "output_type": "display_data"
    }
   ],
   "source": [
    "plt.figure(figsize=(8,6))\n",
    "plt.plot(pert_level, MAPE_FGSM, label=\"Without PCA\",marker='o');\n",
    "# plt.plot(levels, MAPE_pca_FGSM, label=\"With PCA\",marker='o');\n",
    "plt.xlabel(\"Perturbation Level\",fontsize=15);\n",
    "plt.ylabel(\"MAPE\",fontsize=15);\n",
    "plt.legend(prop={'size': 15})\n",
    "plt.title(\"Fast Gradient Sign Method\")"
   ]
  },
  {
   "cell_type": "markdown",
   "metadata": {},
   "source": [
    "# PCA defense against FGSM attack"
   ]
  },
  {
   "cell_type": "code",
   "execution_count": 91,
   "metadata": {},
   "outputs": [],
   "source": [
    "# generating PCA data\n",
    "def generating_PCAdata(x,n):\n",
    "    pca = PCA(n_components=n)\n",
    "    x_pca = pca.fit_transform(x)\n",
    "    return x_pca\n",
    "\n",
    "\n",
    "def reorganize(x,n):\n",
    "    n0 =x.shape[0]\n",
    "    n1 =x.shape[1]\n",
    "    n2 =x.shape[2]\n",
    "    \n",
    "    x_re = np.zeros([n0,n1,n],dtype='float64')\n",
    "    for  i in range(n0):\n",
    "        pca = PCA(n_components=n)\n",
    "        x_re[i] = pca.fit_transform(x[i])\n",
    "    \n",
    "    return x_re "
   ]
  },
  {
   "cell_type": "code",
   "execution_count": 92,
   "metadata": {},
   "outputs": [],
   "source": [
    "n_PCA = 5 #number of PCA features\n",
    "\n",
    "\n",
    "datas_pca = generating_PCAdata(datas_scaled,n_PCA)\n",
    "features_pca = datas_pca\n",
    "\n",
    "\n",
    "\n",
    "x_train, x_test, y_train, y_test = train_test_split(features_pca, target, test_size=0.2, random_state=123, shuffle=False)\n",
    "\n",
    "win_length = 20\n",
    "batch_size = 500\n",
    "# num_features = n_PCA\n",
    "train_generator_pca = tf.keras.preprocessing.sequence.TimeseriesGenerator(x_train, y_train, length=win_length, sampling_rate=1, batch_size=batch_size)\n",
    "test_generator_pca = tf.keras.preprocessing.sequence.TimeseriesGenerator(x_test, y_test, length=win_length, sampling_rate=1, batch_size=batch_size)"
   ]
  },
  {
   "cell_type": "code",
   "execution_count": 93,
   "metadata": {},
   "outputs": [
    {
     "name": "stdout",
     "output_type": "stream",
     "text": [
      "(1920, 5)\n",
      "(1920, 1)\n",
      "(480, 5)\n",
      "(480, 1)\n"
     ]
    }
   ],
   "source": [
    "print(x_train.shape)\n",
    "print(y_train.shape)\n",
    "print(x_test.shape)\n",
    "print(y_test.shape)"
   ]
  },
  {
   "cell_type": "code",
   "execution_count": 94,
   "metadata": {},
   "outputs": [
    {
     "name": "stdout",
     "output_type": "stream",
     "text": [
      "Epoch 1/100\n",
      "4/4 [==============================] - 0s 117ms/step - loss: 0.4880 - mean_absolute_error: 0.4830 - val_loss: 4.1976 - val_mean_absolute_error: 1.6366\n",
      "Epoch 2/100\n",
      "4/4 [==============================] - 0s 15ms/step - loss: 0.3959 - mean_absolute_error: 0.3667 - val_loss: 4.3796 - val_mean_absolute_error: 1.6903\n",
      "Epoch 3/100\n",
      "4/4 [==============================] - 0s 14ms/step - loss: 0.3693 - mean_absolute_error: 0.3387 - val_loss: 4.2142 - val_mean_absolute_error: 1.6462\n",
      "Epoch 4/100\n",
      "4/4 [==============================] - 0s 15ms/step - loss: 0.3439 - mean_absolute_error: 0.3233 - val_loss: 4.0556 - val_mean_absolute_error: 1.6026\n",
      "Epoch 5/100\n",
      "4/4 [==============================] - 0s 15ms/step - loss: 0.3353 - mean_absolute_error: 0.3210 - val_loss: 3.9851 - val_mean_absolute_error: 1.5842\n",
      "Epoch 6/100\n",
      "4/4 [==============================] - 0s 14ms/step - loss: 0.3230 - mean_absolute_error: 0.3148 - val_loss: 3.9948 - val_mean_absolute_error: 1.5897\n",
      "Epoch 7/100\n",
      "4/4 [==============================] - 0s 14ms/step - loss: 0.3167 - mean_absolute_error: 0.3111 - val_loss: 4.0594 - val_mean_absolute_error: 1.6126\n",
      "Epoch 8/100\n",
      "4/4 [==============================] - 0s 15ms/step - loss: 0.3180 - mean_absolute_error: 0.3130 - val_loss: 4.1138 - val_mean_absolute_error: 1.6318\n",
      "Epoch 9/100\n",
      "4/4 [==============================] - 0s 15ms/step - loss: 0.3108 - mean_absolute_error: 0.3049 - val_loss: 4.1372 - val_mean_absolute_error: 1.6408\n",
      "Epoch 10/100\n",
      "4/4 [==============================] - 0s 14ms/step - loss: 0.3090 - mean_absolute_error: 0.3008 - val_loss: 4.1495 - val_mean_absolute_error: 1.6453\n",
      "Epoch 11/100\n",
      "4/4 [==============================] - 0s 14ms/step - loss: 0.3016 - mean_absolute_error: 0.2983 - val_loss: 4.1181 - val_mean_absolute_error: 1.6353\n",
      "Epoch 12/100\n",
      "4/4 [==============================] - 0s 14ms/step - loss: 0.2958 - mean_absolute_error: 0.2991 - val_loss: 4.0918 - val_mean_absolute_error: 1.6269\n",
      "Epoch 13/100\n",
      "4/4 [==============================] - 0s 14ms/step - loss: 0.2928 - mean_absolute_error: 0.2962 - val_loss: 4.1026 - val_mean_absolute_error: 1.6298\n",
      "Epoch 14/100\n",
      "4/4 [==============================] - 0s 14ms/step - loss: 0.2896 - mean_absolute_error: 0.2982 - val_loss: 4.1355 - val_mean_absolute_error: 1.6398\n",
      "Epoch 15/100\n",
      "4/4 [==============================] - 0s 14ms/step - loss: 0.2820 - mean_absolute_error: 0.2913 - val_loss: 4.1123 - val_mean_absolute_error: 1.6338\n",
      "Epoch 16/100\n",
      "4/4 [==============================] - 0s 14ms/step - loss: 0.2767 - mean_absolute_error: 0.2937 - val_loss: 4.1019 - val_mean_absolute_error: 1.6316\n",
      "Epoch 17/100\n",
      "4/4 [==============================] - 0s 14ms/step - loss: 0.2799 - mean_absolute_error: 0.2970 - val_loss: 4.0840 - val_mean_absolute_error: 1.6271\n",
      "Epoch 18/100\n",
      "4/4 [==============================] - 0s 14ms/step - loss: 0.2793 - mean_absolute_error: 0.2982 - val_loss: 4.1039 - val_mean_absolute_error: 1.6329\n",
      "Epoch 19/100\n",
      "4/4 [==============================] - 0s 14ms/step - loss: 0.2849 - mean_absolute_error: 0.2950 - val_loss: 4.1015 - val_mean_absolute_error: 1.6319\n",
      "Epoch 20/100\n",
      "4/4 [==============================] - 0s 15ms/step - loss: 0.2828 - mean_absolute_error: 0.2916 - val_loss: 4.0882 - val_mean_absolute_error: 1.6284\n",
      "Epoch 21/100\n",
      "4/4 [==============================] - 0s 14ms/step - loss: 0.2661 - mean_absolute_error: 0.2845 - val_loss: 4.0520 - val_mean_absolute_error: 1.6188\n",
      "Epoch 22/100\n",
      "4/4 [==============================] - 0s 16ms/step - loss: 0.2723 - mean_absolute_error: 0.2881 - val_loss: 4.0261 - val_mean_absolute_error: 1.6125\n",
      "Epoch 23/100\n",
      "4/4 [==============================] - 0s 15ms/step - loss: 0.2698 - mean_absolute_error: 0.2823 - val_loss: 4.0712 - val_mean_absolute_error: 1.6258\n",
      "Epoch 24/100\n",
      "4/4 [==============================] - 0s 13ms/step - loss: 0.2696 - mean_absolute_error: 0.2834 - val_loss: 4.1097 - val_mean_absolute_error: 1.6373\n",
      "Epoch 25/100\n",
      "4/4 [==============================] - 0s 15ms/step - loss: 0.2661 - mean_absolute_error: 0.2794 - val_loss: 4.1338 - val_mean_absolute_error: 1.6435\n",
      "Epoch 26/100\n",
      "4/4 [==============================] - 0s 13ms/step - loss: 0.2744 - mean_absolute_error: 0.2769 - val_loss: 4.1162 - val_mean_absolute_error: 1.6383\n",
      "Epoch 27/100\n",
      "4/4 [==============================] - 0s 14ms/step - loss: 0.2564 - mean_absolute_error: 0.2708 - val_loss: 4.1078 - val_mean_absolute_error: 1.6355\n",
      "Epoch 28/100\n",
      "4/4 [==============================] - 0s 14ms/step - loss: 0.2535 - mean_absolute_error: 0.2680 - val_loss: 4.0318 - val_mean_absolute_error: 1.6149\n",
      "Epoch 29/100\n",
      "4/4 [==============================] - 0s 15ms/step - loss: 0.2598 - mean_absolute_error: 0.2726 - val_loss: 4.0026 - val_mean_absolute_error: 1.6083\n",
      "Epoch 30/100\n",
      "4/4 [==============================] - 0s 14ms/step - loss: 0.2559 - mean_absolute_error: 0.2727 - val_loss: 4.0405 - val_mean_absolute_error: 1.6204\n",
      "Epoch 31/100\n",
      "4/4 [==============================] - 0s 14ms/step - loss: 0.2599 - mean_absolute_error: 0.2726 - val_loss: 4.0843 - val_mean_absolute_error: 1.6332\n",
      "Epoch 32/100\n",
      "4/4 [==============================] - 0s 15ms/step - loss: 0.2532 - mean_absolute_error: 0.2722 - val_loss: 4.0905 - val_mean_absolute_error: 1.6346\n",
      "Epoch 33/100\n",
      "4/4 [==============================] - 0s 14ms/step - loss: 0.2495 - mean_absolute_error: 0.2635 - val_loss: 4.0463 - val_mean_absolute_error: 1.6232\n",
      "Epoch 34/100\n",
      "4/4 [==============================] - 0s 16ms/step - loss: 0.2351 - mean_absolute_error: 0.2640 - val_loss: 4.0513 - val_mean_absolute_error: 1.6235\n",
      "Epoch 35/100\n",
      "4/4 [==============================] - 0s 14ms/step - loss: 0.2405 - mean_absolute_error: 0.2613 - val_loss: 4.0985 - val_mean_absolute_error: 1.6342\n",
      "Epoch 36/100\n",
      "4/4 [==============================] - 0s 14ms/step - loss: 0.2409 - mean_absolute_error: 0.2581 - val_loss: 4.0855 - val_mean_absolute_error: 1.6315\n",
      "Epoch 37/100\n",
      "4/4 [==============================] - 0s 14ms/step - loss: 0.2295 - mean_absolute_error: 0.2539 - val_loss: 4.0463 - val_mean_absolute_error: 1.6244\n",
      "Epoch 38/100\n",
      "4/4 [==============================] - 0s 13ms/step - loss: 0.2252 - mean_absolute_error: 0.2515 - val_loss: 4.0945 - val_mean_absolute_error: 1.6378\n",
      "Epoch 39/100\n",
      "4/4 [==============================] - 0s 14ms/step - loss: 0.2216 - mean_absolute_error: 0.2525 - val_loss: 4.1456 - val_mean_absolute_error: 1.6514\n",
      "Epoch 40/100\n",
      "4/4 [==============================] - 0s 14ms/step - loss: 0.2174 - mean_absolute_error: 0.2465 - val_loss: 4.1000 - val_mean_absolute_error: 1.6392\n",
      "Epoch 41/100\n",
      "4/4 [==============================] - 0s 14ms/step - loss: 0.2028 - mean_absolute_error: 0.2374 - val_loss: 4.0195 - val_mean_absolute_error: 1.6181\n",
      "Epoch 42/100\n",
      "4/4 [==============================] - 0s 14ms/step - loss: 0.2028 - mean_absolute_error: 0.2405 - val_loss: 4.0049 - val_mean_absolute_error: 1.6149\n",
      "Epoch 43/100\n",
      "4/4 [==============================] - 0s 16ms/step - loss: 0.1947 - mean_absolute_error: 0.2390 - val_loss: 4.0602 - val_mean_absolute_error: 1.6287\n",
      "Epoch 44/100\n",
      "4/4 [==============================] - 0s 14ms/step - loss: 0.1838 - mean_absolute_error: 0.2295 - val_loss: 4.0421 - val_mean_absolute_error: 1.6257\n",
      "Epoch 45/100\n",
      "4/4 [==============================] - 0s 16ms/step - loss: 0.1874 - mean_absolute_error: 0.2381 - val_loss: 4.0849 - val_mean_absolute_error: 1.6352\n",
      "Epoch 46/100\n",
      "4/4 [==============================] - 0s 14ms/step - loss: 0.1854 - mean_absolute_error: 0.2323 - val_loss: 4.1481 - val_mean_absolute_error: 1.6482\n",
      "Epoch 47/100\n",
      "4/4 [==============================] - 0s 18ms/step - loss: 0.1774 - mean_absolute_error: 0.2217 - val_loss: 4.0490 - val_mean_absolute_error: 1.6240\n",
      "Epoch 48/100\n",
      "4/4 [==============================] - 0s 15ms/step - loss: 0.1744 - mean_absolute_error: 0.2293 - val_loss: 3.9286 - val_mean_absolute_error: 1.5964\n",
      "Epoch 49/100\n",
      "4/4 [==============================] - 0s 14ms/step - loss: 0.1734 - mean_absolute_error: 0.2347 - val_loss: 4.0971 - val_mean_absolute_error: 1.6322\n",
      "Epoch 50/100\n",
      "4/4 [==============================] - 0s 15ms/step - loss: 0.1766 - mean_absolute_error: 0.2221 - val_loss: 4.1817 - val_mean_absolute_error: 1.6494\n",
      "Epoch 51/100\n"
     ]
    },
    {
     "name": "stdout",
     "output_type": "stream",
     "text": [
      "4/4 [==============================] - 0s 14ms/step - loss: 0.1488 - mean_absolute_error: 0.2075 - val_loss: 4.0178 - val_mean_absolute_error: 1.6105\n",
      "Epoch 52/100\n",
      "4/4 [==============================] - 0s 14ms/step - loss: 0.1241 - mean_absolute_error: 0.1952 - val_loss: 3.8110 - val_mean_absolute_error: 1.5629\n",
      "Epoch 53/100\n",
      "4/4 [==============================] - 0s 14ms/step - loss: 0.1323 - mean_absolute_error: 0.2085 - val_loss: 3.8751 - val_mean_absolute_error: 1.5787\n",
      "Epoch 54/100\n",
      "4/4 [==============================] - 0s 14ms/step - loss: 0.1464 - mean_absolute_error: 0.2027 - val_loss: 4.0381 - val_mean_absolute_error: 1.6134\n",
      "Epoch 55/100\n",
      "4/4 [==============================] - 0s 15ms/step - loss: 0.1025 - mean_absolute_error: 0.1858 - val_loss: 3.9680 - val_mean_absolute_error: 1.5958\n",
      "Epoch 56/100\n",
      "4/4 [==============================] - 0s 14ms/step - loss: 0.1095 - mean_absolute_error: 0.1909 - val_loss: 3.9687 - val_mean_absolute_error: 1.5949\n",
      "Epoch 57/100\n",
      "4/4 [==============================] - 0s 14ms/step - loss: 0.1140 - mean_absolute_error: 0.1874 - val_loss: 3.9555 - val_mean_absolute_error: 1.5927\n",
      "Epoch 58/100\n",
      "4/4 [==============================] - 0s 15ms/step - loss: 0.1138 - mean_absolute_error: 0.1916 - val_loss: 3.9126 - val_mean_absolute_error: 1.5851\n",
      "Epoch 59/100\n",
      "4/4 [==============================] - 0s 15ms/step - loss: 0.1063 - mean_absolute_error: 0.1855 - val_loss: 3.9843 - val_mean_absolute_error: 1.5989\n",
      "Epoch 60/100\n",
      "4/4 [==============================] - 0s 14ms/step - loss: 0.0846 - mean_absolute_error: 0.1747 - val_loss: 3.8659 - val_mean_absolute_error: 1.5721\n",
      "Epoch 61/100\n",
      "4/4 [==============================] - 0s 14ms/step - loss: 0.0983 - mean_absolute_error: 0.1826 - val_loss: 3.8056 - val_mean_absolute_error: 1.5587\n",
      "Epoch 62/100\n",
      "4/4 [==============================] - 0s 16ms/step - loss: 0.0949 - mean_absolute_error: 0.1794 - val_loss: 3.8592 - val_mean_absolute_error: 1.5706\n",
      "Epoch 63/100\n",
      "4/4 [==============================] - 0s 14ms/step - loss: 0.0894 - mean_absolute_error: 0.1740 - val_loss: 3.9211 - val_mean_absolute_error: 1.5855\n",
      "Epoch 64/100\n",
      "4/4 [==============================] - 0s 14ms/step - loss: 0.0845 - mean_absolute_error: 0.1727 - val_loss: 3.8735 - val_mean_absolute_error: 1.5751\n",
      "Epoch 65/100\n",
      "4/4 [==============================] - 0s 15ms/step - loss: 0.0807 - mean_absolute_error: 0.1678 - val_loss: 3.9001 - val_mean_absolute_error: 1.5784\n",
      "Epoch 66/100\n",
      "4/4 [==============================] - 0s 16ms/step - loss: 0.0770 - mean_absolute_error: 0.1647 - val_loss: 3.8692 - val_mean_absolute_error: 1.5703\n",
      "Epoch 67/100\n",
      "4/4 [==============================] - 0s 14ms/step - loss: 0.0726 - mean_absolute_error: 0.1635 - val_loss: 3.8150 - val_mean_absolute_error: 1.5589\n",
      "Epoch 68/100\n",
      "4/4 [==============================] - 0s 17ms/step - loss: 0.0778 - mean_absolute_error: 0.1664 - val_loss: 3.9104 - val_mean_absolute_error: 1.5802\n",
      "Epoch 69/100\n",
      "4/4 [==============================] - 0s 13ms/step - loss: 0.0787 - mean_absolute_error: 0.1649 - val_loss: 4.0395 - val_mean_absolute_error: 1.6079\n",
      "Epoch 70/100\n",
      "4/4 [==============================] - 0s 14ms/step - loss: 0.0789 - mean_absolute_error: 0.1647 - val_loss: 4.0194 - val_mean_absolute_error: 1.6067\n",
      "Epoch 71/100\n",
      "4/4 [==============================] - 0s 13ms/step - loss: 0.0836 - mean_absolute_error: 0.1670 - val_loss: 4.0180 - val_mean_absolute_error: 1.6046\n",
      "Epoch 72/100\n",
      "4/4 [==============================] - 0s 16ms/step - loss: 0.0787 - mean_absolute_error: 0.1656 - val_loss: 3.9114 - val_mean_absolute_error: 1.5802\n",
      "Epoch 73/100\n",
      "4/4 [==============================] - 0s 14ms/step - loss: 0.0814 - mean_absolute_error: 0.1672 - val_loss: 3.9380 - val_mean_absolute_error: 1.5832\n",
      "Epoch 74/100\n",
      "4/4 [==============================] - 0s 13ms/step - loss: 0.0898 - mean_absolute_error: 0.1677 - val_loss: 3.9354 - val_mean_absolute_error: 1.5829\n",
      "Epoch 75/100\n",
      "4/4 [==============================] - 0s 14ms/step - loss: 0.0706 - mean_absolute_error: 0.1585 - val_loss: 3.8351 - val_mean_absolute_error: 1.5620\n",
      "Epoch 76/100\n",
      "4/4 [==============================] - 0s 13ms/step - loss: 0.0766 - mean_absolute_error: 0.1601 - val_loss: 3.8183 - val_mean_absolute_error: 1.5588\n",
      "Epoch 77/100\n",
      "4/4 [==============================] - 0s 14ms/step - loss: 0.0817 - mean_absolute_error: 0.1619 - val_loss: 3.9399 - val_mean_absolute_error: 1.5897\n",
      "Epoch 78/100\n",
      "4/4 [==============================] - 0s 14ms/step - loss: 0.0940 - mean_absolute_error: 0.1661 - val_loss: 4.0739 - val_mean_absolute_error: 1.6159\n",
      "Epoch 79/100\n",
      "4/4 [==============================] - 0s 14ms/step - loss: 0.0938 - mean_absolute_error: 0.1701 - val_loss: 3.9640 - val_mean_absolute_error: 1.5907\n",
      "Epoch 80/100\n",
      "4/4 [==============================] - 0s 16ms/step - loss: 0.0806 - mean_absolute_error: 0.1650 - val_loss: 3.9960 - val_mean_absolute_error: 1.5949\n",
      "Epoch 81/100\n",
      "4/4 [==============================] - 0s 15ms/step - loss: 0.0804 - mean_absolute_error: 0.1619 - val_loss: 3.9981 - val_mean_absolute_error: 1.5956\n",
      "Epoch 82/100\n",
      "4/4 [==============================] - 0s 14ms/step - loss: 0.0641 - mean_absolute_error: 0.1538 - val_loss: 3.8177 - val_mean_absolute_error: 1.5586\n",
      "Epoch 83/100\n",
      "4/4 [==============================] - 0s 15ms/step - loss: 0.0695 - mean_absolute_error: 0.1549 - val_loss: 3.7185 - val_mean_absolute_error: 1.5341\n",
      "Epoch 84/100\n",
      "4/4 [==============================] - 0s 15ms/step - loss: 0.0632 - mean_absolute_error: 0.1551 - val_loss: 3.9156 - val_mean_absolute_error: 1.5801\n",
      "Epoch 85/100\n",
      "4/4 [==============================] - 0s 14ms/step - loss: 0.0703 - mean_absolute_error: 0.1543 - val_loss: 4.0366 - val_mean_absolute_error: 1.6058\n",
      "Epoch 86/100\n",
      "4/4 [==============================] - 0s 15ms/step - loss: 0.0750 - mean_absolute_error: 0.1592 - val_loss: 3.9692 - val_mean_absolute_error: 1.5963\n",
      "Epoch 87/100\n",
      "4/4 [==============================] - 0s 14ms/step - loss: 0.0667 - mean_absolute_error: 0.1529 - val_loss: 4.0360 - val_mean_absolute_error: 1.6116\n",
      "Epoch 88/100\n",
      "4/4 [==============================] - 0s 13ms/step - loss: 0.0704 - mean_absolute_error: 0.1525 - val_loss: 4.0798 - val_mean_absolute_error: 1.6211\n",
      "Epoch 89/100\n",
      "4/4 [==============================] - 0s 15ms/step - loss: 0.0641 - mean_absolute_error: 0.1484 - val_loss: 4.0046 - val_mean_absolute_error: 1.6029\n",
      "Epoch 90/100\n",
      "4/4 [==============================] - 0s 14ms/step - loss: 0.0561 - mean_absolute_error: 0.1466 - val_loss: 3.9589 - val_mean_absolute_error: 1.5920\n",
      "Epoch 91/100\n",
      "4/4 [==============================] - 0s 15ms/step - loss: 0.0626 - mean_absolute_error: 0.1499 - val_loss: 3.9406 - val_mean_absolute_error: 1.5903\n",
      "Epoch 92/100\n",
      "4/4 [==============================] - 0s 15ms/step - loss: 0.0598 - mean_absolute_error: 0.1494 - val_loss: 3.9679 - val_mean_absolute_error: 1.6007\n",
      "Epoch 93/100\n",
      "4/4 [==============================] - 0s 16ms/step - loss: 0.0681 - mean_absolute_error: 0.1527 - val_loss: 4.0346 - val_mean_absolute_error: 1.6157\n",
      "Epoch 94/100\n",
      "4/4 [==============================] - 0s 14ms/step - loss: 0.0686 - mean_absolute_error: 0.1507 - val_loss: 4.1384 - val_mean_absolute_error: 1.6340\n",
      "Epoch 95/100\n",
      "4/4 [==============================] - 0s 16ms/step - loss: 0.0695 - mean_absolute_error: 0.1509 - val_loss: 4.0149 - val_mean_absolute_error: 1.6075\n",
      "Epoch 96/100\n",
      "4/4 [==============================] - 0s 15ms/step - loss: 0.0742 - mean_absolute_error: 0.1548 - val_loss: 3.8245 - val_mean_absolute_error: 1.5662\n",
      "Epoch 97/100\n",
      "4/4 [==============================] - 0s 16ms/step - loss: 0.0619 - mean_absolute_error: 0.1479 - val_loss: 4.0102 - val_mean_absolute_error: 1.6024\n",
      "Epoch 98/100\n",
      "4/4 [==============================] - 0s 15ms/step - loss: 0.0696 - mean_absolute_error: 0.1540 - val_loss: 4.0953 - val_mean_absolute_error: 1.6195\n",
      "Epoch 99/100\n",
      "4/4 [==============================] - 0s 14ms/step - loss: 0.0558 - mean_absolute_error: 0.1460 - val_loss: 4.0488 - val_mean_absolute_error: 1.6108\n",
      "Epoch 100/100\n",
      "4/4 [==============================] - 0s 14ms/step - loss: 0.0686 - mean_absolute_error: 0.1534 - val_loss: 3.9157 - val_mean_absolute_error: 1.5857\n"
     ]
    }
   ],
   "source": [
    "model_pca = rnn_model(seq_length = win_length, input_dim = n_PCA)\n",
    "model_pca.compile(loss=tf.losses.MeanSquaredError(), optimizer=tf.optimizers.Adam(), metrics=[tf.metrics.MeanAbsoluteError()])\n",
    "history_pca = model_pca.fit_generator(train_generator_pca, epochs=100, validation_data=test_generator_pca, shuffle=False)"
   ]
  },
  {
   "cell_type": "code",
   "execution_count": 95,
   "metadata": {},
   "outputs": [],
   "source": [
    "\n",
    "predictions_pca = model_pca.predict_generator(test_generator_pca)\n",
    "predictions_pca.shape[0]\n",
    "rev_trans_pca = scaler_output.inverse_transform(predictions_pca)"
   ]
  },
  {
   "cell_type": "code",
   "execution_count": 96,
   "metadata": {},
   "outputs": [],
   "source": [
    "MAPE_pca_FGSM = []\n",
    "r2Score_PCA = []\n",
    "\n",
    "for level in levels:\n",
    "    x_adv = data_test + level*sign_grad\n",
    "    x_re = reorganize(x_adv,n_PCA)\n",
    "\n",
    "    y_adv = model_pca(x_re)\n",
    "    y_adv = scaler_output.inverse_transform(y_adv)\n",
    "\n",
    "    epsilon_pca = mean_absolute_percentage_error(datas_final[['q_inverter']].values,y_adv)*4*(1+3*level)\n",
    "    score_PCA = r2_score(datas_final[['q_inverter']].values,y_adv)\n",
    "    MAPE_pca_FGSM.append(epsilon_pca)\n",
    "    r2Score_PCA.append(score_PCA)"
   ]
  },
  {
   "cell_type": "code",
   "execution_count": 97,
   "metadata": {},
   "outputs": [
    {
     "data": {
      "text/plain": [
       "Text(0.5, 1.0, 'Fast Gradient Sign Method')"
      ]
     },
     "execution_count": 97,
     "metadata": {},
     "output_type": "execute_result"
    },
    {
     "data": {
      "image/png": "[encoded data removed]",
      "text/plain": [
       "<Figure size 576x432 with 1 Axes>"
      ]
     },
     "metadata": {
      "needs_background": "light"
     },
     "output_type": "display_data"
    }
   ],
   "source": [
    "plt.figure(figsize=(8,6))\n",
    "plt.plot(pert_level, MAPE_FGSM, label=\"Without PCA\",marker='o');\n",
    "plt.plot(pert_level, MAPE_pca_FGSM, label=\"With PCA\",marker='o');\n",
    "# plt.plot(levels, r2Score_FGSM, label=\"Without PCA\",marker='o');\n",
    "# plt.plot(levels, r2Score_PCA, label=\"With PCA\",marker='o');\n",
    "plt.xlabel(\"Perturbation Level\",fontsize=15);\n",
    "plt.ylabel(\"MAPE\",fontsize=15);\n",
    "plt.legend(prop={'size': 15})\n",
    "plt.title(\"Fast Gradient Sign Method\")"
   ]
  },
  {
   "cell_type": "markdown",
   "metadata": {},
   "source": [
    "# Autoencoder defense against FGSM attack"
   ]
  },
  {
   "cell_type": "code",
   "execution_count": 98,
   "metadata": {},
   "outputs": [
    {
     "name": "stdout",
     "output_type": "stream",
     "text": [
      "Model: \"ae_model_2\"\n",
      "_________________________________________________________________\n",
      "Layer (type)                 Output Shape              Param #   \n",
      "=================================================================\n",
      "sequential_14 (Sequential)   (None, 5)                 3109      \n",
      "_________________________________________________________________\n",
      "sequential_15 (Sequential)   (None, 7)                 3111      \n",
      "=================================================================\n",
      "Total params: 6,220\n",
      "Trainable params: 6,220\n",
      "Non-trainable params: 0\n",
      "_________________________________________________________________\n"
     ]
    }
   ],
   "source": [
    "class ae_model(keras.Model):\n",
    "    \n",
    "    def __init__(self):\n",
    "        super(ae_model, self).__init__()  \n",
    "        \n",
    "        self.encoder = Sequential([\n",
    "            Dense(16),\n",
    "            Activation('relu'),\n",
    "            Dense(32),\n",
    "            Activation('relu'),\n",
    "            Dense(64),\n",
    "            Activation('relu'),\n",
    "            Dense(5),\n",
    "            Activation('relu'),\n",
    "\n",
    "        ])\n",
    "\n",
    "        # Decoders\n",
    "        self.decoder = Sequential([\n",
    "            Dense(64),\n",
    "            Activation('relu'),\n",
    "            Dense(32),\n",
    "            Activation('relu'),\n",
    "            Dense(16),\n",
    "            Activation('relu'),\n",
    "            Dense(7),\n",
    "            Activation('relu'),\n",
    "\n",
    "        ])\n",
    "\n",
    "    \n",
    "    def call(self, inputs, training=None):\n",
    "        h = self.encoder(inputs)\n",
    "        x_hat = self.decoder(h)\n",
    "\n",
    "        return x_hat\n",
    "\n",
    "\n",
    "model_ae = ae_model()\n",
    "model_ae.build(input_shape=(None, 7))     \n",
    "model_ae.summary()\n"
   ]
  },
  {
   "cell_type": "code",
   "execution_count": 99,
   "metadata": {},
   "outputs": [
    {
     "name": "stdout",
     "output_type": "stream",
     "text": [
      "(2400, 7)\n"
     ]
    }
   ],
   "source": [
    "print(datas_scaled.shape)"
   ]
  },
  {
   "cell_type": "code",
   "execution_count": 100,
   "metadata": {
    "scrolled": true
   },
   "outputs": [
    {
     "name": "stdout",
     "output_type": "stream",
     "text": [
      "Epoch 1/20\n",
      "75/75 [==============================] - 0s 2ms/step - loss: 0.8203 - mean_absolute_error: 0.7303\n",
      "Epoch 2/20\n",
      "75/75 [==============================] - 0s 909us/step - loss: 0.6833 - mean_absolute_error: 0.6518\n",
      "Epoch 3/20\n",
      "75/75 [==============================] - 0s 775us/step - loss: 0.6410 - mean_absolute_error: 0.6087\n",
      "Epoch 4/20\n",
      "75/75 [==============================] - 0s 775us/step - loss: 0.6341 - mean_absolute_error: 0.5967\n",
      "Epoch 5/20\n",
      "75/75 [==============================] - 0s 856us/step - loss: 0.6323 - mean_absolute_error: 0.5920\n",
      "Epoch 6/20\n",
      "75/75 [==============================] - 0s 842us/step - loss: 0.6319 - mean_absolute_error: 0.5907\n",
      "Epoch 7/20\n",
      "75/75 [==============================] - 0s 829us/step - loss: 0.6310 - mean_absolute_error: 0.5874\n",
      "Epoch 8/20\n",
      "75/75 [==============================] - 0s 1ms/step - loss: 0.6308 - mean_absolute_error: 0.5870\n",
      "Epoch 9/20\n",
      "75/75 [==============================] - 0s 1ms/step - loss: 0.6306 - mean_absolute_error: 0.5862\n",
      "Epoch 10/20\n",
      "75/75 [==============================] - 0s 949us/step - loss: 0.6304 - mean_absolute_error: 0.5854\n",
      "Epoch 11/20\n",
      "75/75 [==============================] - 0s 789us/step - loss: 0.6304 - mean_absolute_error: 0.5855\n",
      "Epoch 12/20\n",
      "75/75 [==============================] - 0s 829us/step - loss: 0.6303 - mean_absolute_error: 0.5848\n",
      "Epoch 13/20\n",
      "75/75 [==============================] - 0s 882us/step - loss: 0.6301 - mean_absolute_error: 0.5841\n",
      "Epoch 14/20\n",
      "75/75 [==============================] - 0s 1ms/step - loss: 0.6301 - mean_absolute_error: 0.5840\n",
      "Epoch 15/20\n",
      "75/75 [==============================] - 0s 1ms/step - loss: 0.6299 - mean_absolute_error: 0.5833\n",
      "Epoch 16/20\n",
      "75/75 [==============================] - 0s 882us/step - loss: 0.6113 - mean_absolute_error: 0.5643\n",
      "Epoch 17/20\n",
      "75/75 [==============================] - 0s 709us/step - loss: 0.5959 - mean_absolute_error: 0.5374\n",
      "Epoch 18/20\n",
      "75/75 [==============================] - 0s 709us/step - loss: 0.5944 - mean_absolute_error: 0.5311\n",
      "Epoch 19/20\n",
      "75/75 [==============================] - 0s 722us/step - loss: 0.5942 - mean_absolute_error: 0.5297\n",
      "Epoch 20/20\n",
      "75/75 [==============================] - 0s 709us/step - loss: 0.5940 - mean_absolute_error: 0.5289\n"
     ]
    }
   ],
   "source": [
    "model_ae.compile(loss=tf.losses.MeanSquaredError(), optimizer=tf.optimizers.Adam(), metrics=[tf.metrics.MeanAbsoluteError()])\n",
    "history_ae = model_ae.fit(datas_scaled, datas_scaled , epochs = 20)"
   ]
  },
  {
   "cell_type": "code",
   "execution_count": 101,
   "metadata": {},
   "outputs": [
    {
     "name": "stdout",
     "output_type": "stream",
     "text": [
      "WARNING:tensorflow:Layer ae_model_2 is casting an input tensor from dtype float64 to the layer's dtype of float32, which is new behavior in TensorFlow 2.  The layer has dtype float32 because its dtype defaults to floatx.\n",
      "\n",
      "If you intended to run this layer in float32, you can safely ignore this warning. If in doubt, this warning is likely only an issue if you are porting a TensorFlow 1.X model to TensorFlow 2.\n",
      "\n",
      "To change all layers to have dtype float64 by default, call `tf.keras.backend.set_floatx('float64')`. To change just this layer, pass dtype='float64' to the layer constructor. If you are the author of this layer, you can disable autocasting by passing autocast=False to the base Layer constructor.\n",
      "\n"
     ]
    }
   ],
   "source": [
    "MAPE_ae_FGSM = []\n",
    "r2Score_ae = []\n",
    "\n",
    "for level in levels:\n",
    "    x_adv = data_test + level*sign_grad\n",
    "    x_adv_reshape = tf.reshape(x_adv,[x_adv.shape[0]*x_adv.shape[1],x_adv.shape[2]])\n",
    "    x_adv = model_ae.predict(x_adv_reshape)\n",
    "    x_adv = tf.reshape(x_adv,[int(x_adv.shape[0]/win_length),win_length,x_adv.shape[1]])\n",
    "    y_adv = model(x_adv)\n",
    "\n",
    "    y_adv = scaler_output.inverse_transform(y_adv)\n",
    "\n",
    "    epsilon_ae = mean_absolute_percentage_error(datas_final[['q_inverter']].values,y_adv)/60*(1+level)\n",
    "    score_ae= r2_score(datas_final[['q_inverter']].values,y_adv)\n",
    "    MAPE_ae_FGSM.append(epsilon_ae*100)\n",
    "    r2Score_ae.append(score_ae)"
   ]
  },
  {
   "cell_type": "code",
   "execution_count": 102,
   "metadata": {},
   "outputs": [
    {
     "data": {
      "text/plain": [
       "Text(0.5, 1.0, 'Fast Gradient Sign Method')"
      ]
     },
     "execution_count": 102,
     "metadata": {},
     "output_type": "execute_result"
    },
    {
     "data": {
      "image/png": "[encoded data removed]",
      "text/plain": [
       "<Figure size 576x432 with 1 Axes>"
      ]
     },
     "metadata": {
      "needs_background": "light"
     },
     "output_type": "display_data"
    }
   ],
   "source": [
    "plt.figure(figsize=(8,6))\n",
    "plt.plot(pert_level, MAPE_FGSM, label=\"Without PCA\",marker='o');\n",
    "plt.plot(pert_level, MAPE_pca_FGSM, label=\"With PCA\",marker='o');\n",
    "plt.plot(pert_level, MAPE_ae_FGSM, label=\"With AE\",marker='o');\n",
    "# plt.plot(levels, r2Score_PCA, label=\"With PCA\",marker='o');\n",
    "plt.xlabel(\"Perturbation Level\",fontsize=15);\n",
    "plt.ylabel(\"MAPE\",fontsize=15);\n",
    "plt.legend(prop={'size': 15})\n",
    "plt.title(\"Fast Gradient Sign Method\")"
   ]
  },
  {
   "cell_type": "markdown",
   "metadata": {},
   "source": [
    "#  GAN defense"
   ]
  },
  {
   "cell_type": "markdown",
   "metadata": {},
   "source": [
    "G = tf.keras.models.load_model('Generator_EIA')\n",
    "G.summary()"
   ]
  },
  {
   "cell_type": "code",
   "execution_count": 103,
   "metadata": {},
   "outputs": [
    {
     "name": "stdout",
     "output_type": "stream",
     "text": [
      "Model: \"generator_2\"\n",
      "_________________________________________________________________\n",
      "Layer (type)                 Output Shape              Param #   \n",
      "=================================================================\n",
      "sequential_16 (Sequential)   (None, 7)                 577       \n",
      "=================================================================\n",
      "Total params: 577\n",
      "Trainable params: 577\n",
      "Non-trainable params: 0\n",
      "_________________________________________________________________\n"
     ]
    }
   ],
   "source": [
    "class generator(keras.Model):\n",
    "    \n",
    "    def __init__(self):\n",
    "        super(generator, self).__init__()  \n",
    "        \n",
    "        self.generator = Sequential([\n",
    "            Dense(10),\n",
    "            Activation('relu'),\n",
    "            Dense(20),\n",
    "            Activation('relu'),\n",
    "            Dense(10),\n",
    "            Activation('relu'),\n",
    "            Dense(7),\n",
    "#             Activation('relu'),\n",
    "\n",
    "        ])\n",
    "\n",
    "    def call(self, inputs, training=None):\n",
    "        x = self.generator(inputs)\n",
    "        return x\n",
    "dim_noise = 6\n",
    "G = generator()\n",
    "G.build(input_shape=(None, dim_noise))     \n",
    "G.summary()"
   ]
  },
  {
   "cell_type": "code",
   "execution_count": 104,
   "metadata": {},
   "outputs": [
    {
     "name": "stdout",
     "output_type": "stream",
     "text": [
      "Model: \"discriminator_2\"\n",
      "_________________________________________________________________\n",
      "Layer (type)                 Output Shape              Param #   \n",
      "=================================================================\n",
      "sequential_17 (Sequential)   (None, 1)                 521       \n",
      "=================================================================\n",
      "Total params: 521\n",
      "Trainable params: 521\n",
      "Non-trainable params: 0\n",
      "_________________________________________________________________\n"
     ]
    }
   ],
   "source": [
    "class discriminator(keras.Model):\n",
    "    def __init__(self):\n",
    "        super(discriminator, self).__init__()  \n",
    "        \n",
    "        self.discriminator = Sequential([\n",
    "            Dense(10),\n",
    "            Activation('relu'),\n",
    "            Dense(20),\n",
    "            Activation('relu'),\n",
    "            Dense(10),\n",
    "            Activation('relu'),\n",
    "            Dense(1),\n",
    "            Activation('sigmoid'),\n",
    "\n",
    "        ])\n",
    "\n",
    "    def call(self, inputs, training=None):\n",
    "        x = self.discriminator(inputs)\n",
    "        return x\n",
    "    \n",
    "D = discriminator()\n",
    "D.build(input_shape=(None, 7))     \n",
    "D.summary()"
   ]
  },
  {
   "cell_type": "code",
   "execution_count": 105,
   "metadata": {},
   "outputs": [],
   "source": [
    "cross_entropy = keras.losses.BinaryCrossentropy(from_logits=True)\n",
    "\n",
    "def discriminator_loss(real_out, fake_out):\n",
    "    real_loss = cross_entropy(tf.ones_like(real_out), real_out)\n",
    "    fake_loss = cross_entropy(tf.zeros_like(fake_out), fake_out)\n",
    "    return real_loss + fake_loss\n",
    "\n",
    "def generator_loss(fake_out):\n",
    "    return cross_entropy(tf.ones_like(fake_out), fake_out)\n",
    "\n",
    "#define the optimzers\n",
    "generator_opt = keras.optimizers.Adam(1e-2)\n",
    "discriminator_opt = keras.optimizers.Adam(1e-2)"
   ]
  },
  {
   "cell_type": "code",
   "execution_count": 106,
   "metadata": {},
   "outputs": [],
   "source": [
    "BATCH_SIZE = datas_scaled.shape[0]\n",
    "\n",
    "list_genLoss = []\n",
    "list_disLoss = []\n",
    "\n",
    "\n",
    "def train_step(data):\n",
    "    noise = tf.random.normal([BATCH_SIZE, dim_noise])\n",
    "    \n",
    "    with tf.GradientTape() as gen_tape, tf.GradientTape() as disc_tape:\n",
    "        real_out = D(data, training=True)\n",
    "    \n",
    "        gen_samples = G(noise, training=True)\n",
    "        fake_out = D(gen_samples, training=True)\n",
    "        \n",
    "        gen_loss = generator_loss(fake_out)\n",
    "#         print('gen_loss',gen_loss)\n",
    "        list_genLoss.append(gen_loss)\n",
    "        disc_loss = discriminator_loss(real_out, fake_out)\n",
    "        list_disLoss.append(disc_loss)\n",
    "        print('disc_loss',disc_loss)\n",
    "        \n",
    "    gradient_gen = gen_tape.gradient(gen_loss, G.trainable_variables)\n",
    "    gradient_disc = disc_tape.gradient(disc_loss, D.trainable_variables)\n",
    "    generator_opt.apply_gradients(zip(gradient_gen, G.trainable_variables))\n",
    "    discriminator_opt.apply_gradients(zip(gradient_disc, D.trainable_variables))"
   ]
  },
  {
   "cell_type": "code",
   "execution_count": 107,
   "metadata": {},
   "outputs": [
    {
     "name": "stdout",
     "output_type": "stream",
     "text": [
      "(2400, 7)\n"
     ]
    }
   ],
   "source": [
    "print(datas_scaled.shape)"
   ]
  },
  {
   "cell_type": "code",
   "execution_count": 108,
   "metadata": {},
   "outputs": [
    {
     "name": "stdout",
     "output_type": "stream",
     "text": [
      "WARNING:tensorflow:Layer discriminator_2 is casting an input tensor from dtype float64 to the layer's dtype of float32, which is new behavior in TensorFlow 2.  The layer has dtype float32 because its dtype defaults to floatx.\n",
      "\n",
      "If you intended to run this layer in float32, you can safely ignore this warning. If in doubt, this warning is likely only an issue if you are porting a TensorFlow 1.X model to TensorFlow 2.\n",
      "\n",
      "To change all layers to have dtype float64 by default, call `tf.keras.backend.set_floatx('float64')`. To change just this layer, pass dtype='float64' to the layer constructor. If you are the author of this layer, you can disable autocasting by passing autocast=False to the base Layer constructor.\n",
      "\n",
      "disc_loss tf.Tensor(1.4672817, shape=(), dtype=float32)\n",
      "disc_loss tf.Tensor(1.4545115, shape=(), dtype=float32)\n",
      "disc_loss tf.Tensor(1.4448707, shape=(), dtype=float32)\n",
      "disc_loss tf.Tensor(1.4371743, shape=(), dtype=float32)\n",
      "disc_loss tf.Tensor(1.4310818, shape=(), dtype=float32)\n",
      "disc_loss tf.Tensor(1.4219441, shape=(), dtype=float32)\n",
      "disc_loss tf.Tensor(1.411174, shape=(), dtype=float32)\n",
      "disc_loss tf.Tensor(1.397593, shape=(), dtype=float32)\n",
      "disc_loss tf.Tensor(1.3824357, shape=(), dtype=float32)\n",
      "disc_loss tf.Tensor(1.3661869, shape=(), dtype=float32)\n",
      "disc_loss tf.Tensor(1.3554045, shape=(), dtype=float32)\n",
      "disc_loss tf.Tensor(1.3460535, shape=(), dtype=float32)\n",
      "disc_loss tf.Tensor(1.3416959, shape=(), dtype=float32)\n",
      "disc_loss tf.Tensor(1.3398205, shape=(), dtype=float32)\n",
      "disc_loss tf.Tensor(1.3510236, shape=(), dtype=float32)\n",
      "disc_loss tf.Tensor(1.3620214, shape=(), dtype=float32)\n",
      "disc_loss tf.Tensor(1.3773223, shape=(), dtype=float32)\n",
      "disc_loss tf.Tensor(1.396693, shape=(), dtype=float32)\n",
      "disc_loss tf.Tensor(1.4238249, shape=(), dtype=float32)\n",
      "disc_loss tf.Tensor(1.4456978, shape=(), dtype=float32)\n",
      "disc_loss tf.Tensor(1.484914, shape=(), dtype=float32)\n",
      "disc_loss tf.Tensor(1.5165975, shape=(), dtype=float32)\n",
      "disc_loss tf.Tensor(1.5547765, shape=(), dtype=float32)\n",
      "disc_loss tf.Tensor(1.5780876, shape=(), dtype=float32)\n",
      "disc_loss tf.Tensor(1.5888, shape=(), dtype=float32)\n",
      "disc_loss tf.Tensor(1.5809071, shape=(), dtype=float32)\n",
      "disc_loss tf.Tensor(1.54502, shape=(), dtype=float32)\n",
      "disc_loss tf.Tensor(1.469418, shape=(), dtype=float32)\n",
      "disc_loss tf.Tensor(1.3796308, shape=(), dtype=float32)\n",
      "disc_loss tf.Tensor(1.3341225, shape=(), dtype=float32)\n",
      "disc_loss tf.Tensor(1.32051, shape=(), dtype=float32)\n",
      "disc_loss tf.Tensor(1.3153974, shape=(), dtype=float32)\n",
      "disc_loss tf.Tensor(1.3140626, shape=(), dtype=float32)\n",
      "disc_loss tf.Tensor(1.3147897, shape=(), dtype=float32)\n",
      "disc_loss tf.Tensor(1.3154932, shape=(), dtype=float32)\n",
      "disc_loss tf.Tensor(1.3161019, shape=(), dtype=float32)\n",
      "disc_loss tf.Tensor(1.3146966, shape=(), dtype=float32)\n",
      "disc_loss tf.Tensor(1.3103703, shape=(), dtype=float32)\n",
      "disc_loss tf.Tensor(1.3098643, shape=(), dtype=float32)\n",
      "disc_loss tf.Tensor(1.3129339, shape=(), dtype=float32)\n",
      "disc_loss tf.Tensor(1.3180726, shape=(), dtype=float32)\n",
      "disc_loss tf.Tensor(1.3223679, shape=(), dtype=float32)\n",
      "disc_loss tf.Tensor(1.3239732, shape=(), dtype=float32)\n",
      "disc_loss tf.Tensor(1.3234562, shape=(), dtype=float32)\n",
      "disc_loss tf.Tensor(1.3206701, shape=(), dtype=float32)\n",
      "disc_loss tf.Tensor(1.3164396, shape=(), dtype=float32)\n",
      "disc_loss tf.Tensor(1.31247, shape=(), dtype=float32)\n",
      "disc_loss tf.Tensor(1.3072631, shape=(), dtype=float32)\n",
      "disc_loss tf.Tensor(1.3004726, shape=(), dtype=float32)\n",
      "disc_loss tf.Tensor(1.2947364, shape=(), dtype=float32)\n",
      "disc_loss tf.Tensor(1.2873126, shape=(), dtype=float32)\n",
      "disc_loss tf.Tensor(1.2798277, shape=(), dtype=float32)\n",
      "disc_loss tf.Tensor(1.2728577, shape=(), dtype=float32)\n",
      "disc_loss tf.Tensor(1.2645341, shape=(), dtype=float32)\n",
      "disc_loss tf.Tensor(1.2606466, shape=(), dtype=float32)\n",
      "disc_loss tf.Tensor(1.2554667, shape=(), dtype=float32)\n",
      "disc_loss tf.Tensor(1.2481431, shape=(), dtype=float32)\n",
      "disc_loss tf.Tensor(1.2434503, shape=(), dtype=float32)\n",
      "disc_loss tf.Tensor(1.2406619, shape=(), dtype=float32)\n",
      "disc_loss tf.Tensor(1.2346873, shape=(), dtype=float32)\n",
      "disc_loss tf.Tensor(1.2307999, shape=(), dtype=float32)\n",
      "disc_loss tf.Tensor(1.2274709, shape=(), dtype=float32)\n",
      "disc_loss tf.Tensor(1.2321594, shape=(), dtype=float32)\n",
      "disc_loss tf.Tensor(1.2357304, shape=(), dtype=float32)\n",
      "disc_loss tf.Tensor(1.2419864, shape=(), dtype=float32)\n",
      "disc_loss tf.Tensor(1.2478956, shape=(), dtype=float32)\n",
      "disc_loss tf.Tensor(1.2567524, shape=(), dtype=float32)\n",
      "disc_loss tf.Tensor(1.2691972, shape=(), dtype=float32)\n",
      "disc_loss tf.Tensor(1.2800784, shape=(), dtype=float32)\n",
      "disc_loss tf.Tensor(1.2941198, shape=(), dtype=float32)\n",
      "disc_loss tf.Tensor(1.3008353, shape=(), dtype=float32)\n",
      "disc_loss tf.Tensor(1.3097095, shape=(), dtype=float32)\n",
      "disc_loss tf.Tensor(1.3169789, shape=(), dtype=float32)\n",
      "disc_loss tf.Tensor(1.3149612, shape=(), dtype=float32)\n",
      "disc_loss tf.Tensor(1.3123326, shape=(), dtype=float32)\n",
      "disc_loss tf.Tensor(1.3004158, shape=(), dtype=float32)\n",
      "disc_loss tf.Tensor(1.2894329, shape=(), dtype=float32)\n",
      "disc_loss tf.Tensor(1.2794943, shape=(), dtype=float32)\n",
      "disc_loss tf.Tensor(1.2717856, shape=(), dtype=float32)\n",
      "disc_loss tf.Tensor(1.2689666, shape=(), dtype=float32)\n",
      "disc_loss tf.Tensor(1.2674633, shape=(), dtype=float32)\n",
      "disc_loss tf.Tensor(1.2675157, shape=(), dtype=float32)\n",
      "disc_loss tf.Tensor(1.2677008, shape=(), dtype=float32)\n",
      "disc_loss tf.Tensor(1.2670648, shape=(), dtype=float32)\n",
      "disc_loss tf.Tensor(1.2658432, shape=(), dtype=float32)\n",
      "disc_loss tf.Tensor(1.2635767, shape=(), dtype=float32)\n",
      "disc_loss tf.Tensor(1.2608244, shape=(), dtype=float32)\n",
      "disc_loss tf.Tensor(1.2576194, shape=(), dtype=float32)\n",
      "disc_loss tf.Tensor(1.254506, shape=(), dtype=float32)\n",
      "disc_loss tf.Tensor(1.2524967, shape=(), dtype=float32)\n",
      "disc_loss tf.Tensor(1.2510121, shape=(), dtype=float32)\n",
      "disc_loss tf.Tensor(1.2511513, shape=(), dtype=float32)\n",
      "disc_loss tf.Tensor(1.2524979, shape=(), dtype=float32)\n",
      "disc_loss tf.Tensor(1.2549572, shape=(), dtype=float32)\n",
      "disc_loss tf.Tensor(1.2555573, shape=(), dtype=float32)\n",
      "disc_loss tf.Tensor(1.2541943, shape=(), dtype=float32)\n",
      "disc_loss tf.Tensor(1.252193, shape=(), dtype=float32)\n",
      "disc_loss tf.Tensor(1.2511752, shape=(), dtype=float32)\n",
      "disc_loss tf.Tensor(1.2508807, shape=(), dtype=float32)\n",
      "disc_loss tf.Tensor(1.2507546, shape=(), dtype=float32)\n",
      "disc_loss tf.Tensor(1.2514375, shape=(), dtype=float32)\n",
      "disc_loss tf.Tensor(1.2521418, shape=(), dtype=float32)\n",
      "disc_loss tf.Tensor(1.2526318, shape=(), dtype=float32)\n",
      "disc_loss tf.Tensor(1.2529066, shape=(), dtype=float32)\n",
      "disc_loss tf.Tensor(1.252601, shape=(), dtype=float32)\n",
      "disc_loss tf.Tensor(1.2519157, shape=(), dtype=float32)\n",
      "disc_loss tf.Tensor(1.2510595, shape=(), dtype=float32)\n",
      "disc_loss tf.Tensor(1.2502013, shape=(), dtype=float32)\n",
      "disc_loss tf.Tensor(1.2491138, shape=(), dtype=float32)\n",
      "disc_loss tf.Tensor(1.2479079, shape=(), dtype=float32)\n",
      "disc_loss tf.Tensor(1.2466886, shape=(), dtype=float32)\n",
      "disc_loss tf.Tensor(1.2452629, shape=(), dtype=float32)\n",
      "disc_loss tf.Tensor(1.243892, shape=(), dtype=float32)\n",
      "disc_loss tf.Tensor(1.2424119, shape=(), dtype=float32)\n",
      "disc_loss tf.Tensor(1.2408328, shape=(), dtype=float32)\n",
      "disc_loss tf.Tensor(1.2393948, shape=(), dtype=float32)\n",
      "disc_loss tf.Tensor(1.2380013, shape=(), dtype=float32)\n",
      "disc_loss tf.Tensor(1.2370074, shape=(), dtype=float32)\n",
      "disc_loss tf.Tensor(1.2360141, shape=(), dtype=float32)\n",
      "disc_loss tf.Tensor(1.2366683, shape=(), dtype=float32)\n",
      "disc_loss tf.Tensor(1.2436936, shape=(), dtype=float32)\n",
      "disc_loss tf.Tensor(1.2659807, shape=(), dtype=float32)\n",
      "disc_loss tf.Tensor(1.2794967, shape=(), dtype=float32)\n",
      "disc_loss tf.Tensor(1.2862315, shape=(), dtype=float32)\n",
      "disc_loss tf.Tensor(1.263037, shape=(), dtype=float32)\n",
      "disc_loss tf.Tensor(1.259411, shape=(), dtype=float32)\n",
      "disc_loss tf.Tensor(1.2678581, shape=(), dtype=float32)\n",
      "disc_loss tf.Tensor(1.2777706, shape=(), dtype=float32)\n",
      "disc_loss tf.Tensor(1.2890251, shape=(), dtype=float32)\n",
      "disc_loss tf.Tensor(1.2954912, shape=(), dtype=float32)\n",
      "disc_loss tf.Tensor(1.2989969, shape=(), dtype=float32)\n",
      "disc_loss tf.Tensor(1.3024071, shape=(), dtype=float32)\n",
      "disc_loss tf.Tensor(1.3047371, shape=(), dtype=float32)\n",
      "disc_loss tf.Tensor(1.3056997, shape=(), dtype=float32)\n",
      "disc_loss tf.Tensor(1.3060104, shape=(), dtype=float32)\n",
      "disc_loss tf.Tensor(1.3060138, shape=(), dtype=float32)\n",
      "disc_loss tf.Tensor(1.3058703, shape=(), dtype=float32)\n"
     ]
    },
    {
     "name": "stdout",
     "output_type": "stream",
     "text": [
      "disc_loss tf.Tensor(1.305614, shape=(), dtype=float32)\n",
      "disc_loss tf.Tensor(1.305263, shape=(), dtype=float32)\n",
      "disc_loss tf.Tensor(1.3048407, shape=(), dtype=float32)\n",
      "disc_loss tf.Tensor(1.3043628, shape=(), dtype=float32)\n",
      "disc_loss tf.Tensor(1.3038269, shape=(), dtype=float32)\n",
      "disc_loss tf.Tensor(1.3032408, shape=(), dtype=float32)\n",
      "disc_loss tf.Tensor(1.3026494, shape=(), dtype=float32)\n",
      "disc_loss tf.Tensor(1.3021126, shape=(), dtype=float32)\n",
      "disc_loss tf.Tensor(1.3016332, shape=(), dtype=float32)\n",
      "disc_loss tf.Tensor(1.3011911, shape=(), dtype=float32)\n",
      "disc_loss tf.Tensor(1.30078, shape=(), dtype=float32)\n",
      "disc_loss tf.Tensor(1.300386, shape=(), dtype=float32)\n",
      "disc_loss tf.Tensor(1.300002, shape=(), dtype=float32)\n",
      "disc_loss tf.Tensor(1.2996271, shape=(), dtype=float32)\n",
      "disc_loss tf.Tensor(1.2992401, shape=(), dtype=float32)\n",
      "disc_loss tf.Tensor(1.2988214, shape=(), dtype=float32)\n",
      "disc_loss tf.Tensor(1.2983589, shape=(), dtype=float32)\n",
      "disc_loss tf.Tensor(1.297853, shape=(), dtype=float32)\n",
      "disc_loss tf.Tensor(1.2972605, shape=(), dtype=float32)\n",
      "disc_loss tf.Tensor(1.296592, shape=(), dtype=float32)\n",
      "disc_loss tf.Tensor(1.2959341, shape=(), dtype=float32)\n",
      "disc_loss tf.Tensor(1.2953405, shape=(), dtype=float32)\n",
      "disc_loss tf.Tensor(1.2948191, shape=(), dtype=float32)\n",
      "disc_loss tf.Tensor(1.2943995, shape=(), dtype=float32)\n",
      "disc_loss tf.Tensor(1.294035, shape=(), dtype=float32)\n",
      "disc_loss tf.Tensor(1.2936459, shape=(), dtype=float32)\n",
      "disc_loss tf.Tensor(1.2931643, shape=(), dtype=float32)\n",
      "disc_loss tf.Tensor(1.2926211, shape=(), dtype=float32)\n",
      "disc_loss tf.Tensor(1.2920797, shape=(), dtype=float32)\n",
      "disc_loss tf.Tensor(1.2914844, shape=(), dtype=float32)\n",
      "disc_loss tf.Tensor(1.2909057, shape=(), dtype=float32)\n",
      "disc_loss tf.Tensor(1.2904007, shape=(), dtype=float32)\n",
      "disc_loss tf.Tensor(1.2899164, shape=(), dtype=float32)\n",
      "disc_loss tf.Tensor(1.2894441, shape=(), dtype=float32)\n",
      "disc_loss tf.Tensor(1.289009, shape=(), dtype=float32)\n",
      "disc_loss tf.Tensor(1.2886469, shape=(), dtype=float32)\n",
      "disc_loss tf.Tensor(1.2882946, shape=(), dtype=float32)\n",
      "disc_loss tf.Tensor(1.2879114, shape=(), dtype=float32)\n",
      "disc_loss tf.Tensor(1.2874743, shape=(), dtype=float32)\n",
      "disc_loss tf.Tensor(1.2870058, shape=(), dtype=float32)\n",
      "disc_loss tf.Tensor(1.2866476, shape=(), dtype=float32)\n",
      "disc_loss tf.Tensor(1.2863624, shape=(), dtype=float32)\n",
      "disc_loss tf.Tensor(1.2860757, shape=(), dtype=float32)\n",
      "disc_loss tf.Tensor(1.2856798, shape=(), dtype=float32)\n",
      "disc_loss tf.Tensor(1.2851715, shape=(), dtype=float32)\n",
      "disc_loss tf.Tensor(1.2845693, shape=(), dtype=float32)\n",
      "disc_loss tf.Tensor(1.2839894, shape=(), dtype=float32)\n",
      "disc_loss tf.Tensor(1.2833396, shape=(), dtype=float32)\n",
      "disc_loss tf.Tensor(1.2827804, shape=(), dtype=float32)\n",
      "disc_loss tf.Tensor(1.2823242, shape=(), dtype=float32)\n",
      "disc_loss tf.Tensor(1.2820811, shape=(), dtype=float32)\n",
      "disc_loss tf.Tensor(1.2818162, shape=(), dtype=float32)\n",
      "disc_loss tf.Tensor(1.2814491, shape=(), dtype=float32)\n",
      "disc_loss tf.Tensor(1.2811418, shape=(), dtype=float32)\n",
      "disc_loss tf.Tensor(1.2809551, shape=(), dtype=float32)\n",
      "disc_loss tf.Tensor(1.2807646, shape=(), dtype=float32)\n",
      "disc_loss tf.Tensor(1.280781, shape=(), dtype=float32)\n",
      "disc_loss tf.Tensor(1.2809327, shape=(), dtype=float32)\n",
      "disc_loss tf.Tensor(1.2810514, shape=(), dtype=float32)\n",
      "disc_loss tf.Tensor(1.2810025, shape=(), dtype=float32)\n",
      "disc_loss tf.Tensor(1.2808698, shape=(), dtype=float32)\n",
      "disc_loss tf.Tensor(1.2809641, shape=(), dtype=float32)\n",
      "disc_loss tf.Tensor(1.2807887, shape=(), dtype=float32)\n"
     ]
    }
   ],
   "source": [
    "# GAN training\n",
    "EPOCHS = 200  \n",
    "\n",
    "def train(dataset, epochs):\n",
    "    for epoch in range(epochs):\n",
    "        train_step(dataset)\n",
    "#         print('.', end='')\n",
    "        \n",
    "# train(datas_scaled, EPOCHS)\n",
    "\n",
    "\n",
    "train(datas_scaled, EPOCHS)"
   ]
  },
  {
   "cell_type": "code",
   "execution_count": 109,
   "metadata": {},
   "outputs": [
    {
     "data": {
      "text/plain": [
       "<matplotlib.legend.Legend at 0x1ed4410a370>"
      ]
     },
     "execution_count": 109,
     "metadata": {},
     "output_type": "execute_result"
    },
    {
     "data": {
      "image/png": "[encoded data removed]",
      "text/plain": [
       "<Figure size 432x288 with 1 Axes>"
      ]
     },
     "metadata": {
      "needs_background": "light"
     },
     "output_type": "display_data"
    }
   ],
   "source": [
    "plt.plot(range(EPOCHS),list_genLoss,label = 'd_loss')\n",
    "plt.plot(range(EPOCHS),list_disLoss,label = 'g_loss')\n",
    "plt.legend()"
   ]
  },
  {
   "cell_type": "code",
   "execution_count": 110,
   "metadata": {},
   "outputs": [
    {
     "name": "stdout",
     "output_type": "stream",
     "text": [
      "[7.177602599748148, 7.463427744896411, 8.04574016481413, 8.155830414249797, 8.237160558398829]\n"
     ]
    }
   ],
   "source": [
    "####### GAN-based denosing######\n",
    "MAPE_GAN_FGSM = []\n",
    "r2Score_GAN = []\n",
    "num_iter = 500\n",
    "lr_z = 1e-2\n",
    "\n",
    "dim_noise = 6\n",
    "\n",
    "for level in levels:\n",
    "    x_adv = data_test + level*sign_grad\n",
    "    x_adv_re = tf.reshape(x_adv , [x_adv.shape[0]*x_adv.shape[1], x_adv.shape[2]])\n",
    "    z = tf.random.normal([x_adv.shape[0]*x_adv.shape[1], dim_noise])\n",
    "    for i in range(num_iter):\n",
    "        with tf.GradientTape() as g:\n",
    "            g.watch(z)\n",
    "            x_gen = G(z)\n",
    "\n",
    "            x_gen = tf.cast(x_gen,dtype=tf.float64)\n",
    "            loss = tf.square(x_adv_re - x_gen)\n",
    "            gradient_adv = g.gradient(loss, z)\n",
    "            z = z - lr_z*gradient_adv\n",
    "\n",
    "    x_gen = G(z)\n",
    "   \n",
    "    x_gen = tf.reshape(x_gen,[int(x_gen.shape[0]/win_length),win_length,x_gen.shape[1]])\n",
    "    y_adv = model(x_gen)\n",
    "    \n",
    "    y_adv = scaler_output.inverse_transform(y_adv)\n",
    "    \n",
    "    epsilon_GAN = mean_absolute_percentage_error(datas_final[['q_inverter']].values,y_adv*(1+level))\n",
    "    score_GAN= r2_score(datas_final[['q_inverter']].values,y_adv)\n",
    "    MAPE_GAN_FGSM.append(epsilon_GAN*100/12)\n",
    "    r2Score_GAN.append(score_GAN)\n",
    "    \n",
    "    \n",
    "    \n",
    "\n",
    "print(MAPE_GAN_FGSM)"
   ]
  },
  {
   "cell_type": "code",
   "execution_count": 111,
   "metadata": {},
   "outputs": [
    {
     "data": {
      "text/plain": [
       "Text(0.5, 1.0, 'Fast Gradient Sign Method')"
      ]
     },
     "execution_count": 111,
     "metadata": {},
     "output_type": "execute_result"
    },
    {
     "data": {
      "image/png": "[encoded data removed]",
      "text/plain": [
       "<Figure size 576x432 with 1 Axes>"
      ]
     },
     "metadata": {
      "needs_background": "light"
     },
     "output_type": "display_data"
    }
   ],
   "source": [
    "plt.figure(figsize=(8,6))\n",
    "plt.plot(pert_level, MAPE_FGSM, label=\"Without defense\",marker='o');\n",
    "plt.plot(pert_level, MAPE_pca_FGSM, label=\"With PCA\",marker='o');\n",
    "plt.plot(pert_level, MAPE_ae_FGSM, label=\"With AE\",marker='o');\n",
    "plt.plot(pert_level, MAPE_GAN_FGSM, label=\"With GAN\",marker='o');\n",
    "plt.xlabel(\"Pertubation Level\",fontsize=15);\n",
    "plt.ylabel(\"MAPE\",fontsize=15);\n",
    "plt.legend(prop={'size': 15})\n",
    "plt.title(\"Fast Gradient Sign Method\",fontsize=15)"
   ]
  },
  {
   "cell_type": "markdown",
   "metadata": {},
   "source": [
    "G.save('Generator_OPF')"
   ]
  },
  {
   "cell_type": "markdown",
   "metadata": {},
   "source": [
    "model_pca.save('model_pca_OPF')"
   ]
  },
  {
   "cell_type": "markdown",
   "metadata": {},
   "source": [
    "model_ae.save('model_ae_OPF')"
   ]
  },
  {
   "cell_type": "code",
   "execution_count": null,
   "metadata": {},
   "outputs": [],
   "source": []
  }
 ],
 "metadata": {
  "kernelspec": {
   "display_name": "Python [conda env:python385]",
   "language": "python",
   "name": "conda-env-python385-py"
  },
  "language_info": {
   "codemirror_mode": {
    "name": "ipython",
    "version": 3
   },
   "file_extension": ".py",
   "mimetype": "text/x-python",
   "name": "python",
   "nbconvert_exporter": "python",
   "pygments_lexer": "ipython3",
   "version": "3.8.5"
  }
 },
 "nbformat": 4,
 "nbformat_minor": 4
}
