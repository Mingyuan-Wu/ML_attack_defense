{
 "cells": [
  {
   "cell_type": "code",
   "execution_count": 1,
   "metadata": {},
   "outputs": [],
   "source": [
    "import tensorflow as tf\n",
    "import tensorflow.keras as keras\n",
    "from tensorflow.keras.models import Sequential\n",
    "from tensorflow.keras.layers import Dense, Dropout, LSTM, SimpleRNN, Activation\n",
    "import numpy as np\n",
    "import pandas as pd\n",
    "import matplotlib.pyplot as plt\n",
    "\n",
    "from keras.preprocessing.sequence import TimeseriesGenerator\n",
    "from sklearn.model_selection import train_test_split\n",
    "from sklearn.preprocessing import StandardScaler, MinMaxScaler\n",
    "\n",
    "from sklearn.metrics import r2_score\n",
    "from sklearn.metrics import mean_absolute_percentage_error\n",
    "\n",
    "from sklearn.decomposition import PCA"
   ]
  },
  {
   "cell_type": "code",
   "execution_count": 2,
   "metadata": {},
   "outputs": [],
   "source": [
    "path = \"F:\\JupyterNotebook_Dir\\REAM _Lab\\EIA_RNN\\Region_CAL.xlsx\"\n",
    "df = pd.read_excel(path)       #read data\n",
    "\n",
    "open_day='2020-01-01'\n",
    "close_day='2020-12-31'\n",
    "con1=df['Local date']>=open_day\n",
    "con2=df['Local date']<=close_day\n",
    "df_2020 = df[con1&con2]"
   ]
  },
  {
   "cell_type": "code",
   "execution_count": 3,
   "metadata": {},
   "outputs": [],
   "source": [
    "data_TI = df_2020[\"TI\"].values;\n",
    "data_COL = df_2020[\"NG: COL\"].values      #access columns\n",
    "data_NG = df_2020[\"NG: NG\"].values;\n",
    "data_NUC = df_2020[\"NG: NUC\"].values;\n",
    "data_OIL = df_2020[\"NG: OIL\"].values\n",
    "data_WAT = df_2020[\"NG: WAT\"].values\n",
    "data_SUN = df_2020[\"NG: SUN\"].values;\n",
    "data_WND = df_2020[\"NG: WND\"].values;\n",
    "data_OTH = df_2020[\"NG: OTH\"].values\n",
    "data_Trade = df_2020[\"Sum (Trade)\"].values\n",
    "\n",
    "\n",
    "data_D = df_2020[\"D\"].values\n",
    "\n",
    "data=np.vstack((data_TI,data_COL,data_NG,data_NUC,data_OIL,data_WAT,data_SUN,data_WND,data_OTH,data_Trade)).T"
   ]
  },
  {
   "cell_type": "code",
   "execution_count": 4,
   "metadata": {},
   "outputs": [],
   "source": [
    "def rnn_model(seq_length, input_dim):\n",
    "    model = Sequential()\n",
    "#     model.add(tf.keras.layers.LSTM(128, input_shape= (seq_length, input_dim), return_sequences=False))\n",
    "    model.add((SimpleRNN(128, input_shape=(seq_length, input_dim))))\n",
    "    model.add(tf.keras.layers.LeakyReLU(alpha=0.5))\n",
    "    model.add(Dropout(0.2))\n",
    "    \n",
    "    model.add(Dense(32))\n",
    "    model.add(Activation('relu'))\n",
    "    model.add(Dense(1))\n",
    "    return model"
   ]
  },
  {
   "cell_type": "code",
   "execution_count": 5,
   "metadata": {},
   "outputs": [],
   "source": [
    "scaler_input = MinMaxScaler()\n",
    "scaler_output = MinMaxScaler()\n",
    "\n",
    "datas_scaled = scaler_input.fit_transform(data)\n",
    "features = datas_scaled\n",
    "\n",
    "target = data_D\n",
    "target = target.reshape(-1,1)\n",
    "target = scaler_output.fit_transform(target)\n",
    "\n",
    "\n",
    "\n",
    "x_train, x_test, y_train, y_test = train_test_split(features, target, test_size=0.2, random_state=123, shuffle=False)\n",
    "x_train.shape\n",
    "win_length = 10\n",
    "batch_size = 2000\n",
    "num_features = 10\n",
    "train_generator = tf.keras.preprocessing.sequence.TimeseriesGenerator(x_train, y_train, length=win_length, sampling_rate=1, batch_size=batch_size)\n",
    "test_generator = tf.keras.preprocessing.sequence.TimeseriesGenerator(x_test, y_test, length=win_length, sampling_rate=1, batch_size=batch_size)"
   ]
  },
  {
   "cell_type": "code",
   "execution_count": 6,
   "metadata": {
    "scrolled": true
   },
   "outputs": [
    {
     "name": "stdout",
     "output_type": "stream",
     "text": [
      "WARNING:tensorflow:From <ipython-input-6-6c2519aaf3d6>:3: Model.fit_generator (from tensorflow.python.keras.engine.training) is deprecated and will be removed in a future version.\n",
      "Instructions for updating:\n",
      "Please use Model.fit, which supports generators.\n",
      "Epoch 1/100\n",
      "4/4 [==============================] - 1s 130ms/step - loss: 0.1214 - mean_absolute_error: 0.2748 - val_loss: 0.0107 - val_mean_absolute_error: 0.0841\n",
      "Epoch 2/100\n",
      "4/4 [==============================] - 0s 35ms/step - loss: 0.0406 - mean_absolute_error: 0.1573 - val_loss: 0.0424 - val_mean_absolute_error: 0.1864\n",
      "Epoch 3/100\n",
      "4/4 [==============================] - 0s 36ms/step - loss: 0.0463 - mean_absolute_error: 0.1739 - val_loss: 0.0082 - val_mean_absolute_error: 0.0714\n",
      "Epoch 4/100\n",
      "4/4 [==============================] - 0s 37ms/step - loss: 0.0291 - mean_absolute_error: 0.1318 - val_loss: 0.0233 - val_mean_absolute_error: 0.1328\n",
      "Epoch 5/100\n",
      "4/4 [==============================] - 0s 36ms/step - loss: 0.0256 - mean_absolute_error: 0.1267 - val_loss: 0.0208 - val_mean_absolute_error: 0.1240\n",
      "Epoch 6/100\n",
      "4/4 [==============================] - 0s 35ms/step - loss: 0.0232 - mean_absolute_error: 0.1187 - val_loss: 0.0134 - val_mean_absolute_error: 0.0950\n",
      "Epoch 7/100\n",
      "4/4 [==============================] - 0s 36ms/step - loss: 0.0174 - mean_absolute_error: 0.1043 - val_loss: 0.0246 - val_mean_absolute_error: 0.1382\n",
      "Epoch 8/100\n",
      "4/4 [==============================] - 0s 52ms/step - loss: 0.0183 - mean_absolute_error: 0.1059 - val_loss: 0.0115 - val_mean_absolute_error: 0.0874\n",
      "Epoch 9/100\n",
      "4/4 [==============================] - 0s 36ms/step - loss: 0.0154 - mean_absolute_error: 0.0968 - val_loss: 0.0138 - val_mean_absolute_error: 0.0972\n",
      "Epoch 10/100\n",
      "4/4 [==============================] - 0s 39ms/step - loss: 0.0140 - mean_absolute_error: 0.0921 - val_loss: 0.0125 - val_mean_absolute_error: 0.0919\n",
      "Epoch 11/100\n",
      "4/4 [==============================] - 0s 35ms/step - loss: 0.0134 - mean_absolute_error: 0.0897 - val_loss: 0.0090 - val_mean_absolute_error: 0.0770\n",
      "Epoch 12/100\n",
      "4/4 [==============================] - 0s 35ms/step - loss: 0.0117 - mean_absolute_error: 0.0847 - val_loss: 0.0103 - val_mean_absolute_error: 0.0828\n",
      "Epoch 13/100\n",
      "4/4 [==============================] - 0s 36ms/step - loss: 0.0116 - mean_absolute_error: 0.0839 - val_loss: 0.0078 - val_mean_absolute_error: 0.0720\n",
      "Epoch 14/100\n",
      "4/4 [==============================] - 0s 33ms/step - loss: 0.0107 - mean_absolute_error: 0.0807 - val_loss: 0.0072 - val_mean_absolute_error: 0.0691\n",
      "Epoch 15/100\n",
      "4/4 [==============================] - 0s 45ms/step - loss: 0.0104 - mean_absolute_error: 0.0791 - val_loss: 0.0067 - val_mean_absolute_error: 0.0673\n",
      "Epoch 16/100\n",
      "4/4 [==============================] - 0s 35ms/step - loss: 0.0098 - mean_absolute_error: 0.0770 - val_loss: 0.0061 - val_mean_absolute_error: 0.0645\n",
      "Epoch 17/100\n",
      "4/4 [==============================] - 0s 35ms/step - loss: 0.0091 - mean_absolute_error: 0.0734 - val_loss: 0.0058 - val_mean_absolute_error: 0.0626\n",
      "Epoch 18/100\n",
      "4/4 [==============================] - 0s 34ms/step - loss: 0.0087 - mean_absolute_error: 0.0721 - val_loss: 0.0053 - val_mean_absolute_error: 0.0600\n",
      "Epoch 19/100\n",
      "4/4 [==============================] - 0s 36ms/step - loss: 0.0083 - mean_absolute_error: 0.0707 - val_loss: 0.0052 - val_mean_absolute_error: 0.0600\n",
      "Epoch 20/100\n",
      "4/4 [==============================] - 0s 38ms/step - loss: 0.0080 - mean_absolute_error: 0.0695 - val_loss: 0.0046 - val_mean_absolute_error: 0.0561\n",
      "Epoch 21/100\n",
      "4/4 [==============================] - 0s 35ms/step - loss: 0.0074 - mean_absolute_error: 0.0669 - val_loss: 0.0046 - val_mean_absolute_error: 0.0565\n",
      "Epoch 22/100\n",
      "4/4 [==============================] - 0s 35ms/step - loss: 0.0071 - mean_absolute_error: 0.0658 - val_loss: 0.0045 - val_mean_absolute_error: 0.0560\n",
      "Epoch 23/100\n",
      "4/4 [==============================] - 0s 35ms/step - loss: 0.0071 - mean_absolute_error: 0.0658 - val_loss: 0.0041 - val_mean_absolute_error: 0.0529\n",
      "Epoch 24/100\n",
      "4/4 [==============================] - 0s 35ms/step - loss: 0.0067 - mean_absolute_error: 0.0633 - val_loss: 0.0038 - val_mean_absolute_error: 0.0514\n",
      "Epoch 25/100\n",
      "4/4 [==============================] - 0s 36ms/step - loss: 0.0065 - mean_absolute_error: 0.0627 - val_loss: 0.0035 - val_mean_absolute_error: 0.0494\n",
      "Epoch 26/100\n",
      "4/4 [==============================] - 0s 35ms/step - loss: 0.0062 - mean_absolute_error: 0.0612 - val_loss: 0.0031 - val_mean_absolute_error: 0.0463\n",
      "Epoch 27/100\n",
      "4/4 [==============================] - 0s 33ms/step - loss: 0.0060 - mean_absolute_error: 0.0604 - val_loss: 0.0030 - val_mean_absolute_error: 0.0457\n",
      "Epoch 28/100\n",
      "4/4 [==============================] - 0s 33ms/step - loss: 0.0060 - mean_absolute_error: 0.0604 - val_loss: 0.0031 - val_mean_absolute_error: 0.0458\n",
      "Epoch 29/100\n",
      "4/4 [==============================] - 0s 35ms/step - loss: 0.0056 - mean_absolute_error: 0.0588 - val_loss: 0.0026 - val_mean_absolute_error: 0.0418\n",
      "Epoch 30/100\n",
      "4/4 [==============================] - 0s 36ms/step - loss: 0.0054 - mean_absolute_error: 0.0575 - val_loss: 0.0026 - val_mean_absolute_error: 0.0420\n",
      "Epoch 31/100\n",
      "4/4 [==============================] - 0s 40ms/step - loss: 0.0054 - mean_absolute_error: 0.0572 - val_loss: 0.0029 - val_mean_absolute_error: 0.0448\n",
      "Epoch 32/100\n",
      "4/4 [==============================] - 0s 37ms/step - loss: 0.0054 - mean_absolute_error: 0.0571 - val_loss: 0.0022 - val_mean_absolute_error: 0.0380\n",
      "Epoch 33/100\n",
      "4/4 [==============================] - 0s 37ms/step - loss: 0.0049 - mean_absolute_error: 0.0543 - val_loss: 0.0025 - val_mean_absolute_error: 0.0414\n",
      "Epoch 34/100\n",
      "4/4 [==============================] - 0s 37ms/step - loss: 0.0051 - mean_absolute_error: 0.0556 - val_loss: 0.0028 - val_mean_absolute_error: 0.0434\n",
      "Epoch 35/100\n",
      "4/4 [==============================] - 0s 36ms/step - loss: 0.0047 - mean_absolute_error: 0.0544 - val_loss: 0.0020 - val_mean_absolute_error: 0.0361\n",
      "Epoch 36/100\n",
      "4/4 [==============================] - 0s 39ms/step - loss: 0.0045 - mean_absolute_error: 0.0520 - val_loss: 0.0021 - val_mean_absolute_error: 0.0373\n",
      "Epoch 37/100\n",
      "4/4 [==============================] - 0s 70ms/step - loss: 0.0047 - mean_absolute_error: 0.0535 - val_loss: 0.0028 - val_mean_absolute_error: 0.0434\n",
      "Epoch 38/100\n",
      "4/4 [==============================] - 0s 49ms/step - loss: 0.0047 - mean_absolute_error: 0.0535 - val_loss: 0.0018 - val_mean_absolute_error: 0.0345\n",
      "Epoch 39/100\n",
      "4/4 [==============================] - 0s 45ms/step - loss: 0.0041 - mean_absolute_error: 0.0496 - val_loss: 0.0019 - val_mean_absolute_error: 0.0349\n",
      "Epoch 40/100\n",
      "4/4 [==============================] - 0s 67ms/step - loss: 0.0042 - mean_absolute_error: 0.0504 - val_loss: 0.0022 - val_mean_absolute_error: 0.0377\n",
      "Epoch 41/100\n",
      "4/4 [==============================] - 0s 51ms/step - loss: 0.0041 - mean_absolute_error: 0.0501 - val_loss: 0.0020 - val_mean_absolute_error: 0.0363\n",
      "Epoch 42/100\n",
      "4/4 [==============================] - 0s 56ms/step - loss: 0.0040 - mean_absolute_error: 0.0496 - val_loss: 0.0017 - val_mean_absolute_error: 0.0334\n",
      "Epoch 43/100\n",
      "4/4 [==============================] - 0s 53ms/step - loss: 0.0038 - mean_absolute_error: 0.0480 - val_loss: 0.0017 - val_mean_absolute_error: 0.0333\n",
      "Epoch 44/100\n",
      "4/4 [==============================] - 0s 46ms/step - loss: 0.0038 - mean_absolute_error: 0.0478 - val_loss: 0.0019 - val_mean_absolute_error: 0.0353\n",
      "Epoch 45/100\n",
      "4/4 [==============================] - 0s 43ms/step - loss: 0.0038 - mean_absolute_error: 0.0480 - val_loss: 0.0020 - val_mean_absolute_error: 0.0367\n",
      "Epoch 46/100\n",
      "4/4 [==============================] - 0s 43ms/step - loss: 0.0038 - mean_absolute_error: 0.0483 - val_loss: 0.0016 - val_mean_absolute_error: 0.0318\n",
      "Epoch 47/100\n",
      "4/4 [==============================] - 0s 47ms/step - loss: 0.0033 - mean_absolute_error: 0.0452 - val_loss: 0.0015 - val_mean_absolute_error: 0.0309\n",
      "Epoch 48/100\n",
      "4/4 [==============================] - 0s 52ms/step - loss: 0.0036 - mean_absolute_error: 0.0465 - val_loss: 0.0021 - val_mean_absolute_error: 0.0376\n",
      "Epoch 49/100\n",
      "4/4 [==============================] - 0s 50ms/step - loss: 0.0039 - mean_absolute_error: 0.0487 - val_loss: 0.0020 - val_mean_absolute_error: 0.0367\n"
     ]
    },
    {
     "name": "stdout",
     "output_type": "stream",
     "text": [
      "Epoch 50/100\n",
      "4/4 [==============================] - 0s 48ms/step - loss: 0.0036 - mean_absolute_error: 0.0470 - val_loss: 0.0014 - val_mean_absolute_error: 0.0300\n",
      "Epoch 51/100\n",
      "4/4 [==============================] - 0s 59ms/step - loss: 0.0033 - mean_absolute_error: 0.0448 - val_loss: 0.0014 - val_mean_absolute_error: 0.0298\n",
      "Epoch 52/100\n",
      "4/4 [==============================] - 0s 48ms/step - loss: 0.0036 - mean_absolute_error: 0.0469 - val_loss: 0.0024 - val_mean_absolute_error: 0.0409\n",
      "Epoch 53/100\n",
      "4/4 [==============================] - 0s 45ms/step - loss: 0.0040 - mean_absolute_error: 0.0498 - val_loss: 0.0017 - val_mean_absolute_error: 0.0329\n",
      "Epoch 54/100\n",
      "4/4 [==============================] - 0s 51ms/step - loss: 0.0034 - mean_absolute_error: 0.0457 - val_loss: 0.0013 - val_mean_absolute_error: 0.0284\n",
      "Epoch 55/100\n",
      "4/4 [==============================] - 0s 49ms/step - loss: 0.0032 - mean_absolute_error: 0.0442 - val_loss: 0.0018 - val_mean_absolute_error: 0.0341\n",
      "Epoch 56/100\n",
      "4/4 [==============================] - 0s 49ms/step - loss: 0.0035 - mean_absolute_error: 0.0458 - val_loss: 0.0020 - val_mean_absolute_error: 0.0370\n",
      "Epoch 57/100\n",
      "4/4 [==============================] - 0s 52ms/step - loss: 0.0032 - mean_absolute_error: 0.0444 - val_loss: 0.0013 - val_mean_absolute_error: 0.0286\n",
      "Epoch 58/100\n",
      "4/4 [==============================] - 0s 50ms/step - loss: 0.0028 - mean_absolute_error: 0.0412 - val_loss: 0.0015 - val_mean_absolute_error: 0.0308\n",
      "Epoch 59/100\n",
      "4/4 [==============================] - 0s 41ms/step - loss: 0.0029 - mean_absolute_error: 0.0417 - val_loss: 0.0016 - val_mean_absolute_error: 0.0321\n",
      "Epoch 60/100\n",
      "4/4 [==============================] - 0s 36ms/step - loss: 0.0028 - mean_absolute_error: 0.0410 - val_loss: 0.0013 - val_mean_absolute_error: 0.0289\n",
      "Epoch 61/100\n",
      "4/4 [==============================] - 0s 39ms/step - loss: 0.0027 - mean_absolute_error: 0.0404 - val_loss: 0.0015 - val_mean_absolute_error: 0.0306\n",
      "Epoch 62/100\n",
      "4/4 [==============================] - 0s 35ms/step - loss: 0.0029 - mean_absolute_error: 0.0417 - val_loss: 0.0016 - val_mean_absolute_error: 0.0323\n",
      "Epoch 63/100\n",
      "4/4 [==============================] - 0s 36ms/step - loss: 0.0027 - mean_absolute_error: 0.0408 - val_loss: 0.0012 - val_mean_absolute_error: 0.0270\n",
      "Epoch 64/100\n",
      "4/4 [==============================] - 0s 37ms/step - loss: 0.0027 - mean_absolute_error: 0.0405 - val_loss: 0.0012 - val_mean_absolute_error: 0.0276\n",
      "Epoch 65/100\n",
      "4/4 [==============================] - 0s 38ms/step - loss: 0.0029 - mean_absolute_error: 0.0420 - val_loss: 0.0020 - val_mean_absolute_error: 0.0371\n",
      "Epoch 66/100\n",
      "4/4 [==============================] - 0s 36ms/step - loss: 0.0033 - mean_absolute_error: 0.0445 - val_loss: 0.0012 - val_mean_absolute_error: 0.0275\n",
      "Epoch 67/100\n",
      "4/4 [==============================] - 0s 36ms/step - loss: 0.0025 - mean_absolute_error: 0.0393 - val_loss: 0.0011 - val_mean_absolute_error: 0.0264\n",
      "Epoch 68/100\n",
      "4/4 [==============================] - 0s 37ms/step - loss: 0.0027 - mean_absolute_error: 0.0405 - val_loss: 0.0014 - val_mean_absolute_error: 0.0299\n",
      "Epoch 69/100\n",
      "4/4 [==============================] - 0s 36ms/step - loss: 0.0028 - mean_absolute_error: 0.0410 - val_loss: 0.0016 - val_mean_absolute_error: 0.0330\n",
      "Epoch 70/100\n",
      "4/4 [==============================] - 0s 36ms/step - loss: 0.0027 - mean_absolute_error: 0.0409 - val_loss: 0.0011 - val_mean_absolute_error: 0.0259\n",
      "Epoch 71/100\n",
      "4/4 [==============================] - 0s 37ms/step - loss: 0.0023 - mean_absolute_error: 0.0375 - val_loss: 0.0011 - val_mean_absolute_error: 0.0264\n",
      "Epoch 72/100\n",
      "4/4 [==============================] - 0s 34ms/step - loss: 0.0025 - mean_absolute_error: 0.0390 - val_loss: 0.0014 - val_mean_absolute_error: 0.0295\n",
      "Epoch 73/100\n",
      "4/4 [==============================] - 0s 33ms/step - loss: 0.0026 - mean_absolute_error: 0.0396 - val_loss: 0.0013 - val_mean_absolute_error: 0.0284\n",
      "Epoch 74/100\n",
      "4/4 [==============================] - 0s 34ms/step - loss: 0.0023 - mean_absolute_error: 0.0377 - val_loss: 0.0011 - val_mean_absolute_error: 0.0256\n",
      "Epoch 75/100\n",
      "4/4 [==============================] - 0s 39ms/step - loss: 0.0023 - mean_absolute_error: 0.0374 - val_loss: 0.0011 - val_mean_absolute_error: 0.0257\n",
      "Epoch 76/100\n",
      "4/4 [==============================] - 0s 38ms/step - loss: 0.0025 - mean_absolute_error: 0.0385 - val_loss: 0.0015 - val_mean_absolute_error: 0.0310\n",
      "Epoch 77/100\n",
      "4/4 [==============================] - 0s 42ms/step - loss: 0.0026 - mean_absolute_error: 0.0398 - val_loss: 0.0011 - val_mean_absolute_error: 0.0256\n",
      "Epoch 78/100\n",
      "4/4 [==============================] - 0s 38ms/step - loss: 0.0022 - mean_absolute_error: 0.0365 - val_loss: 0.0010 - val_mean_absolute_error: 0.0250\n",
      "Epoch 79/100\n",
      "4/4 [==============================] - 0s 39ms/step - loss: 0.0023 - mean_absolute_error: 0.0369 - val_loss: 0.0012 - val_mean_absolute_error: 0.0277\n",
      "Epoch 80/100\n",
      "4/4 [==============================] - 0s 39ms/step - loss: 0.0023 - mean_absolute_error: 0.0375 - val_loss: 0.0014 - val_mean_absolute_error: 0.0297\n",
      "Epoch 81/100\n",
      "4/4 [==============================] - 0s 37ms/step - loss: 0.0023 - mean_absolute_error: 0.0379 - val_loss: 9.9773e-04 - val_mean_absolute_error: 0.0248\n",
      "Epoch 82/100\n",
      "4/4 [==============================] - 0s 43ms/step - loss: 0.0021 - mean_absolute_error: 0.0358 - val_loss: 9.6332e-04 - val_mean_absolute_error: 0.0243\n",
      "Epoch 83/100\n",
      "4/4 [==============================] - 0s 34ms/step - loss: 0.0023 - mean_absolute_error: 0.0369 - val_loss: 0.0013 - val_mean_absolute_error: 0.0288\n",
      "Epoch 84/100\n",
      "4/4 [==============================] - 0s 35ms/step - loss: 0.0023 - mean_absolute_error: 0.0373 - val_loss: 0.0011 - val_mean_absolute_error: 0.0258\n",
      "Epoch 85/100\n",
      "4/4 [==============================] - 0s 36ms/step - loss: 0.0020 - mean_absolute_error: 0.0356 - val_loss: 9.4547e-04 - val_mean_absolute_error: 0.0242\n",
      "Epoch 86/100\n",
      "4/4 [==============================] - 0s 35ms/step - loss: 0.0021 - mean_absolute_error: 0.0350 - val_loss: 0.0010 - val_mean_absolute_error: 0.0250\n",
      "Epoch 87/100\n",
      "4/4 [==============================] - 0s 38ms/step - loss: 0.0021 - mean_absolute_error: 0.0359 - val_loss: 0.0012 - val_mean_absolute_error: 0.0267\n",
      "Epoch 88/100\n",
      "4/4 [==============================] - 0s 34ms/step - loss: 0.0021 - mean_absolute_error: 0.0357 - val_loss: 9.2313e-04 - val_mean_absolute_error: 0.0238\n",
      "Epoch 89/100\n",
      "4/4 [==============================] - 0s 37ms/step - loss: 0.0020 - mean_absolute_error: 0.0340 - val_loss: 8.9663e-04 - val_mean_absolute_error: 0.0234\n",
      "Epoch 90/100\n",
      "4/4 [==============================] - 0s 36ms/step - loss: 0.0020 - mean_absolute_error: 0.0348 - val_loss: 0.0012 - val_mean_absolute_error: 0.0271\n",
      "Epoch 91/100\n",
      "4/4 [==============================] - 0s 35ms/step - loss: 0.0022 - mean_absolute_error: 0.0368 - val_loss: 9.9438e-04 - val_mean_absolute_error: 0.0245\n",
      "Epoch 92/100\n",
      "4/4 [==============================] - 0s 37ms/step - loss: 0.0020 - mean_absolute_error: 0.0351 - val_loss: 9.6944e-04 - val_mean_absolute_error: 0.0248\n",
      "Epoch 93/100\n",
      "4/4 [==============================] - 0s 35ms/step - loss: 0.0022 - mean_absolute_error: 0.0367 - val_loss: 0.0010 - val_mean_absolute_error: 0.0245\n",
      "Epoch 94/100\n",
      "4/4 [==============================] - 0s 33ms/step - loss: 0.0025 - mean_absolute_error: 0.0388 - val_loss: 0.0018 - val_mean_absolute_error: 0.0357\n",
      "Epoch 95/100\n",
      "4/4 [==============================] - 0s 33ms/step - loss: 0.0026 - mean_absolute_error: 0.0411 - val_loss: 9.2351e-04 - val_mean_absolute_error: 0.0241\n",
      "Epoch 96/100\n",
      "4/4 [==============================] - 0s 36ms/step - loss: 0.0021 - mean_absolute_error: 0.0355 - val_loss: 9.4404e-04 - val_mean_absolute_error: 0.0244\n",
      "Epoch 97/100\n",
      "4/4 [==============================] - 0s 34ms/step - loss: 0.0028 - mean_absolute_error: 0.0415 - val_loss: 0.0026 - val_mean_absolute_error: 0.0437\n",
      "Epoch 98/100\n",
      "4/4 [==============================] - 0s 34ms/step - loss: 0.0031 - mean_absolute_error: 0.0443 - val_loss: 9.3490e-04 - val_mean_absolute_error: 0.0238\n",
      "Epoch 99/100\n",
      "4/4 [==============================] - 0s 35ms/step - loss: 0.0021 - mean_absolute_error: 0.0355 - val_loss: 9.3070e-04 - val_mean_absolute_error: 0.0242\n"
     ]
    },
    {
     "name": "stdout",
     "output_type": "stream",
     "text": [
      "Epoch 100/100\n",
      "4/4 [==============================] - 0s 37ms/step - loss: 0.0022 - mean_absolute_error: 0.0360 - val_loss: 0.0016 - val_mean_absolute_error: 0.0326\n"
     ]
    }
   ],
   "source": [
    "model = rnn_model(seq_length = win_length, input_dim = num_features)\n",
    "model.compile(loss=tf.losses.MeanSquaredError(), optimizer=tf.optimizers.Adam(), metrics=[tf.metrics.MeanAbsoluteError()])\n",
    "history = model.fit_generator(train_generator, epochs=100, validation_data=test_generator, shuffle=False)"
   ]
  },
  {
   "cell_type": "code",
   "execution_count": 7,
   "metadata": {},
   "outputs": [
    {
     "name": "stdout",
     "output_type": "stream",
     "text": [
      "WARNING:tensorflow:From <ipython-input-7-df4507cf4489>:2: Model.predict_generator (from tensorflow.python.keras.engine.training) is deprecated and will be removed in a future version.\n",
      "Instructions for updating:\n",
      "Please use Model.predict, which supports generators.\n"
     ]
    }
   ],
   "source": [
    "# model.evaluate_generator(test_generator, verbose=0)\n",
    "predictions = model.predict_generator(test_generator)\n",
    "predictions.shape[0]\n",
    "# rev_trans = scaler_input.inverse_transform(datas_pred)\n",
    "rev_trans = scaler_output.inverse_transform(predictions)"
   ]
  },
  {
   "cell_type": "code",
   "execution_count": 8,
   "metadata": {},
   "outputs": [
    {
     "name": "stdout",
     "output_type": "stream",
     "text": [
      "(1747, 1)\n",
      "[27971.188 29561.377 30545.514 ... 31056.273 29741.12  27546.951]\n"
     ]
    }
   ],
   "source": [
    "print(rev_trans.shape)\n",
    "print(rev_trans[:,-1])"
   ]
  },
  {
   "cell_type": "code",
   "execution_count": 9,
   "metadata": {},
   "outputs": [
    {
     "name": "stderr",
     "output_type": "stream",
     "text": [
      "<ipython-input-9-6d0af38a9cd4>:3: SettingWithCopyWarning: \n",
      "A value is trying to be set on a copy of a slice from a DataFrame.\n",
      "Try using .loc[row_indexer,col_indexer] = value instead\n",
      "\n",
      "See the caveats in the documentation: https://pandas.pydata.org/pandas-docs/stable/user_guide/indexing.html#returning-a-view-versus-a-copy\n",
      "  datas_final['Predicted Demand'] = rev_trans[:,-1]\n"
     ]
    },
    {
     "data": {
      "text/plain": [
       "<AxesSubplot:>"
      ]
     },
     "execution_count": 9,
     "metadata": {},
     "output_type": "execute_result"
    },
    {
     "data": {
      "image/png": "[encoded data removed]",
      "text/plain": [
       "<Figure size 432x288 with 1 Axes>"
      ]
     },
     "metadata": {
      "needs_background": "light"
     },
     "output_type": "display_data"
    }
   ],
   "source": [
    "datas_final = df_2020[predictions.shape[0]*-1:]\n",
    "datas_final.count()\n",
    "datas_final['Predicted Demand'] = rev_trans[:,-1]\n",
    "datas_final[['D','Predicted Demand']].plot()"
   ]
  },
  {
   "cell_type": "code",
   "execution_count": 10,
   "metadata": {},
   "outputs": [
    {
     "data": {
      "text/plain": [
       "Text(0.5, 1.0, 'Loss')"
      ]
     },
     "execution_count": 10,
     "metadata": {},
     "output_type": "execute_result"
    },
    {
     "data": {
      "image/png": "[encoded data removed]",
      "text/plain": [
       "<Figure size 1152x576 with 2 Axes>"
      ]
     },
     "metadata": {
      "needs_background": "light"
     },
     "output_type": "display_data"
    }
   ],
   "source": [
    "epoch = len(history.history['val_mean_absolute_error'])\n",
    "epoch = np.arange(epoch)\n",
    "\n",
    "plt.figure(figsize=(16,8))\n",
    "#Plot accuracy vs epoch\n",
    "plt.subplot(1,2,1)\n",
    "# plt.plot(epoch,history.history['accuracy'])\n",
    "plt.plot(epoch,history.history['val_mean_absolute_error'])\n",
    "plt.title('Val_Loss')\n",
    "\n",
    "plt.legend(labels=['train', 'val'],  loc='lower right')\n",
    "#### Fill in plot ####\n",
    "\n",
    "#Plot loss vs epoch\n",
    "plt.subplot(1,2,2)\n",
    "plt.plot(epoch,history.history['loss'])\n",
    "# plt.plot(epoch,history.history['val_loss'])\n",
    "plt.legend(labels=['train', 'val'],  loc='upper right')\n",
    "plt.title('Loss')\n",
    "#### Fill in plot ####"
   ]
  },
  {
   "cell_type": "markdown",
   "metadata": {},
   "source": [
    "# FGSM attack"
   ]
  },
  {
   "cell_type": "code",
   "execution_count": 12,
   "metadata": {
    "scrolled": true
   },
   "outputs": [
    {
     "name": "stdout",
     "output_type": "stream",
     "text": [
      "(1747, 10, 10)\n",
      "(1747, 1)\n",
      "<class 'tensorflow.python.framework.ops.EagerTensor'>\n",
      "<class 'tensorflow.python.framework.ops.EagerTensor'>\n"
     ]
    }
   ],
   "source": [
    "data_test = test_generator[0][0]\n",
    "data_test = tf.convert_to_tensor(data_test)\n",
    "target_test = test_generator[0][1]\n",
    "y_actual = target_test.reshape(-1,1)\n",
    "y_actual = tf.convert_to_tensor(y_actual)\n",
    "\n",
    "print(data_test.shape)\n",
    "print(y_actual.shape)\n",
    "print(type(data_test))\n",
    "print(type(y_actual))"
   ]
  },
  {
   "cell_type": "code",
   "execution_count": 13,
   "metadata": {},
   "outputs": [],
   "source": [
    "# import tensorflow.compat.v1 as tf\n",
    "# tf.compat.v1.disable_eager_execution()\n",
    "\n",
    "with tf.GradientTape() as tape:\n",
    "    data_test = tf.cast(data_test,dtype='float64')\n",
    "    tape.watch(data_test)\n",
    "    yy = model(data_test)\n",
    "    \n",
    "    yy = tf.cast(yy,dtype='float64')\n",
    "    loss = tf.square(yy - y_actual)\n",
    "#     loss = loss.astype('float32')\n",
    "grad = tape.gradient(loss, data_test)\n",
    "\n",
    "sign_grad = tf.sign(grad)"
   ]
  },
  {
   "cell_type": "code",
   "execution_count": 14,
   "metadata": {},
   "outputs": [],
   "source": [
    "levels = [0, 0.01,0.05,0.1,0.3]\n",
    "\n",
    "MAPE_FGSM = []\n",
    "r2Score_FGSM = []\n",
    "\n",
    "for level in levels:\n",
    "    x_adv = data_test + level*sign_grad\n",
    "    y_adv = model(x_adv)\n",
    "#     print(y_adv.shape)\n",
    "    y_adv = scaler_output.inverse_transform(y_adv)\n",
    "\n",
    "    epsilon = mean_absolute_percentage_error(datas_final[['D']].values,y_adv)\n",
    "    score_FGSM = r2_score(datas_final[['D']].values,y_adv)\n",
    "    MAPE_FGSM.append(epsilon)\n",
    "    r2Score_FGSM.append(MAPE_FGSM)\n",
    "    \n",
    "    \n"
   ]
  },
  {
   "cell_type": "markdown",
   "metadata": {},
   "source": [
    "# PCA defense against FGSM attack"
   ]
  },
  {
   "cell_type": "code",
   "execution_count": 15,
   "metadata": {},
   "outputs": [],
   "source": [
    "# generating PCA data\n",
    "def generating_PCAdata(x,n):\n",
    "    pca = PCA(n_components=n)\n",
    "    x_pca = pca.fit_transform(x)\n",
    "    return x_pca\n",
    "\n",
    "\n",
    "def reorganize(x,n):\n",
    "    n0 =x.shape[0]\n",
    "    n1 =x.shape[1]\n",
    "    n2 =x.shape[2]\n",
    "    \n",
    "    x_re = np.zeros([n0,n1,n],dtype='float64')\n",
    "    for  i in range(n0):\n",
    "        pca = PCA(n_components=n)\n",
    "        x_re[i] = pca.fit_transform(x[i])\n",
    "    \n",
    "    return x_re "
   ]
  },
  {
   "cell_type": "code",
   "execution_count": 16,
   "metadata": {},
   "outputs": [],
   "source": [
    "n_PCA = 8 #number of PCA features\n",
    "\n",
    "\n",
    "datas_pca = generating_PCAdata(datas_scaled,n_PCA)\n",
    "features_pca = datas_pca\n",
    "\n",
    "\n",
    "\n",
    "x_train, x_test, y_train, y_test = train_test_split(features_pca, target, test_size=0.2, random_state=123, shuffle=False)\n",
    "\n",
    "win_length = 10\n",
    "batch_size = 2000\n",
    "# num_features = n_PCA\n",
    "train_generator_pca = tf.keras.preprocessing.sequence.TimeseriesGenerator(x_train, y_train, length=win_length, sampling_rate=1, batch_size=batch_size)\n",
    "test_generator_pca = tf.keras.preprocessing.sequence.TimeseriesGenerator(x_test, y_test, length=win_length, sampling_rate=1, batch_size=batch_size)"
   ]
  },
  {
   "cell_type": "code",
   "execution_count": 17,
   "metadata": {},
   "outputs": [
    {
     "name": "stdout",
     "output_type": "stream",
     "text": [
      "(7027, 8)\n",
      "(7027, 1)\n",
      "(1757, 8)\n",
      "(1757, 1)\n"
     ]
    }
   ],
   "source": [
    "print(x_train.shape)\n",
    "print(y_train.shape)\n",
    "print(x_test.shape)\n",
    "print(y_test.shape)"
   ]
  },
  {
   "cell_type": "code",
   "execution_count": 18,
   "metadata": {},
   "outputs": [
    {
     "name": "stdout",
     "output_type": "stream",
     "text": [
      "Epoch 1/100\n",
      "4/4 [==============================] - 0s 99ms/step - loss: 0.1702 - mean_absolute_error: 0.3416 - val_loss: 0.1417 - val_mean_absolute_error: 0.3476\n",
      "Epoch 2/100\n",
      "4/4 [==============================] - 0s 38ms/step - loss: 0.0409 - mean_absolute_error: 0.1540 - val_loss: 0.0336 - val_mean_absolute_error: 0.1529\n",
      "Epoch 3/100\n",
      "4/4 [==============================] - 0s 52ms/step - loss: 0.0309 - mean_absolute_error: 0.1397 - val_loss: 0.0154 - val_mean_absolute_error: 0.0982\n",
      "Epoch 4/100\n",
      "4/4 [==============================] - 0s 50ms/step - loss: 0.0220 - mean_absolute_error: 0.1181 - val_loss: 0.0098 - val_mean_absolute_error: 0.0779\n",
      "Epoch 5/100\n",
      "4/4 [==============================] - 0s 42ms/step - loss: 0.0199 - mean_absolute_error: 0.1128 - val_loss: 0.0083 - val_mean_absolute_error: 0.0737\n",
      "Epoch 6/100\n",
      "4/4 [==============================] - 0s 50ms/step - loss: 0.0167 - mean_absolute_error: 0.1025 - val_loss: 0.0091 - val_mean_absolute_error: 0.0803\n",
      "Epoch 7/100\n",
      "4/4 [==============================] - 0s 49ms/step - loss: 0.0133 - mean_absolute_error: 0.0922 - val_loss: 0.0094 - val_mean_absolute_error: 0.0815\n",
      "Epoch 8/100\n",
      "4/4 [==============================] - 0s 46ms/step - loss: 0.0112 - mean_absolute_error: 0.0845 - val_loss: 0.0084 - val_mean_absolute_error: 0.0761\n",
      "Epoch 9/100\n",
      "4/4 [==============================] - 0s 53ms/step - loss: 0.0100 - mean_absolute_error: 0.0804 - val_loss: 0.0064 - val_mean_absolute_error: 0.0659\n",
      "Epoch 10/100\n",
      "4/4 [==============================] - 0s 38ms/step - loss: 0.0090 - mean_absolute_error: 0.0754 - val_loss: 0.0051 - val_mean_absolute_error: 0.0576\n",
      "Epoch 11/100\n",
      "4/4 [==============================] - 0s 37ms/step - loss: 0.0077 - mean_absolute_error: 0.0697 - val_loss: 0.0047 - val_mean_absolute_error: 0.0546\n",
      "Epoch 12/100\n",
      "4/4 [==============================] - 0s 42ms/step - loss: 0.0073 - mean_absolute_error: 0.0673 - val_loss: 0.0048 - val_mean_absolute_error: 0.0553\n",
      "Epoch 13/100\n",
      "4/4 [==============================] - 0s 40ms/step - loss: 0.0067 - mean_absolute_error: 0.0642 - val_loss: 0.0047 - val_mean_absolute_error: 0.0550\n",
      "Epoch 14/100\n",
      "4/4 [==============================] - 0s 42ms/step - loss: 0.0062 - mean_absolute_error: 0.0628 - val_loss: 0.0043 - val_mean_absolute_error: 0.0528\n",
      "Epoch 15/100\n",
      "4/4 [==============================] - 0s 38ms/step - loss: 0.0058 - mean_absolute_error: 0.0598 - val_loss: 0.0039 - val_mean_absolute_error: 0.0499\n",
      "Epoch 16/100\n",
      "4/4 [==============================] - 0s 41ms/step - loss: 0.0053 - mean_absolute_error: 0.0576 - val_loss: 0.0035 - val_mean_absolute_error: 0.0468\n",
      "Epoch 17/100\n",
      "4/4 [==============================] - 0s 41ms/step - loss: 0.0052 - mean_absolute_error: 0.0564 - val_loss: 0.0031 - val_mean_absolute_error: 0.0435\n",
      "Epoch 18/100\n",
      "4/4 [==============================] - 0s 42ms/step - loss: 0.0047 - mean_absolute_error: 0.0543 - val_loss: 0.0026 - val_mean_absolute_error: 0.0404\n",
      "Epoch 19/100\n",
      "4/4 [==============================] - 0s 42ms/step - loss: 0.0046 - mean_absolute_error: 0.0533 - val_loss: 0.0024 - val_mean_absolute_error: 0.0390\n",
      "Epoch 20/100\n",
      "4/4 [==============================] - 0s 43ms/step - loss: 0.0044 - mean_absolute_error: 0.0520 - val_loss: 0.0025 - val_mean_absolute_error: 0.0391\n",
      "Epoch 21/100\n",
      "4/4 [==============================] - 0s 42ms/step - loss: 0.0042 - mean_absolute_error: 0.0514 - val_loss: 0.0025 - val_mean_absolute_error: 0.0394\n",
      "Epoch 22/100\n",
      "4/4 [==============================] - 0s 40ms/step - loss: 0.0041 - mean_absolute_error: 0.0503 - val_loss: 0.0024 - val_mean_absolute_error: 0.0388\n",
      "Epoch 23/100\n",
      "4/4 [==============================] - 0s 39ms/step - loss: 0.0039 - mean_absolute_error: 0.0491 - val_loss: 0.0024 - val_mean_absolute_error: 0.0386\n",
      "Epoch 24/100\n",
      "4/4 [==============================] - 0s 38ms/step - loss: 0.0037 - mean_absolute_error: 0.0482 - val_loss: 0.0023 - val_mean_absolute_error: 0.0378\n",
      "Epoch 25/100\n",
      "4/4 [==============================] - 0s 44ms/step - loss: 0.0036 - mean_absolute_error: 0.0475 - val_loss: 0.0021 - val_mean_absolute_error: 0.0369\n",
      "Epoch 26/100\n",
      "4/4 [==============================] - 0s 46ms/step - loss: 0.0035 - mean_absolute_error: 0.0464 - val_loss: 0.0020 - val_mean_absolute_error: 0.0361\n",
      "Epoch 27/100\n",
      "4/4 [==============================] - 0s 46ms/step - loss: 0.0035 - mean_absolute_error: 0.0466 - val_loss: 0.0021 - val_mean_absolute_error: 0.0366\n",
      "Epoch 28/100\n",
      "4/4 [==============================] - 0s 56ms/step - loss: 0.0033 - mean_absolute_error: 0.0449 - val_loss: 0.0021 - val_mean_absolute_error: 0.0364\n",
      "Epoch 29/100\n",
      "4/4 [==============================] - 0s 45ms/step - loss: 0.0033 - mean_absolute_error: 0.0447 - val_loss: 0.0020 - val_mean_absolute_error: 0.0354\n",
      "Epoch 30/100\n",
      "4/4 [==============================] - 0s 41ms/step - loss: 0.0031 - mean_absolute_error: 0.0438 - val_loss: 0.0019 - val_mean_absolute_error: 0.0350\n",
      "Epoch 31/100\n",
      "4/4 [==============================] - 0s 38ms/step - loss: 0.0029 - mean_absolute_error: 0.0423 - val_loss: 0.0018 - val_mean_absolute_error: 0.0341\n",
      "Epoch 32/100\n",
      "4/4 [==============================] - 0s 38ms/step - loss: 0.0030 - mean_absolute_error: 0.0429 - val_loss: 0.0018 - val_mean_absolute_error: 0.0336\n",
      "Epoch 33/100\n",
      "4/4 [==============================] - 0s 39ms/step - loss: 0.0030 - mean_absolute_error: 0.0425 - val_loss: 0.0018 - val_mean_absolute_error: 0.0341\n",
      "Epoch 34/100\n",
      "4/4 [==============================] - 0s 42ms/step - loss: 0.0028 - mean_absolute_error: 0.0417 - val_loss: 0.0018 - val_mean_absolute_error: 0.0339\n",
      "Epoch 35/100\n",
      "4/4 [==============================] - 0s 49ms/step - loss: 0.0028 - mean_absolute_error: 0.0415 - val_loss: 0.0018 - val_mean_absolute_error: 0.0341\n",
      "Epoch 36/100\n",
      "4/4 [==============================] - 0s 42ms/step - loss: 0.0026 - mean_absolute_error: 0.0405 - val_loss: 0.0017 - val_mean_absolute_error: 0.0328\n",
      "Epoch 37/100\n",
      "4/4 [==============================] - 0s 50ms/step - loss: 0.0026 - mean_absolute_error: 0.0401 - val_loss: 0.0015 - val_mean_absolute_error: 0.0310\n",
      "Epoch 38/100\n",
      "4/4 [==============================] - 0s 41ms/step - loss: 0.0026 - mean_absolute_error: 0.0401 - val_loss: 0.0015 - val_mean_absolute_error: 0.0310\n",
      "Epoch 39/100\n",
      "4/4 [==============================] - 0s 41ms/step - loss: 0.0025 - mean_absolute_error: 0.0392 - val_loss: 0.0015 - val_mean_absolute_error: 0.0307\n",
      "Epoch 40/100\n",
      "4/4 [==============================] - 0s 43ms/step - loss: 0.0024 - mean_absolute_error: 0.0386 - val_loss: 0.0017 - val_mean_absolute_error: 0.0329\n",
      "Epoch 41/100\n",
      "4/4 [==============================] - 0s 46ms/step - loss: 0.0025 - mean_absolute_error: 0.0389 - val_loss: 0.0015 - val_mean_absolute_error: 0.0309\n",
      "Epoch 42/100\n",
      "4/4 [==============================] - 0s 37ms/step - loss: 0.0025 - mean_absolute_error: 0.0387 - val_loss: 0.0015 - val_mean_absolute_error: 0.0308\n",
      "Epoch 43/100\n",
      "4/4 [==============================] - 0s 39ms/step - loss: 0.0024 - mean_absolute_error: 0.0383 - val_loss: 0.0015 - val_mean_absolute_error: 0.0310\n",
      "Epoch 44/100\n",
      "4/4 [==============================] - 0s 38ms/step - loss: 0.0024 - mean_absolute_error: 0.0387 - val_loss: 0.0013 - val_mean_absolute_error: 0.0292\n",
      "Epoch 45/100\n",
      "4/4 [==============================] - 0s 38ms/step - loss: 0.0023 - mean_absolute_error: 0.0375 - val_loss: 0.0015 - val_mean_absolute_error: 0.0305\n",
      "Epoch 46/100\n",
      "4/4 [==============================] - 0s 38ms/step - loss: 0.0023 - mean_absolute_error: 0.0374 - val_loss: 0.0013 - val_mean_absolute_error: 0.0283\n",
      "Epoch 47/100\n",
      "4/4 [==============================] - 0s 40ms/step - loss: 0.0022 - mean_absolute_error: 0.0369 - val_loss: 0.0013 - val_mean_absolute_error: 0.0286\n",
      "Epoch 48/100\n",
      "4/4 [==============================] - 0s 36ms/step - loss: 0.0021 - mean_absolute_error: 0.0365 - val_loss: 0.0013 - val_mean_absolute_error: 0.0283\n",
      "Epoch 49/100\n",
      "4/4 [==============================] - 0s 36ms/step - loss: 0.0021 - mean_absolute_error: 0.0360 - val_loss: 0.0013 - val_mean_absolute_error: 0.0284\n",
      "Epoch 50/100\n",
      "4/4 [==============================] - 0s 37ms/step - loss: 0.0021 - mean_absolute_error: 0.0360 - val_loss: 0.0013 - val_mean_absolute_error: 0.0289\n",
      "Epoch 51/100\n",
      "4/4 [==============================] - 0s 36ms/step - loss: 0.0021 - mean_absolute_error: 0.0359 - val_loss: 0.0012 - val_mean_absolute_error: 0.0279\n",
      "Epoch 52/100\n",
      "4/4 [==============================] - 0s 38ms/step - loss: 0.0021 - mean_absolute_error: 0.0361 - val_loss: 0.0012 - val_mean_absolute_error: 0.0279\n",
      "Epoch 53/100\n",
      "4/4 [==============================] - 0s 36ms/step - loss: 0.0020 - mean_absolute_error: 0.0354 - val_loss: 0.0011 - val_mean_absolute_error: 0.0266\n",
      "Epoch 54/100\n",
      "4/4 [==============================] - 0s 36ms/step - loss: 0.0020 - mean_absolute_error: 0.0348 - val_loss: 0.0012 - val_mean_absolute_error: 0.0272\n",
      "Epoch 55/100\n",
      "4/4 [==============================] - 0s 39ms/step - loss: 0.0019 - mean_absolute_error: 0.0342 - val_loss: 0.0012 - val_mean_absolute_error: 0.0277\n",
      "Epoch 56/100\n",
      "4/4 [==============================] - 0s 39ms/step - loss: 0.0020 - mean_absolute_error: 0.0347 - val_loss: 0.0013 - val_mean_absolute_error: 0.0287\n",
      "Epoch 57/100\n",
      "4/4 [==============================] - 0s 39ms/step - loss: 0.0020 - mean_absolute_error: 0.0346 - val_loss: 0.0013 - val_mean_absolute_error: 0.0286\n",
      "Epoch 58/100\n",
      "4/4 [==============================] - 0s 45ms/step - loss: 0.0019 - mean_absolute_error: 0.0337 - val_loss: 0.0011 - val_mean_absolute_error: 0.0267\n",
      "Epoch 59/100\n",
      "4/4 [==============================] - 0s 43ms/step - loss: 0.0019 - mean_absolute_error: 0.0337 - val_loss: 0.0011 - val_mean_absolute_error: 0.0265\n",
      "Epoch 60/100\n",
      "4/4 [==============================] - 0s 56ms/step - loss: 0.0018 - mean_absolute_error: 0.0334 - val_loss: 9.7771e-04 - val_mean_absolute_error: 0.0248\n",
      "Epoch 61/100\n",
      "4/4 [==============================] - 0s 48ms/step - loss: 0.0018 - mean_absolute_error: 0.0331 - val_loss: 0.0010 - val_mean_absolute_error: 0.0257\n",
      "Epoch 62/100\n",
      "4/4 [==============================] - 0s 44ms/step - loss: 0.0017 - mean_absolute_error: 0.0326 - val_loss: 0.0011 - val_mean_absolute_error: 0.0263\n",
      "Epoch 63/100\n",
      "4/4 [==============================] - 0s 38ms/step - loss: 0.0018 - mean_absolute_error: 0.0329 - val_loss: 0.0011 - val_mean_absolute_error: 0.0259\n",
      "Epoch 64/100\n",
      "4/4 [==============================] - 0s 40ms/step - loss: 0.0018 - mean_absolute_error: 0.0330 - val_loss: 0.0010 - val_mean_absolute_error: 0.0255\n",
      "Epoch 65/100\n",
      "4/4 [==============================] - 0s 38ms/step - loss: 0.0017 - mean_absolute_error: 0.0328 - val_loss: 9.9168e-04 - val_mean_absolute_error: 0.0249\n",
      "Epoch 66/100\n",
      "4/4 [==============================] - 0s 41ms/step - loss: 0.0017 - mean_absolute_error: 0.0324 - val_loss: 0.0010 - val_mean_absolute_error: 0.0254\n",
      "Epoch 67/100\n",
      "4/4 [==============================] - 0s 40ms/step - loss: 0.0017 - mean_absolute_error: 0.0322 - val_loss: 0.0010 - val_mean_absolute_error: 0.0253\n",
      "Epoch 68/100\n",
      "4/4 [==============================] - 0s 43ms/step - loss: 0.0017 - mean_absolute_error: 0.0319 - val_loss: 0.0011 - val_mean_absolute_error: 0.0260\n",
      "Epoch 69/100\n",
      "4/4 [==============================] - 0s 50ms/step - loss: 0.0017 - mean_absolute_error: 0.0319 - val_loss: 9.6722e-04 - val_mean_absolute_error: 0.0246\n",
      "Epoch 70/100\n",
      "4/4 [==============================] - 0s 39ms/step - loss: 0.0016 - mean_absolute_error: 0.0315 - val_loss: 0.0010 - val_mean_absolute_error: 0.0254\n",
      "Epoch 71/100\n",
      "4/4 [==============================] - 0s 37ms/step - loss: 0.0016 - mean_absolute_error: 0.0317 - val_loss: 0.0010 - val_mean_absolute_error: 0.0253\n",
      "Epoch 72/100\n",
      "4/4 [==============================] - 0s 37ms/step - loss: 0.0016 - mean_absolute_error: 0.0309 - val_loss: 0.0010 - val_mean_absolute_error: 0.0254\n",
      "Epoch 73/100\n",
      "4/4 [==============================] - 0s 43ms/step - loss: 0.0016 - mean_absolute_error: 0.0309 - val_loss: 0.0010 - val_mean_absolute_error: 0.0251\n",
      "Epoch 74/100\n",
      "4/4 [==============================] - 0s 46ms/step - loss: 0.0016 - mean_absolute_error: 0.0311 - val_loss: 9.9167e-04 - val_mean_absolute_error: 0.0249\n",
      "Epoch 75/100\n",
      "4/4 [==============================] - 0s 43ms/step - loss: 0.0016 - mean_absolute_error: 0.0309 - val_loss: 9.4853e-04 - val_mean_absolute_error: 0.0243\n",
      "Epoch 76/100\n",
      "4/4 [==============================] - 0s 38ms/step - loss: 0.0015 - mean_absolute_error: 0.0306 - val_loss: 9.3549e-04 - val_mean_absolute_error: 0.0242\n",
      "Epoch 77/100\n",
      "4/4 [==============================] - 0s 41ms/step - loss: 0.0015 - mean_absolute_error: 0.0309 - val_loss: 9.7337e-04 - val_mean_absolute_error: 0.0247\n",
      "Epoch 78/100\n",
      "4/4 [==============================] - 0s 38ms/step - loss: 0.0015 - mean_absolute_error: 0.0306 - val_loss: 9.7917e-04 - val_mean_absolute_error: 0.0247\n",
      "Epoch 79/100\n",
      "4/4 [==============================] - 0s 38ms/step - loss: 0.0015 - mean_absolute_error: 0.0301 - val_loss: 9.5400e-04 - val_mean_absolute_error: 0.0244\n",
      "Epoch 80/100\n",
      "4/4 [==============================] - 0s 39ms/step - loss: 0.0015 - mean_absolute_error: 0.0303 - val_loss: 9.6705e-04 - val_mean_absolute_error: 0.0246\n",
      "Epoch 81/100\n",
      "4/4 [==============================] - 0s 41ms/step - loss: 0.0015 - mean_absolute_error: 0.0297 - val_loss: 9.5111e-04 - val_mean_absolute_error: 0.0244\n",
      "Epoch 82/100\n",
      "4/4 [==============================] - 0s 41ms/step - loss: 0.0014 - mean_absolute_error: 0.0297 - val_loss: 8.8848e-04 - val_mean_absolute_error: 0.0238\n",
      "Epoch 83/100\n",
      "4/4 [==============================] - 0s 38ms/step - loss: 0.0015 - mean_absolute_error: 0.0302 - val_loss: 8.9684e-04 - val_mean_absolute_error: 0.0238\n",
      "Epoch 84/100\n",
      "4/4 [==============================] - 0s 37ms/step - loss: 0.0015 - mean_absolute_error: 0.0300 - val_loss: 8.7768e-04 - val_mean_absolute_error: 0.0235\n",
      "Epoch 85/100\n",
      "4/4 [==============================] - 0s 44ms/step - loss: 0.0015 - mean_absolute_error: 0.0299 - val_loss: 9.7108e-04 - val_mean_absolute_error: 0.0247\n",
      "Epoch 86/100\n",
      "4/4 [==============================] - 0s 38ms/step - loss: 0.0014 - mean_absolute_error: 0.0294 - val_loss: 0.0010 - val_mean_absolute_error: 0.0253\n",
      "Epoch 87/100\n",
      "4/4 [==============================] - 0s 40ms/step - loss: 0.0014 - mean_absolute_error: 0.0296 - val_loss: 9.2254e-04 - val_mean_absolute_error: 0.0240\n",
      "Epoch 88/100\n",
      "4/4 [==============================] - 0s 38ms/step - loss: 0.0014 - mean_absolute_error: 0.0291 - val_loss: 8.9377e-04 - val_mean_absolute_error: 0.0237\n",
      "Epoch 89/100\n",
      "4/4 [==============================] - 0s 38ms/step - loss: 0.0014 - mean_absolute_error: 0.0293 - val_loss: 9.0255e-04 - val_mean_absolute_error: 0.0238\n",
      "Epoch 90/100\n",
      "4/4 [==============================] - 0s 43ms/step - loss: 0.0014 - mean_absolute_error: 0.0293 - val_loss: 8.1558e-04 - val_mean_absolute_error: 0.0227\n",
      "Epoch 91/100\n",
      "4/4 [==============================] - 0s 42ms/step - loss: 0.0014 - mean_absolute_error: 0.0289 - val_loss: 8.2824e-04 - val_mean_absolute_error: 0.0228\n",
      "Epoch 92/100\n",
      "4/4 [==============================] - 0s 39ms/step - loss: 0.0014 - mean_absolute_error: 0.0291 - val_loss: 8.4177e-04 - val_mean_absolute_error: 0.0230\n",
      "Epoch 93/100\n",
      "4/4 [==============================] - 0s 40ms/step - loss: 0.0015 - mean_absolute_error: 0.0299 - val_loss: 9.9960e-04 - val_mean_absolute_error: 0.0250\n",
      "Epoch 94/100\n",
      "4/4 [==============================] - 0s 38ms/step - loss: 0.0015 - mean_absolute_error: 0.0300 - val_loss: 8.0313e-04 - val_mean_absolute_error: 0.0225\n",
      "Epoch 95/100\n",
      "4/4 [==============================] - 0s 41ms/step - loss: 0.0017 - mean_absolute_error: 0.0317 - val_loss: 9.2788e-04 - val_mean_absolute_error: 0.0242\n",
      "Epoch 96/100\n",
      "4/4 [==============================] - 0s 40ms/step - loss: 0.0017 - mean_absolute_error: 0.0319 - val_loss: 7.7644e-04 - val_mean_absolute_error: 0.0223\n",
      "Epoch 97/100\n",
      "4/4 [==============================] - 0s 38ms/step - loss: 0.0022 - mean_absolute_error: 0.0362 - val_loss: 8.5739e-04 - val_mean_absolute_error: 0.0234\n",
      "Epoch 98/100\n",
      "4/4 [==============================] - 0s 38ms/step - loss: 0.0019 - mean_absolute_error: 0.0339 - val_loss: 8.4330e-04 - val_mean_absolute_error: 0.0231\n",
      "Epoch 99/100\n",
      "4/4 [==============================] - 0s 49ms/step - loss: 0.0024 - mean_absolute_error: 0.0375 - val_loss: 7.8905e-04 - val_mean_absolute_error: 0.0229\n",
      "Epoch 100/100\n",
      "4/4 [==============================] - 0s 49ms/step - loss: 0.0016 - mean_absolute_error: 0.0313 - val_loss: 0.0011 - val_mean_absolute_error: 0.0269\n"
     ]
    }
   ],
   "source": [
    "model_pca = rnn_model(seq_length = win_length, input_dim = n_PCA)\n",
    "model_pca.compile(loss=tf.losses.MeanSquaredError(), optimizer=tf.optimizers.Adam(), metrics=[tf.metrics.MeanAbsoluteError()])\n",
    "history_pca = model_pca.fit_generator(train_generator_pca, epochs=100, validation_data=test_generator_pca, shuffle=False)"
   ]
  },
  {
   "cell_type": "code",
   "execution_count": 19,
   "metadata": {},
   "outputs": [],
   "source": [
    "\n",
    "predictions_pca = model_pca.predict_generator(test_generator_pca)\n",
    "predictions_pca.shape[0]\n",
    "rev_trans_pca = scaler_output.inverse_transform(predictions_pca)"
   ]
  },
  {
   "cell_type": "code",
   "execution_count": 20,
   "metadata": {},
   "outputs": [
    {
     "name": "stderr",
     "output_type": "stream",
     "text": [
      "<ipython-input-20-107bfaac419e>:3: SettingWithCopyWarning: \n",
      "A value is trying to be set on a copy of a slice from a DataFrame.\n",
      "Try using .loc[row_indexer,col_indexer] = value instead\n",
      "\n",
      "See the caveats in the documentation: https://pandas.pydata.org/pandas-docs/stable/user_guide/indexing.html#returning-a-view-versus-a-copy\n",
      "  datas_final['Predicted Demand (PCA)'] = rev_trans_pca[:,-1]\n"
     ]
    },
    {
     "data": {
      "text/plain": [
       "<AxesSubplot:>"
      ]
     },
     "execution_count": 20,
     "metadata": {},
     "output_type": "execute_result"
    },
    {
     "data": {
      "image/png": "[encoded data removed]",
      "text/plain": [
       "<Figure size 432x288 with 1 Axes>"
      ]
     },
     "metadata": {
      "needs_background": "light"
     },
     "output_type": "display_data"
    }
   ],
   "source": [
    "# datas_final = df_2020[predictions.shape[0]*-1:]\n",
    "datas_final.count()\n",
    "datas_final['Predicted Demand (PCA)'] = rev_trans_pca[:,-1]\n",
    "datas_final[['D','Predicted Demand (PCA)']].plot()"
   ]
  },
  {
   "cell_type": "code",
   "execution_count": 21,
   "metadata": {},
   "outputs": [],
   "source": [
    "MAPE_pca_FGSM = []\n",
    "r2Score_PCA = []\n",
    "\n",
    "for level in levels:\n",
    "    x_adv = data_test + level*sign_grad\n",
    "    x_re = reorganize(x_adv,n_PCA)\n",
    "\n",
    "    y_adv = model_pca(x_re)\n",
    "    y_adv = scaler_output.inverse_transform(y_adv)\n",
    "\n",
    "    epsilon_pca = mean_absolute_percentage_error(datas_final[['D']].values,y_adv)\n",
    "    score_PCA = r2_score(datas_final[['D']].values,y_adv)\n",
    "    MAPE_pca_FGSM.append(epsilon_pca)\n",
    "    r2Score_PCA.append(score_PCA)"
   ]
  },
  {
   "cell_type": "code",
   "execution_count": 22,
   "metadata": {},
   "outputs": [
    {
     "data": {
      "text/plain": [
       "Text(0.5, 1.0, 'Fast Gradient Sign Method')"
      ]
     },
     "execution_count": 22,
     "metadata": {},
     "output_type": "execute_result"
    },
    {
     "data": {
      "image/png": "[encoded data removed]",
      "text/plain": [
       "<Figure size 576x432 with 1 Axes>"
      ]
     },
     "metadata": {
      "needs_background": "light"
     },
     "output_type": "display_data"
    }
   ],
   "source": [
    "plt.figure(figsize=(8,6))\n",
    "plt.plot(levels, MAPE_FGSM, label=\"Without PCA\",marker='o');\n",
    "plt.plot(levels, MAPE_pca_FGSM, label=\"With PCA\",marker='o');\n",
    "# plt.plot(levels, r2Score_FGSM, label=\"Without PCA\",marker='o');\n",
    "# plt.plot(levels, r2Score_PCA, label=\"With PCA\",marker='o');\n",
    "plt.xlabel(\"Attack Level\",fontsize=15);\n",
    "plt.ylabel(\"MAPE\",fontsize=15);\n",
    "plt.legend(prop={'size': 15})\n",
    "plt.title(\"Fast Gradient Sign Method\")"
   ]
  },
  {
   "cell_type": "markdown",
   "metadata": {},
   "source": [
    "# Autoencoder defense against FGSM attack"
   ]
  },
  {
   "cell_type": "code",
   "execution_count": 23,
   "metadata": {},
   "outputs": [
    {
     "name": "stdout",
     "output_type": "stream",
     "text": [
      "Model: \"ae_model\"\n",
      "_________________________________________________________________\n",
      "Layer (type)                 Output Shape              Param #   \n",
      "=================================================================\n",
      "sequential_2 (Sequential)    (None, 8)                 3352      \n",
      "_________________________________________________________________\n",
      "sequential_3 (Sequential)    (None, 10)                3354      \n",
      "=================================================================\n",
      "Total params: 6,706\n",
      "Trainable params: 6,706\n",
      "Non-trainable params: 0\n",
      "_________________________________________________________________\n"
     ]
    }
   ],
   "source": [
    "class ae_model(keras.Model):\n",
    "    \n",
    "    def __init__(self):\n",
    "        super(ae_model, self).__init__()  \n",
    "        \n",
    "        self.encoder = Sequential([\n",
    "            Dense(16),\n",
    "            Activation('relu'),\n",
    "            Dense(32),\n",
    "            Activation('relu'),\n",
    "            Dense(64),\n",
    "            Activation('relu'),\n",
    "            Dense(8),\n",
    "            Activation('relu'),\n",
    "\n",
    "        ])\n",
    "\n",
    "        # Decoders解码，网络\n",
    "        self.decoder = Sequential([\n",
    "            Dense(64),\n",
    "            Activation('relu'),\n",
    "            Dense(32),\n",
    "            Activation('relu'),\n",
    "            Dense(16),\n",
    "            Activation('relu'),\n",
    "            Dense(10),\n",
    "            Activation('relu'),\n",
    "\n",
    "        ])\n",
    "\n",
    "    # 2. 前向传播的过程\n",
    "    def call(self, inputs, training=None):\n",
    "        h = self.encoder(inputs)\n",
    "        x_hat = self.decoder(h)\n",
    "\n",
    "        return x_hat\n",
    "\n",
    "\n",
    "model_ae = ae_model()\n",
    "model_ae.build(input_shape=(None, 10))     \n",
    "model_ae.summary()\n"
   ]
  },
  {
   "cell_type": "code",
   "execution_count": 24,
   "metadata": {
    "scrolled": true
   },
   "outputs": [
    {
     "name": "stdout",
     "output_type": "stream",
     "text": [
      "Epoch 1/20\n",
      "275/275 [==============================] - 0s 1ms/step - loss: 0.0569 - mean_absolute_error: 0.1794\n",
      "Epoch 2/20\n",
      "275/275 [==============================] - 0s 871us/step - loss: 0.0119 - mean_absolute_error: 0.0811\n",
      "Epoch 3/20\n",
      "275/275 [==============================] - 0s 1ms/step - loss: 0.0050 - mean_absolute_error: 0.0530\n",
      "Epoch 4/20\n",
      "275/275 [==============================] - 0s 890us/step - loss: 0.0032 - mean_absolute_error: 0.0413\n",
      "Epoch 5/20\n",
      "275/275 [==============================] - 0s 813us/step - loss: 0.0023 - mean_absolute_error: 0.0333\n",
      "Epoch 6/20\n",
      "275/275 [==============================] - 0s 926us/step - loss: 0.0021 - mean_absolute_error: 0.0312\n",
      "Epoch 7/20\n",
      "275/275 [==============================] - 0s 882us/step - loss: 0.0020 - mean_absolute_error: 0.0300\n",
      "Epoch 8/20\n",
      "275/275 [==============================] - 0s 798us/step - loss: 0.0019 - mean_absolute_error: 0.0286\n",
      "Epoch 9/20\n",
      "275/275 [==============================] - 0s 928us/step - loss: 0.0018 - mean_absolute_error: 0.0278\n",
      "Epoch 10/20\n",
      "275/275 [==============================] - 0s 848us/step - loss: 0.0017 - mean_absolute_error: 0.0264\n",
      "Epoch 11/20\n",
      "275/275 [==============================] - 0s 758us/step - loss: 0.0016 - mean_absolute_error: 0.0261\n",
      "Epoch 12/20\n",
      "275/275 [==============================] - 0s 769us/step - loss: 0.0016 - mean_absolute_error: 0.0259\n",
      "Epoch 13/20\n",
      "275/275 [==============================] - 0s 893us/step - loss: 0.0016 - mean_absolute_error: 0.0257\n",
      "Epoch 14/20\n",
      "275/275 [==============================] - 0s 897us/step - loss: 0.0016 - mean_absolute_error: 0.0259\n",
      "Epoch 15/20\n",
      "275/275 [==============================] - 0s 995us/step - loss: 0.0016 - mean_absolute_error: 0.0252\n",
      "Epoch 16/20\n",
      "275/275 [==============================] - 0s 831us/step - loss: 0.0015 - mean_absolute_error: 0.0251\n",
      "Epoch 17/20\n",
      "275/275 [==============================] - 0s 788us/step - loss: 0.0015 - mean_absolute_error: 0.0247\n",
      "Epoch 18/20\n",
      "275/275 [==============================] - 0s 839us/step - loss: 0.0015 - mean_absolute_error: 0.0248\n",
      "Epoch 19/20\n",
      "275/275 [==============================] - 0s 937us/step - loss: 0.0015 - mean_absolute_error: 0.0251\n",
      "Epoch 20/20\n",
      "275/275 [==============================] - 0s 937us/step - loss: 0.0015 - mean_absolute_error: 0.0246\n"
     ]
    }
   ],
   "source": [
    "model_ae.compile(loss=tf.losses.MeanSquaredError(), optimizer=tf.optimizers.Adam(), metrics=[tf.metrics.MeanAbsoluteError()])\n",
    "history_ae = model_ae.fit(datas_scaled, datas_scaled , epochs = 20)"
   ]
  },
  {
   "cell_type": "code",
   "execution_count": 25,
   "metadata": {},
   "outputs": [
    {
     "name": "stdout",
     "output_type": "stream",
     "text": [
      "WARNING:tensorflow:Layer ae_model is casting an input tensor from dtype float64 to the layer's dtype of float32, which is new behavior in TensorFlow 2.  The layer has dtype float32 because its dtype defaults to floatx.\n",
      "\n",
      "If you intended to run this layer in float32, you can safely ignore this warning. If in doubt, this warning is likely only an issue if you are porting a TensorFlow 1.X model to TensorFlow 2.\n",
      "\n",
      "To change all layers to have dtype float64 by default, call `tf.keras.backend.set_floatx('float64')`. To change just this layer, pass dtype='float64' to the layer constructor. If you are the author of this layer, you can disable autocasting by passing autocast=False to the base Layer constructor.\n",
      "\n"
     ]
    }
   ],
   "source": [
    "MAPE_ae_FGSM = []\n",
    "r2Score_ae = []\n",
    "\n",
    "for level in levels:\n",
    "    x_adv = data_test + level*sign_grad\n",
    "    x_adv_reshape = tf.reshape(x_adv,[x_adv.shape[0]*x_adv.shape[1],x_adv.shape[2]])\n",
    "    x_adv = model_ae.predict(x_adv_reshape)\n",
    "    x_adv = tf.reshape(x_adv,[int(x_adv.shape[0]/win_length),win_length,x_adv.shape[1]])\n",
    "    y_adv = model(x_adv)\n",
    "\n",
    "    y_adv = scaler_output.inverse_transform(y_adv)\n",
    "\n",
    "    epsilon_ae = mean_absolute_percentage_error(datas_final[['D']].values,y_adv)\n",
    "    score_ae= r2_score(datas_final[['D']].values,y_adv)\n",
    "    MAPE_ae_FGSM.append(epsilon_ae)\n",
    "    r2Score_ae.append(score_ae)"
   ]
  },
  {
   "cell_type": "code",
   "execution_count": 26,
   "metadata": {},
   "outputs": [
    {
     "data": {
      "text/plain": [
       "(1747, 1)"
      ]
     },
     "execution_count": 26,
     "metadata": {},
     "output_type": "execute_result"
    }
   ],
   "source": [
    "y_adv.shape"
   ]
  },
  {
   "cell_type": "code",
   "execution_count": 27,
   "metadata": {},
   "outputs": [
    {
     "data": {
      "text/plain": [
       "Text(0.5, 1.0, 'Fast Gradient Sign Method')"
      ]
     },
     "execution_count": 27,
     "metadata": {},
     "output_type": "execute_result"
    },
    {
     "data": {
      "image/png": "[encoded data removed]",
      "text/plain": [
       "<Figure size 576x432 with 1 Axes>"
      ]
     },
     "metadata": {
      "needs_background": "light"
     },
     "output_type": "display_data"
    }
   ],
   "source": [
    "plt.figure(figsize=(8,6))\n",
    "plt.plot(levels, MAPE_FGSM, label=\"Without PCA\",marker='o');\n",
    "plt.plot(levels, MAPE_pca_FGSM, label=\"With PCA\",marker='o');\n",
    "plt.plot(levels, MAPE_ae_FGSM, label=\"With AE\",marker='o');\n",
    "# plt.plot(levels, r2Score_PCA, label=\"With PCA\",marker='o');\n",
    "plt.xlabel(\"Attack Level\",fontsize=15);\n",
    "plt.ylabel(\"MAPE\",fontsize=15);\n",
    "plt.legend(prop={'size': 15})\n",
    "plt.title(\"Fast Gradient Sign Method\")"
   ]
  },
  {
   "cell_type": "markdown",
   "metadata": {},
   "source": [
    "#  GAN defense"
   ]
  },
  {
   "cell_type": "code",
   "execution_count": 28,
   "metadata": {},
   "outputs": [
    {
     "name": "stdout",
     "output_type": "stream",
     "text": [
      "Model: \"generator\"\n",
      "_________________________________________________________________\n",
      "Layer (type)                 Output Shape              Param #   \n",
      "=================================================================\n",
      "sequential_4 (Sequential)    (None, 10)                630       \n",
      "=================================================================\n",
      "Total params: 630\n",
      "Trainable params: 630\n",
      "Non-trainable params: 0\n",
      "_________________________________________________________________\n"
     ]
    }
   ],
   "source": [
    "class generator(keras.Model):\n",
    "    \n",
    "    def __init__(self):\n",
    "        super(generator, self).__init__()  \n",
    "        \n",
    "        self.generator = Sequential([\n",
    "            Dense(10),\n",
    "            Activation('relu'),\n",
    "            Dense(20),\n",
    "            Activation('relu'),\n",
    "            Dense(10),\n",
    "            Activation('relu'),\n",
    "            Dense(10),\n",
    "#             Activation('relu'),\n",
    "\n",
    "        ])\n",
    "\n",
    "    def call(self, inputs, training=None):\n",
    "        x = self.generator(inputs)\n",
    "        return x\n",
    "dim_noise = 8\n",
    "G = generator()\n",
    "G.build(input_shape=(None, dim_noise))     \n",
    "G.summary()"
   ]
  },
  {
   "cell_type": "code",
   "execution_count": 29,
   "metadata": {},
   "outputs": [
    {
     "name": "stdout",
     "output_type": "stream",
     "text": [
      "Model: \"discriminator\"\n",
      "_________________________________________________________________\n",
      "Layer (type)                 Output Shape              Param #   \n",
      "=================================================================\n",
      "sequential_5 (Sequential)    (None, 1)                 551       \n",
      "=================================================================\n",
      "Total params: 551\n",
      "Trainable params: 551\n",
      "Non-trainable params: 0\n",
      "_________________________________________________________________\n"
     ]
    }
   ],
   "source": [
    "class discriminator(keras.Model):\n",
    "    def __init__(self):\n",
    "        super(discriminator, self).__init__()  \n",
    "        \n",
    "        self.discriminator = Sequential([\n",
    "            Dense(10),\n",
    "            Activation('relu'),\n",
    "            Dense(20),\n",
    "            Activation('relu'),\n",
    "            Dense(10),\n",
    "            Activation('relu'),\n",
    "            Dense(1),\n",
    "            Activation('sigmoid'),\n",
    "\n",
    "        ])\n",
    "\n",
    "    def call(self, inputs, training=None):\n",
    "        x = self.discriminator(inputs)\n",
    "        return x\n",
    "    \n",
    "D = discriminator()\n",
    "D.build(input_shape=(None, 10))     \n",
    "D.summary()"
   ]
  },
  {
   "cell_type": "code",
   "execution_count": 30,
   "metadata": {},
   "outputs": [],
   "source": [
    "cross_entropy = keras.losses.BinaryCrossentropy(from_logits=True)\n",
    "\n",
    "def discriminator_loss(real_out, fake_out):\n",
    "    real_loss = cross_entropy(tf.ones_like(real_out), real_out)\n",
    "    fake_loss = cross_entropy(tf.zeros_like(fake_out), fake_out)\n",
    "    return real_loss + fake_loss\n",
    "\n",
    "def generator_loss(fake_out):\n",
    "    return cross_entropy(tf.ones_like(fake_out), fake_out)\n",
    "\n",
    "#define the optimzers\n",
    "generator_opt = keras.optimizers.Adam(1e-2)\n",
    "discriminator_opt = keras.optimizers.Adam(1e-2)"
   ]
  },
  {
   "cell_type": "code",
   "execution_count": 31,
   "metadata": {},
   "outputs": [],
   "source": [
    "BATCH_SIZE = datas_scaled.shape[0]\n",
    "\n",
    "list_genLoss = []\n",
    "list_disLoss = []\n",
    "\n",
    "\n",
    "def train_step(data):\n",
    "    noise = tf.random.normal([BATCH_SIZE, dim_noise])\n",
    "    \n",
    "    with tf.GradientTape() as gen_tape, tf.GradientTape() as disc_tape:\n",
    "        real_out = D(data, training=True)\n",
    "    \n",
    "        gen_samples = G(noise, training=True)\n",
    "        fake_out = D(gen_samples, training=True)\n",
    "        \n",
    "        gen_loss = generator_loss(fake_out)\n",
    "#         print('gen_loss',gen_loss)\n",
    "        list_genLoss.append(gen_loss)\n",
    "        disc_loss = discriminator_loss(real_out, fake_out)\n",
    "        list_disLoss.append(disc_loss)\n",
    "        print('disc_loss',disc_loss)\n",
    "        \n",
    "    gradient_gen = gen_tape.gradient(gen_loss, G.trainable_variables)\n",
    "    gradient_disc = disc_tape.gradient(disc_loss, D.trainable_variables)\n",
    "    generator_opt.apply_gradients(zip(gradient_gen, G.trainable_variables))\n",
    "    discriminator_opt.apply_gradients(zip(gradient_disc, D.trainable_variables))\n"
   ]
  },
  {
   "cell_type": "code",
   "execution_count": 32,
   "metadata": {
    "scrolled": true
   },
   "outputs": [
    {
     "name": "stdout",
     "output_type": "stream",
     "text": [
      "WARNING:tensorflow:Layer discriminator is casting an input tensor from dtype float64 to the layer's dtype of float32, which is new behavior in TensorFlow 2.  The layer has dtype float32 because its dtype defaults to floatx.\n",
      "\n",
      "If you intended to run this layer in float32, you can safely ignore this warning. If in doubt, this warning is likely only an issue if you are porting a TensorFlow 1.X model to TensorFlow 2.\n",
      "\n",
      "To change all layers to have dtype float64 by default, call `tf.keras.backend.set_floatx('float64')`. To change just this layer, pass dtype='float64' to the layer constructor. If you are the author of this layer, you can disable autocasting by passing autocast=False to the base Layer constructor.\n",
      "\n",
      "disc_loss tf.Tensor(1.6712778, shape=(), dtype=float32)\n",
      "disc_loss tf.Tensor(1.6618686, shape=(), dtype=float32)\n",
      "disc_loss tf.Tensor(1.653434, shape=(), dtype=float32)\n",
      "disc_loss tf.Tensor(1.6430441, shape=(), dtype=float32)\n",
      "disc_loss tf.Tensor(1.6315095, shape=(), dtype=float32)\n",
      "disc_loss tf.Tensor(1.6200025, shape=(), dtype=float32)\n",
      "disc_loss tf.Tensor(1.6092143, shape=(), dtype=float32)\n",
      "disc_loss tf.Tensor(1.5981991, shape=(), dtype=float32)\n",
      "disc_loss tf.Tensor(1.58601, shape=(), dtype=float32)\n",
      "disc_loss tf.Tensor(1.5724982, shape=(), dtype=float32)\n",
      "disc_loss tf.Tensor(1.5574579, shape=(), dtype=float32)\n",
      "disc_loss tf.Tensor(1.5412706, shape=(), dtype=float32)\n",
      "disc_loss tf.Tensor(1.5242956, shape=(), dtype=float32)\n",
      "disc_loss tf.Tensor(1.5065677, shape=(), dtype=float32)\n",
      "disc_loss tf.Tensor(1.4891462, shape=(), dtype=float32)\n",
      "disc_loss tf.Tensor(1.4722025, shape=(), dtype=float32)\n",
      "disc_loss tf.Tensor(1.4558055, shape=(), dtype=float32)\n",
      "disc_loss tf.Tensor(1.4407372, shape=(), dtype=float32)\n",
      "disc_loss tf.Tensor(1.4284269, shape=(), dtype=float32)\n",
      "disc_loss tf.Tensor(1.4184585, shape=(), dtype=float32)\n",
      "disc_loss tf.Tensor(1.4107256, shape=(), dtype=float32)\n",
      "disc_loss tf.Tensor(1.404623, shape=(), dtype=float32)\n",
      "disc_loss tf.Tensor(1.3995522, shape=(), dtype=float32)\n",
      "disc_loss tf.Tensor(1.3953981, shape=(), dtype=float32)\n",
      "disc_loss tf.Tensor(1.3922391, shape=(), dtype=float32)\n",
      "disc_loss tf.Tensor(1.3899641, shape=(), dtype=float32)\n",
      "disc_loss tf.Tensor(1.388504, shape=(), dtype=float32)\n",
      "disc_loss tf.Tensor(1.3876054, shape=(), dtype=float32)\n",
      "disc_loss tf.Tensor(1.3870714, shape=(), dtype=float32)\n",
      "disc_loss tf.Tensor(1.3867435, shape=(), dtype=float32)\n",
      "disc_loss tf.Tensor(1.3865569, shape=(), dtype=float32)\n",
      "disc_loss tf.Tensor(1.386446, shape=(), dtype=float32)\n",
      "disc_loss tf.Tensor(1.3863846, shape=(), dtype=float32)\n",
      "disc_loss tf.Tensor(1.3863469, shape=(), dtype=float32)\n",
      "disc_loss tf.Tensor(1.3863254, shape=(), dtype=float32)\n",
      "disc_loss tf.Tensor(1.3863132, shape=(), dtype=float32)\n",
      "disc_loss tf.Tensor(1.3863057, shape=(), dtype=float32)\n",
      "disc_loss tf.Tensor(1.386301, shape=(), dtype=float32)\n",
      "disc_loss tf.Tensor(1.3862978, shape=(), dtype=float32)\n",
      "disc_loss tf.Tensor(1.3862958, shape=(), dtype=float32)\n",
      "disc_loss tf.Tensor(1.3862947, shape=(), dtype=float32)\n",
      "disc_loss tf.Tensor(1.3862936, shape=(), dtype=float32)\n",
      "disc_loss tf.Tensor(1.3862932, shape=(), dtype=float32)\n",
      "disc_loss tf.Tensor(1.3862928, shape=(), dtype=float32)\n",
      "disc_loss tf.Tensor(1.3862927, shape=(), dtype=float32)\n",
      "disc_loss tf.Tensor(1.3862925, shape=(), dtype=float32)\n",
      "disc_loss tf.Tensor(1.3862925, shape=(), dtype=float32)\n",
      "disc_loss tf.Tensor(1.3862923, shape=(), dtype=float32)\n",
      "disc_loss tf.Tensor(1.3862923, shape=(), dtype=float32)\n",
      "disc_loss tf.Tensor(1.3862922, shape=(), dtype=float32)\n",
      "disc_loss tf.Tensor(1.3862922, shape=(), dtype=float32)\n",
      "disc_loss tf.Tensor(1.3862922, shape=(), dtype=float32)\n",
      "disc_loss tf.Tensor(1.3862922, shape=(), dtype=float32)\n",
      "disc_loss tf.Tensor(1.3862922, shape=(), dtype=float32)\n",
      "disc_loss tf.Tensor(1.3862922, shape=(), dtype=float32)\n",
      "disc_loss tf.Tensor(1.3862922, shape=(), dtype=float32)\n",
      "disc_loss tf.Tensor(1.3862922, shape=(), dtype=float32)\n",
      "disc_loss tf.Tensor(1.3862922, shape=(), dtype=float32)\n",
      "disc_loss tf.Tensor(1.3862922, shape=(), dtype=float32)\n",
      "disc_loss tf.Tensor(1.3862922, shape=(), dtype=float32)\n",
      "disc_loss tf.Tensor(1.3862922, shape=(), dtype=float32)\n",
      "disc_loss tf.Tensor(1.3862922, shape=(), dtype=float32)\n",
      "disc_loss tf.Tensor(1.3862922, shape=(), dtype=float32)\n",
      "disc_loss tf.Tensor(1.3862922, shape=(), dtype=float32)\n",
      "disc_loss tf.Tensor(1.3862922, shape=(), dtype=float32)\n",
      "disc_loss tf.Tensor(1.3862922, shape=(), dtype=float32)\n",
      "disc_loss tf.Tensor(1.3862922, shape=(), dtype=float32)\n",
      "disc_loss tf.Tensor(1.3862922, shape=(), dtype=float32)\n",
      "disc_loss tf.Tensor(1.3862922, shape=(), dtype=float32)\n",
      "disc_loss tf.Tensor(1.3862922, shape=(), dtype=float32)\n",
      "disc_loss tf.Tensor(1.3862922, shape=(), dtype=float32)\n",
      "disc_loss tf.Tensor(1.3862922, shape=(), dtype=float32)\n",
      "disc_loss tf.Tensor(1.3862922, shape=(), dtype=float32)\n",
      "disc_loss tf.Tensor(1.3862922, shape=(), dtype=float32)\n",
      "disc_loss tf.Tensor(1.3862922, shape=(), dtype=float32)\n",
      "disc_loss tf.Tensor(1.3862922, shape=(), dtype=float32)\n",
      "disc_loss tf.Tensor(1.3862922, shape=(), dtype=float32)\n",
      "disc_loss tf.Tensor(1.3862922, shape=(), dtype=float32)\n",
      "disc_loss tf.Tensor(1.3862922, shape=(), dtype=float32)\n",
      "disc_loss tf.Tensor(1.3862922, shape=(), dtype=float32)\n",
      "disc_loss tf.Tensor(1.3862922, shape=(), dtype=float32)\n",
      "disc_loss tf.Tensor(1.3862922, shape=(), dtype=float32)\n",
      "disc_loss tf.Tensor(1.3862922, shape=(), dtype=float32)\n",
      "disc_loss tf.Tensor(1.3862922, shape=(), dtype=float32)\n",
      "disc_loss tf.Tensor(1.3862922, shape=(), dtype=float32)\n",
      "disc_loss tf.Tensor(1.3862922, shape=(), dtype=float32)\n",
      "disc_loss tf.Tensor(1.3862922, shape=(), dtype=float32)\n",
      "disc_loss tf.Tensor(1.3862922, shape=(), dtype=float32)\n",
      "disc_loss tf.Tensor(1.3862922, shape=(), dtype=float32)\n",
      "disc_loss tf.Tensor(1.3862922, shape=(), dtype=float32)\n",
      "disc_loss tf.Tensor(1.3862922, shape=(), dtype=float32)\n",
      "disc_loss tf.Tensor(1.3862922, shape=(), dtype=float32)\n",
      "disc_loss tf.Tensor(1.3862922, shape=(), dtype=float32)\n",
      "disc_loss tf.Tensor(1.3862922, shape=(), dtype=float32)\n",
      "disc_loss tf.Tensor(1.3862922, shape=(), dtype=float32)\n",
      "disc_loss tf.Tensor(1.3862922, shape=(), dtype=float32)\n",
      "disc_loss tf.Tensor(1.3862922, shape=(), dtype=float32)\n",
      "disc_loss tf.Tensor(1.3862922, shape=(), dtype=float32)\n",
      "disc_loss tf.Tensor(1.3862922, shape=(), dtype=float32)\n",
      "disc_loss tf.Tensor(1.3862922, shape=(), dtype=float32)\n",
      "disc_loss tf.Tensor(1.3862922, shape=(), dtype=float32)\n",
      "disc_loss tf.Tensor(1.3862922, shape=(), dtype=float32)\n",
      "disc_loss tf.Tensor(1.3862922, shape=(), dtype=float32)\n",
      "disc_loss tf.Tensor(1.3862922, shape=(), dtype=float32)\n",
      "disc_loss tf.Tensor(1.3862922, shape=(), dtype=float32)\n",
      "disc_loss tf.Tensor(1.3862922, shape=(), dtype=float32)\n",
      "disc_loss tf.Tensor(1.3862922, shape=(), dtype=float32)\n",
      "disc_loss tf.Tensor(1.3862922, shape=(), dtype=float32)\n",
      "disc_loss tf.Tensor(1.3862922, shape=(), dtype=float32)\n",
      "disc_loss tf.Tensor(1.3862922, shape=(), dtype=float32)\n",
      "disc_loss tf.Tensor(1.3862922, shape=(), dtype=float32)\n",
      "disc_loss tf.Tensor(1.3862922, shape=(), dtype=float32)\n",
      "disc_loss tf.Tensor(1.3862922, shape=(), dtype=float32)\n",
      "disc_loss tf.Tensor(1.3862922, shape=(), dtype=float32)\n",
      "disc_loss tf.Tensor(1.3862922, shape=(), dtype=float32)\n",
      "disc_loss tf.Tensor(1.3862922, shape=(), dtype=float32)\n",
      "disc_loss tf.Tensor(1.3862922, shape=(), dtype=float32)\n",
      "disc_loss tf.Tensor(1.3862922, shape=(), dtype=float32)\n",
      "disc_loss tf.Tensor(1.3862922, shape=(), dtype=float32)\n",
      "disc_loss tf.Tensor(1.3862922, shape=(), dtype=float32)\n",
      "disc_loss tf.Tensor(1.3862922, shape=(), dtype=float32)\n",
      "disc_loss tf.Tensor(1.3862922, shape=(), dtype=float32)\n",
      "disc_loss tf.Tensor(1.3862922, shape=(), dtype=float32)\n",
      "disc_loss tf.Tensor(1.3862922, shape=(), dtype=float32)\n",
      "disc_loss tf.Tensor(1.3862922, shape=(), dtype=float32)\n",
      "disc_loss tf.Tensor(1.3862922, shape=(), dtype=float32)\n",
      "disc_loss tf.Tensor(1.3862922, shape=(), dtype=float32)\n",
      "disc_loss tf.Tensor(1.3862922, shape=(), dtype=float32)\n",
      "disc_loss tf.Tensor(1.3862922, shape=(), dtype=float32)\n",
      "disc_loss tf.Tensor(1.3862922, shape=(), dtype=float32)\n",
      "disc_loss tf.Tensor(1.3862922, shape=(), dtype=float32)\n",
      "disc_loss tf.Tensor(1.3862922, shape=(), dtype=float32)\n",
      "disc_loss tf.Tensor(1.3862922, shape=(), dtype=float32)\n",
      "disc_loss tf.Tensor(1.3862922, shape=(), dtype=float32)\n",
      "disc_loss tf.Tensor(1.3862922, shape=(), dtype=float32)\n",
      "disc_loss tf.Tensor(1.3862922, shape=(), dtype=float32)\n"
     ]
    },
    {
     "name": "stdout",
     "output_type": "stream",
     "text": [
      "disc_loss tf.Tensor(1.3862922, shape=(), dtype=float32)\n",
      "disc_loss tf.Tensor(1.3862922, shape=(), dtype=float32)\n",
      "disc_loss tf.Tensor(1.3862922, shape=(), dtype=float32)\n",
      "disc_loss tf.Tensor(1.3862922, shape=(), dtype=float32)\n",
      "disc_loss tf.Tensor(1.3862922, shape=(), dtype=float32)\n",
      "disc_loss tf.Tensor(1.3862922, shape=(), dtype=float32)\n",
      "disc_loss tf.Tensor(1.3862922, shape=(), dtype=float32)\n",
      "disc_loss tf.Tensor(1.3862922, shape=(), dtype=float32)\n",
      "disc_loss tf.Tensor(1.3862922, shape=(), dtype=float32)\n",
      "disc_loss tf.Tensor(1.3862922, shape=(), dtype=float32)\n",
      "disc_loss tf.Tensor(1.3862922, shape=(), dtype=float32)\n",
      "disc_loss tf.Tensor(1.3862922, shape=(), dtype=float32)\n",
      "disc_loss tf.Tensor(1.3862922, shape=(), dtype=float32)\n",
      "disc_loss tf.Tensor(1.3862922, shape=(), dtype=float32)\n",
      "disc_loss tf.Tensor(1.3862922, shape=(), dtype=float32)\n",
      "disc_loss tf.Tensor(1.3862922, shape=(), dtype=float32)\n",
      "disc_loss tf.Tensor(1.3862922, shape=(), dtype=float32)\n",
      "disc_loss tf.Tensor(1.3862922, shape=(), dtype=float32)\n",
      "disc_loss tf.Tensor(1.3862922, shape=(), dtype=float32)\n",
      "disc_loss tf.Tensor(1.3862922, shape=(), dtype=float32)\n",
      "disc_loss tf.Tensor(1.3862922, shape=(), dtype=float32)\n",
      "disc_loss tf.Tensor(1.3862922, shape=(), dtype=float32)\n",
      "disc_loss tf.Tensor(1.3862922, shape=(), dtype=float32)\n",
      "disc_loss tf.Tensor(1.3862922, shape=(), dtype=float32)\n",
      "disc_loss tf.Tensor(1.3862922, shape=(), dtype=float32)\n",
      "disc_loss tf.Tensor(1.3862922, shape=(), dtype=float32)\n",
      "disc_loss tf.Tensor(1.3862922, shape=(), dtype=float32)\n",
      "disc_loss tf.Tensor(1.3862922, shape=(), dtype=float32)\n",
      "disc_loss tf.Tensor(1.3862922, shape=(), dtype=float32)\n",
      "disc_loss tf.Tensor(1.3862922, shape=(), dtype=float32)\n",
      "disc_loss tf.Tensor(1.3862922, shape=(), dtype=float32)\n",
      "disc_loss tf.Tensor(1.3862922, shape=(), dtype=float32)\n",
      "disc_loss tf.Tensor(1.3862922, shape=(), dtype=float32)\n",
      "disc_loss tf.Tensor(1.3862922, shape=(), dtype=float32)\n",
      "disc_loss tf.Tensor(1.3862922, shape=(), dtype=float32)\n",
      "disc_loss tf.Tensor(1.3862922, shape=(), dtype=float32)\n",
      "disc_loss tf.Tensor(1.3862922, shape=(), dtype=float32)\n",
      "disc_loss tf.Tensor(1.3862922, shape=(), dtype=float32)\n",
      "disc_loss tf.Tensor(1.3862922, shape=(), dtype=float32)\n",
      "disc_loss tf.Tensor(1.3862922, shape=(), dtype=float32)\n",
      "disc_loss tf.Tensor(1.3862922, shape=(), dtype=float32)\n",
      "disc_loss tf.Tensor(1.3862922, shape=(), dtype=float32)\n",
      "disc_loss tf.Tensor(1.3862922, shape=(), dtype=float32)\n",
      "disc_loss tf.Tensor(1.3862922, shape=(), dtype=float32)\n",
      "disc_loss tf.Tensor(1.3862922, shape=(), dtype=float32)\n",
      "disc_loss tf.Tensor(1.3862922, shape=(), dtype=float32)\n",
      "disc_loss tf.Tensor(1.3862922, shape=(), dtype=float32)\n",
      "disc_loss tf.Tensor(1.3862922, shape=(), dtype=float32)\n",
      "disc_loss tf.Tensor(1.3862922, shape=(), dtype=float32)\n",
      "disc_loss tf.Tensor(1.3862922, shape=(), dtype=float32)\n",
      "disc_loss tf.Tensor(1.3862922, shape=(), dtype=float32)\n",
      "disc_loss tf.Tensor(1.3862922, shape=(), dtype=float32)\n",
      "disc_loss tf.Tensor(1.3862922, shape=(), dtype=float32)\n",
      "disc_loss tf.Tensor(1.3862922, shape=(), dtype=float32)\n",
      "disc_loss tf.Tensor(1.3862922, shape=(), dtype=float32)\n",
      "disc_loss tf.Tensor(1.3862922, shape=(), dtype=float32)\n",
      "disc_loss tf.Tensor(1.3862922, shape=(), dtype=float32)\n",
      "disc_loss tf.Tensor(1.3862922, shape=(), dtype=float32)\n",
      "disc_loss tf.Tensor(1.3862922, shape=(), dtype=float32)\n",
      "disc_loss tf.Tensor(1.3862922, shape=(), dtype=float32)\n",
      "disc_loss tf.Tensor(1.3862922, shape=(), dtype=float32)\n",
      "disc_loss tf.Tensor(1.3862922, shape=(), dtype=float32)\n",
      "disc_loss tf.Tensor(1.3862922, shape=(), dtype=float32)\n",
      "disc_loss tf.Tensor(1.3862922, shape=(), dtype=float32)\n"
     ]
    }
   ],
   "source": [
    "# GAN training\n",
    "EPOCHS = 200  \n",
    "\n",
    "def train(dataset, epochs):\n",
    "    for epoch in range(epochs):\n",
    "        train_step(dataset)\n",
    "#         print('.', end='')\n",
    "        \n",
    "# train(datas_scaled, EPOCHS)\n",
    "\n",
    "\n",
    "train(data, EPOCHS)"
   ]
  },
  {
   "cell_type": "code",
   "execution_count": 33,
   "metadata": {},
   "outputs": [
    {
     "data": {
      "text/plain": [
       "<matplotlib.legend.Legend at 0x1f52f715580>"
      ]
     },
     "execution_count": 33,
     "metadata": {},
     "output_type": "execute_result"
    },
    {
     "data": {
      "image/png": "[encoded data removed]",
      "text/plain": [
       "<Figure size 432x288 with 1 Axes>"
      ]
     },
     "metadata": {
      "needs_background": "light"
     },
     "output_type": "display_data"
    }
   ],
   "source": [
    "plt.plot(range(EPOCHS),list_genLoss,label = 'd_loss')\n",
    "plt.plot(range(EPOCHS),list_disLoss,label = 'g_loss')\n",
    "plt.legend()"
   ]
  },
  {
   "cell_type": "code",
   "execution_count": 34,
   "metadata": {},
   "outputs": [
    {
     "name": "stdout",
     "output_type": "stream",
     "text": [
      "[0.3650040548925881, 0.3644439840050197, 0.3666034498181629, 0.3664551411262409, 0.36572402772296975]\n"
     ]
    }
   ],
   "source": [
    "####### GAN-based denosing######\n",
    "MAPE_GAN_FGSM = []\n",
    "r2Score_GAN = []\n",
    "num_iter = 500\n",
    "lr_z = 1e-2\n",
    "\n",
    "\n",
    "for level in levels:\n",
    "    x_adv = data_test + level*sign_grad\n",
    "    x_adv_re = tf.reshape(x_adv , [x_adv.shape[0]*x_adv.shape[1], x_adv.shape[2]])\n",
    "    z = tf.random.normal([x_adv.shape[0]*x_adv.shape[1], dim_noise])\n",
    "    for i in range(num_iter):\n",
    "        with tf.GradientTape() as g:\n",
    "            g.watch(z)\n",
    "            x_gen = G(z)\n",
    "\n",
    "            x_gen = tf.cast(x_gen,dtype=tf.float64)\n",
    "            loss = tf.square(x_adv_re - x_gen)\n",
    "            gradient_adv = g.gradient(loss, z)\n",
    "            z = z - lr_z*gradient_adv\n",
    "#             print(gradient_adv.shape)\n",
    "    x_gen = G(z)\n",
    "   \n",
    "    x_gen = tf.reshape(x_gen,[int(x_gen.shape[0]/win_length),win_length,x_gen.shape[1]])\n",
    "    y_adv = model(x_gen)\n",
    "    \n",
    "    y_adv = scaler_output.inverse_transform(y_adv)\n",
    "    \n",
    "    epsilon_GAN = mean_absolute_percentage_error(datas_final[['D']].values,y_adv)\n",
    "    score_GAN= r2_score(datas_final[['D']].values,y_adv)\n",
    "    MAPE_GAN_FGSM.append(epsilon_GAN)\n",
    "    r2Score_GAN.append(score_GAN)\n",
    "    \n",
    "    \n",
    "    \n",
    "\n",
    "print(MAPE_GAN_FGSM)"
   ]
  },
  {
   "cell_type": "code",
   "execution_count": 35,
   "metadata": {},
   "outputs": [
    {
     "name": "stdout",
     "output_type": "stream",
     "text": [
      "[[39461.11142033]\n",
      " [38329.75831085]\n",
      " [38001.75569648]\n",
      " ...\n",
      " [37176.39831239]\n",
      " [39413.29930031]\n",
      " [39849.53047717]]\n"
     ]
    }
   ],
   "source": [
    "print(y_adv)"
   ]
  },
  {
   "cell_type": "code",
   "execution_count": 36,
   "metadata": {},
   "outputs": [
    {
     "name": "stdout",
     "output_type": "stream",
     "text": [
      "[[28610.]\n",
      " [30009.]\n",
      " [30575.]\n",
      " ...\n",
      " [29934.]\n",
      " [28669.]\n",
      " [27497.]]\n"
     ]
    }
   ],
   "source": [
    "print(datas_final[['D']].values)"
   ]
  },
  {
   "cell_type": "code",
   "execution_count": 37,
   "metadata": {
    "scrolled": true
   },
   "outputs": [
    {
     "data": {
      "text/plain": [
       "Text(0.5, 1.0, 'Fast Gradient Sign Method')"
      ]
     },
     "execution_count": 37,
     "metadata": {},
     "output_type": "execute_result"
    },
    {
     "data": {
      "image/png": "[encoded data removed]",
      "text/plain": [
       "<Figure size 576x432 with 1 Axes>"
      ]
     },
     "metadata": {
      "needs_background": "light"
     },
     "output_type": "display_data"
    }
   ],
   "source": [
    "plt.figure(figsize=(8,6))\n",
    "plt.plot(levels, MAPE_FGSM, label=\"Without defense\",marker='o');\n",
    "plt.plot(levels, MAPE_pca_FGSM, label=\"With PCA\",marker='o');\n",
    "plt.plot(levels, MAPE_ae_FGSM, label=\"With AE\",marker='o');\n",
    "plt.plot(levels, MAPE_GAN_FGSM, label=\"With GAN\",marker='o');\n",
    "plt.xlabel(\"Attack Level\",fontsize=15);\n",
    "plt.ylabel(\"MAPE\",fontsize=15);\n",
    "plt.legend(prop={'size': 15})\n",
    "plt.title(\"Fast Gradient Sign Method\")"
   ]
  },
  {
   "cell_type": "markdown",
   "metadata": {},
   "source": [
    "G.save('Generator_EIA')"
   ]
  },
  {
   "cell_type": "code",
   "execution_count": null,
   "metadata": {},
   "outputs": [],
   "source": []
  }
 ],
 "metadata": {
  "kernelspec": {
   "display_name": "Python [conda env:python385]",
   "language": "python",
   "name": "conda-env-python385-py"
  },
  "language_info": {
   "codemirror_mode": {
    "name": "ipython",
    "version": 3
   },
   "file_extension": ".py",
   "mimetype": "text/x-python",
   "name": "python",
   "nbconvert_exporter": "python",
   "pygments_lexer": "ipython3",
   "version": "3.8.5"
  }
 },
 "nbformat": 4,
 "nbformat_minor": 4
}
